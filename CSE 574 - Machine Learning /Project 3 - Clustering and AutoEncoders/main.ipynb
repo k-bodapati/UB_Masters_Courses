{
 "cells": [
  {
   "cell_type": "markdown",
   "metadata": {},
   "source": [
    "# Name - Krishna Naga Karthik BODAPATI\n",
    "# UBID - kbodapat\n"
   ]
  },
  {
   "cell_type": "markdown",
   "metadata": {
    "colab_type": "text",
    "id": "zJ6oryHwnjQE"
   },
   "source": [
    "## Task 1 - Kmeans\n"
   ]
  },
  {
   "cell_type": "code",
   "execution_count": 0,
   "metadata": {
    "colab": {},
    "colab_type": "code",
    "id": "A_OH2sKVnZsZ"
   },
   "outputs": [],
   "source": [
    "from keras.datasets import fashion_mnist\n",
    "import keras\n",
    "import numpy as np\n",
    "from pandas import DataFrame as df\n",
    "from sklearn.cluster import KMeans\n",
    "from sklearn.metrics import *\n",
    "from keras.layers import Input, Dense\n",
    "from keras.models import Model\n",
    "from sklearn.mixture import GaussianMixture\n",
    "import matplotlib.pyplot as plt\n",
    "import random\n",
    "\n",
    "\n",
    "\n",
    "(x_train, y_train), (x_test, y_test) = fashion_mnist.load_data()\n",
    "(x_train, y_train), (x_test, y_test) = fashion_mnist.load_data()\n"
   ]
  },
  {
   "cell_type": "code",
   "execution_count": 0,
   "metadata": {
    "colab": {},
    "colab_type": "code",
    "id": "suMf9iFDnxYE"
   },
   "outputs": [],
   "source": [
    "x_train = x_train.reshape((60000,784))\n",
    "x_test = x_test.reshape((10000,784))\n",
    "\n",
    "x_train = x_train/255.0\n",
    "x_test = x_test/255.0"
   ]
  },
  {
   "cell_type": "code",
   "execution_count": 0,
   "metadata": {
    "colab": {},
    "colab_type": "code",
    "id": "E5bxWaZ0n8h_"
   },
   "outputs": [],
   "source": [
    "kmeans = KMeans(n_clusters = 10, init=\"random\", random_state=73).fit(x_train)"
   ]
  },
  {
   "cell_type": "code",
   "execution_count": 0,
   "metadata": {
    "colab": {},
    "colab_type": "code",
    "id": "pWzvPe7SoQSG"
   },
   "outputs": [],
   "source": [
    "y_pred_train = kmeans.predict(x_train)\n",
    "y_pred_test = kmeans.predict(x_test)"
   ]
  },
  {
   "cell_type": "code",
   "execution_count": 0,
   "metadata": {
    "colab": {
     "base_uri": "https://localhost:8080/",
     "height": 194
    },
    "colab_type": "code",
    "executionInfo": {
     "elapsed": 1205,
     "status": "ok",
     "timestamp": 1573659081672,
     "user": {
      "displayName": "Karthik Bodapati",
      "photoUrl": "https://lh3.googleusercontent.com/a-/AAuE7mAeBc-z1JJcE6uxpBU15sar0nG7rKS5UHd6ToJ9EA=s64",
      "userId": "16344061707883524589"
     },
     "user_tz": 300
    },
    "id": "OOsAk1kxobtH",
    "outputId": "00591d3b-f7a2-41cc-8b0c-7587f5232aac"
   },
   "outputs": [
    {
     "data": {
      "text/plain": [
       "array([[   0,  593,    0,   23,    2, 1583,  201,  167,   27, 3404],\n",
       "       [   0,  156,    0,    3,    0,  129, 5413,   63,    0,  236],\n",
       "       [   1,  515,    0,   27,    1, 1786,    9, 3519,   27,  115],\n",
       "       [   0,  522,    0,    5,    0,  524, 3209,   49,    7, 1684],\n",
       "       [   0,  252,    0,   15,    0, 1081,  154, 3596,   29,  873],\n",
       "       [ 259, 3773,  476,    4, 1443,   29,    1,    0,   13,    2],\n",
       "       [   1,  774,    0,   62,    6, 2071,   62, 1954,   17, 1053],\n",
       "       [  25,  511,  766,    1, 4697,    0,    0,    0,    0,    0],\n",
       "       [   6,  496,   63, 2202,  237,  228,   28,  269, 2449,   22],\n",
       "       [2646,  170, 2962,    4,  177,   36,    2,    1,    0,    2]])"
      ]
     },
     "execution_count": 8,
     "metadata": {
      "tags": []
     },
     "output_type": "execute_result"
    }
   ],
   "source": [
    "#confusion matrix before mapping labels\n",
    "confusion_matrix(y_train, y_pred_train)"
   ]
  },
  {
   "cell_type": "markdown",
   "metadata": {
    "colab_type": "text",
    "id": "FmuqJIak6RsP"
   },
   "source": [
    "\n",
    "\n",
    "```\n",
    "Mapping Clusters to category labels\n",
    "first changing all cluster number from 0-9 to 10-19\n",
    "then mapping them to the clusters they belong\n",
    "\n",
    "\n",
    "\n",
    "cluster 0 ----> label 9\n",
    "cluster 1 ----> label 5\n",
    "cluster 2 ----> label 9\n",
    "cluster 3 ----> label 8\n",
    "cluster 4 ----> label 7\n",
    "cluster 5 ----> label 6\n",
    "cluster 6 ----> label 1\n",
    "cluster 7 ----> label 4\n",
    "cluster 8 ----> label 8\n",
    "cluster 9 ----> label 0\n",
    "\n",
    "both cluster 3 and 8 map to label 8 \n",
    "both cluster 0 and 2 map to label 9\n",
    "label 2 and label 3 donot map to neither\n",
    "for now lets map label 2 to cluster 0 and label 3 to cluster 8\n",
    "```\n",
    "\n"
   ]
  },
  {
   "cell_type": "code",
   "execution_count": 0,
   "metadata": {
    "colab": {},
    "colab_type": "code",
    "id": "fPmfuqcAx45B"
   },
   "outputs": [],
   "source": [
    "# changing y_prediction (test) labels\n",
    "iter = 0\n",
    "for i in range(0,10000):\n",
    "    if y_pred_test[i] == 0:\n",
    "        y_pred_test[i] ==10\n",
    "    elif y_pred_test[i] == 1:\n",
    "        y_pred_test[i] = 11\n",
    "    elif y_pred_test[i] == 2:\n",
    "        y_pred_test[i] = 12\n",
    "    elif y_pred_test[i] == 3:\n",
    "        y_pred_test[i] = 13\n",
    "    elif y_pred_test[i] == 4:\n",
    "        y_pred_test[i] = 14\n",
    "    elif y_pred_test[i] == 5:\n",
    "        y_pred_test[i] = 15\n",
    "    elif y_pred_test[i] == 6:\n",
    "        y_pred_test[i] = 16\n",
    "    elif y_pred_test[i] == 7:\n",
    "        y_pred_test[i] = 17\n",
    "    elif y_pred_test[i] == 8:\n",
    "        y_pred_test[i] = 18\n",
    "    elif y_pred_test[i] == 9:\n",
    "        y_pred_test[i] = 19\n",
    "\n",
    "    if y_pred_test[i] == 10:\n",
    "        y_pred_test[i] ==2\n",
    "    elif y_pred_test[i] == 11:\n",
    "        y_pred_test[i] = 5\n",
    "    elif y_pred_test[i] == 12:\n",
    "        y_pred_test[i] = 9\n",
    "    elif y_pred_test[i] == 13:\n",
    "        y_pred_test[i] = 8\n",
    "    elif y_pred_test[i] == 14:\n",
    "        y_pred_test[i] = 7\n",
    "    elif y_pred_test[i] == 15:\n",
    "        y_pred_test[i] = 6\n",
    "    elif y_pred_test[i] == 16:\n",
    "        y_pred_test[i] = 1\n",
    "    elif y_pred_test[i] == 17:\n",
    "        y_pred_test[i] = 4\n",
    "    elif y_pred_test[i] == 18:\n",
    "        y_pred_test[i] = 3\n",
    "    elif y_pred_test[i] == 19:\n",
    "        y_pred_test[i] = 0\n",
    "\n",
    "# changing y_prediction (train) labels\n",
    "iter = 0\n",
    "for i in range(0,60000):\n",
    "    if y_pred_train[i] == 0:\n",
    "        y_pred_train[i] ==10\n",
    "    elif y_pred_train[i] == 1:\n",
    "        y_pred_train[i] = 11\n",
    "    elif y_pred_train[i] == 2:\n",
    "        y_pred_train[i] = 12\n",
    "    elif y_pred_train[i] == 3:\n",
    "        y_pred_train[i] = 13\n",
    "    elif y_pred_train[i] == 4:\n",
    "        y_pred_train[i] = 14\n",
    "    elif y_pred_train[i] == 5:\n",
    "        y_pred_train[i] = 15\n",
    "    elif y_pred_train[i] == 6:\n",
    "        y_pred_train[i] = 16\n",
    "    elif y_pred_train[i] == 7:\n",
    "        y_pred_train[i] = 17\n",
    "    elif y_pred_train[i] == 8:\n",
    "        y_pred_train[i] = 18\n",
    "    elif y_pred_train[i] == 9:\n",
    "        y_pred_train[i] = 19\n",
    "\n",
    "    if y_pred_train[i] == 10:\n",
    "        y_pred_train[i] ==2\n",
    "    elif y_pred_train[i] == 11:\n",
    "        y_pred_train[i] = 5\n",
    "    elif y_pred_train[i] == 12:\n",
    "        y_pred_train[i] = 9\n",
    "    elif y_pred_train[i] == 13:\n",
    "        y_pred_train[i] = 8\n",
    "    elif y_pred_train[i] == 14:\n",
    "        y_pred_train[i] = 7\n",
    "    elif y_pred_train[i] == 15:\n",
    "        y_pred_train[i] = 6\n",
    "    elif y_pred_train[i] == 16:\n",
    "        y_pred_train[i] = 1\n",
    "    elif y_pred_train[i] == 17:\n",
    "        y_pred_train[i] = 4\n",
    "    elif y_pred_train[i] == 18:\n",
    "        y_pred_train[i] = 3\n",
    "    elif y_pred_train[i] == 19:\n",
    "        y_pred_train[i] = 0\n",
    "\n"
   ]
  },
  {
   "cell_type": "markdown",
   "metadata": {
    "colab_type": "text",
    "id": "1UdCs__F5CWA"
   },
   "source": [
    "Looks good for all clusters except cluster 3 and cluster 4 -> which do not map to any label"
   ]
  },
  {
   "cell_type": "code",
   "execution_count": 0,
   "metadata": {
    "colab": {
     "base_uri": "https://localhost:8080/",
     "height": 194
    },
    "colab_type": "code",
    "executionInfo": {
     "elapsed": 818,
     "status": "ok",
     "timestamp": 1573659113186,
     "user": {
      "displayName": "Karthik Bodapati",
      "photoUrl": "https://lh3.googleusercontent.com/a-/AAuE7mAeBc-z1JJcE6uxpBU15sar0nG7rKS5UHd6ToJ9EA=s64",
      "userId": "16344061707883524589"
     },
     "user_tz": 300
    },
    "id": "pqI8Y1zqtjMS",
    "outputId": "53d42dd3-c22d-49a3-e88d-7a0a1b5c3f3a"
   },
   "outputs": [
    {
     "data": {
      "text/plain": [
       "array([[587,  29,   0,   5,  34,  93, 245,   1,   6,   0],\n",
       "       [ 50, 890,   0,   0,   9,  22,  29,   0,   0,   0],\n",
       "       [ 19,   4,   0,   4, 566,  61, 342,   0,   4,   0],\n",
       "       [277, 503,   0,   3,  10,  92, 113,   0,   2,   0],\n",
       "       [136,  27,   0,   5, 627,  42, 159,   0,   4,   0],\n",
       "       [ 44,   0,   0,   0,   0, 651,   6, 228,   0,  71],\n",
       "       [189,  12,   0,   0, 311, 115, 358,   0,  15,   0],\n",
       "       [  2,   0,   0,   0,   0,  62,   0, 789,   0, 147],\n",
       "       [  4,   6,   0, 408,  62,  84,  36,  41, 351,   8],\n",
       "       [412,   0,   0,   2,   0,  29,   4,  25,   0, 528]])"
      ]
     },
     "execution_count": 10,
     "metadata": {
      "tags": []
     },
     "output_type": "execute_result"
    }
   ],
   "source": [
    "# confusion matrix after mapping variables\n",
    "confusion_matrix(y_test, y_pred_test)\n"
   ]
  },
  {
   "cell_type": "code",
   "execution_count": 0,
   "metadata": {
    "colab": {
     "base_uri": "https://localhost:8080/",
     "height": 52
    },
    "colab_type": "code",
    "executionInfo": {
     "elapsed": 767,
     "status": "ok",
     "timestamp": 1573659120460,
     "user": {
      "displayName": "Karthik Bodapati",
      "photoUrl": "https://lh3.googleusercontent.com/a-/AAuE7mAeBc-z1JJcE6uxpBU15sar0nG7rKS5UHd6ToJ9EA=s64",
      "userId": "16344061707883524589"
     },
     "user_tz": 300
    },
    "id": "pqzcFNnpopFK",
    "outputId": "e8353539-f258-4f8d-d376-ef0923477214"
   },
   "outputs": [
    {
     "name": "stdout",
     "output_type": "stream",
     "text": [
      "Test Accuarcy -  0.4784\n",
      "Train Accuarcy -  0.46875\n"
     ]
    }
   ],
   "source": [
    "print (\"Test Accuarcy - \",accuracy_score(y_test, y_pred_test))\n",
    "print (\"Train Accuarcy - \",accuracy_score(y_train, y_pred_train))"
   ]
  },
  {
   "cell_type": "markdown",
   "metadata": {
    "colab_type": "text",
    "id": "yag1iigr6Chd"
   },
   "source": [
    "##### The Following code is used for getting samples from clusters"
   ]
  },
  {
   "cell_type": "code",
   "execution_count": 0,
   "metadata": {
    "colab": {},
    "colab_type": "code",
    "id": "nu2D9S1as6FC"
   },
   "outputs": [],
   "source": [
    "clustered_data = np.insert(x_train,0,kmeans.labels_,axis=1)\n",
    "iter = 0\n",
    "label_0 = []\n",
    "label_1 = []\n",
    "label_2 = []\n",
    "label_3 = []\n",
    "label_4 = []\n",
    "label_5 = []\n",
    "label_6 = []\n",
    "label_7 = []\n",
    "label_8 = []\n",
    "label_9 = []\n",
    "\n",
    "for row in clustered_data:\n",
    "    if row[0] == 1:\n",
    "        label_1.append(row[1:])\n",
    "    elif row[0] == 2:\n",
    "        label_2.append(row[1:])\n",
    "    elif row[0] == 3:\n",
    "        label_3.append(row[1:])\n",
    "    elif row[0] == 4:\n",
    "        label_4.append(row[1:])\n",
    "    elif row[0] == 5:\n",
    "        label_5.append(row[1:])\n",
    "    elif row[0] == 6:\n",
    "        label_6.append(row[1:])\n",
    "    elif row[0] == 7:\n",
    "        label_7.append(row[1:])\n",
    "    elif row[0] == 8:\n",
    "        label_8.append(row[1:])\n",
    "    elif row[0] == 9:\n",
    "        label_9.append(row[1:])\n",
    "    elif row[0] == 0:\n",
    "        label_0.append(row[1:])\n",
    "\n"
   ]
  },
  {
   "cell_type": "code",
   "execution_count": 0,
   "metadata": {
    "colab": {
     "base_uri": "https://localhost:8080/",
     "height": 268
    },
    "colab_type": "code",
    "executionInfo": {
     "elapsed": 2348,
     "status": "ok",
     "timestamp": 1573659130192,
     "user": {
      "displayName": "Karthik Bodapati",
      "photoUrl": "https://lh3.googleusercontent.com/a-/AAuE7mAeBc-z1JJcE6uxpBU15sar0nG7rKS5UHd6ToJ9EA=s64",
      "userId": "16344061707883524589"
     },
     "user_tz": 300
    },
    "id": "EHrmT14mtusw",
    "outputId": "cdb8bb4d-2ada-4fc4-c894-946aaf625d0f"
   },
   "outputs": [
    {
     "data": {
      "image/png": "[encoded data removed]",
      "text/plain": [
       "<Figure size 432x288 with 20 Axes>"
      ]
     },
     "metadata": {
      "tags": []
     },
     "output_type": "display_data"
    }
   ],
   "source": [
    "sample = random.sample(range(0, len(label_0)), 20)\n",
    "fig=plt.figure()\n",
    "i = 0\n",
    "for ele in sample:\n",
    "    i += 1\n",
    "    img = (label_0[ele].reshape(28,28))\n",
    "    fig.add_subplot(4,5,i)\n",
    "    plt.imshow(img)\n",
    "plt.show()"
   ]
  },
  {
   "cell_type": "markdown",
   "metadata": {
    "colab_type": "text",
    "id": "H5wRfaQx6srs"
   },
   "source": [
    "## Task 2 - Kmeans with auto encoder"
   ]
  },
  {
   "cell_type": "code",
   "execution_count": 0,
   "metadata": {
    "colab": {},
    "colab_type": "code",
    "id": "DjDzkA1X0Xt_"
   },
   "outputs": [],
   "source": [
    "from keras.datasets import fashion_mnist\n",
    "import keras\n",
    "import numpy as np\n",
    "from pandas import DataFrame as df\n",
    "from sklearn.cluster import KMeans\n",
    "from sklearn.metrics import *\n",
    "from keras.layers import Input, Dense\n",
    "from keras.models import Model\n",
    "from sklearn.mixture import GaussianMixture\n",
    "import matplotlib.pyplot as plt\n",
    "import random\n",
    "\n",
    "\n",
    "(x_train, y_train), (x_test, y_test) = fashion_mnist.load_data()\n",
    "(x_train, y_train), (x_test, y_test) = fashion_mnist.load_data()"
   ]
  },
  {
   "cell_type": "code",
   "execution_count": 0,
   "metadata": {
    "colab": {},
    "colab_type": "code",
    "id": "vH-o_K5y636d"
   },
   "outputs": [],
   "source": [
    "x_train = x_train.reshape((60000,784))\n",
    "x_test = x_test.reshape((10000,784))\n",
    "\n",
    "x_train = x_train/255.0\n",
    "x_test = x_test/255.0"
   ]
  },
  {
   "cell_type": "markdown",
   "metadata": {
    "colab_type": "text",
    "id": "pXV56_iXSNP1"
   },
   "source": [
    "#### Task 2 using Single layer Autoencoder"
   ]
  },
  {
   "cell_type": "code",
   "execution_count": 0,
   "metadata": {
    "colab": {
     "base_uri": "https://localhost:8080/",
     "height": 178
    },
    "colab_type": "code",
    "executionInfo": {
     "elapsed": 936,
     "status": "ok",
     "timestamp": 1573659144837,
     "user": {
      "displayName": "Karthik Bodapati",
      "photoUrl": "https://lh3.googleusercontent.com/a-/AAuE7mAeBc-z1JJcE6uxpBU15sar0nG7rKS5UHd6ToJ9EA=s64",
      "userId": "16344061707883524589"
     },
     "user_tz": 300
    },
    "id": "VBRj_dmK66re",
    "outputId": "79adddab-068c-4b40-b8a3-d5ac1eb856c8"
   },
   "outputs": [
    {
     "name": "stdout",
     "output_type": "stream",
     "text": [
      "WARNING:tensorflow:From /usr/local/lib/python3.6/dist-packages/keras/backend/tensorflow_backend.py:66: The name tf.get_default_graph is deprecated. Please use tf.compat.v1.get_default_graph instead.\n",
      "\n",
      "WARNING:tensorflow:From /usr/local/lib/python3.6/dist-packages/keras/backend/tensorflow_backend.py:541: The name tf.placeholder is deprecated. Please use tf.compat.v1.placeholder instead.\n",
      "\n",
      "WARNING:tensorflow:From /usr/local/lib/python3.6/dist-packages/keras/backend/tensorflow_backend.py:4432: The name tf.random_uniform is deprecated. Please use tf.random.uniform instead.\n",
      "\n",
      "WARNING:tensorflow:From /usr/local/lib/python3.6/dist-packages/keras/optimizers.py:793: The name tf.train.Optimizer is deprecated. Please use tf.compat.v1.train.Optimizer instead.\n",
      "\n"
     ]
    }
   ],
   "source": [
    "# using single hidden layer normal autoencoder\n",
    "hidden_layer_nodes = 128\n",
    "input_img = Input(shape=(784,))\n",
    "hidden = Dense(hidden_layer_nodes,activation=\"sigmoid\")(input_img)\n",
    "output = Dense(784,activation=\"sigmoid\")(hidden)\n",
    "\n",
    "autoencoder = Model(input_img,output)\n",
    "autoencoder.compile(optimizer='adadelta', loss='mean_squared_error')"
   ]
  },
  {
   "cell_type": "code",
   "execution_count": 0,
   "metadata": {
    "colab": {
     "base_uri": "https://localhost:8080/",
     "height": 1000
    },
    "colab_type": "code",
    "executionInfo": {
     "elapsed": 29575,
     "status": "ok",
     "timestamp": 1573659178624,
     "user": {
      "displayName": "Karthik Bodapati",
      "photoUrl": "https://lh3.googleusercontent.com/a-/AAuE7mAeBc-z1JJcE6uxpBU15sar0nG7rKS5UHd6ToJ9EA=s64",
      "userId": "16344061707883524589"
     },
     "user_tz": 300
    },
    "id": "ekKxKSOm7ocF",
    "outputId": "356a0b76-adda-46c3-cef2-426e4b988cdc"
   },
   "outputs": [
    {
     "name": "stdout",
     "output_type": "stream",
     "text": [
      "WARNING:tensorflow:From /usr/local/lib/python3.6/dist-packages/keras/backend/tensorflow_backend.py:1033: The name tf.assign_add is deprecated. Please use tf.compat.v1.assign_add instead.\n",
      "\n",
      "WARNING:tensorflow:From /usr/local/lib/python3.6/dist-packages/keras/backend/tensorflow_backend.py:1020: The name tf.assign is deprecated. Please use tf.compat.v1.assign instead.\n",
      "\n",
      "WARNING:tensorflow:From /usr/local/lib/python3.6/dist-packages/keras/backend/tensorflow_backend.py:3005: The name tf.Session is deprecated. Please use tf.compat.v1.Session instead.\n",
      "\n",
      "Train on 60000 samples, validate on 10000 samples\n",
      "Epoch 1/25\n",
      "WARNING:tensorflow:From /usr/local/lib/python3.6/dist-packages/keras/backend/tensorflow_backend.py:190: The name tf.get_default_session is deprecated. Please use tf.compat.v1.get_default_session instead.\n",
      "\n",
      "WARNING:tensorflow:From /usr/local/lib/python3.6/dist-packages/keras/backend/tensorflow_backend.py:197: The name tf.ConfigProto is deprecated. Please use tf.compat.v1.ConfigProto instead.\n",
      "\n",
      "WARNING:tensorflow:From /usr/local/lib/python3.6/dist-packages/keras/backend/tensorflow_backend.py:207: The name tf.global_variables is deprecated. Please use tf.compat.v1.global_variables instead.\n",
      "\n",
      "WARNING:tensorflow:From /usr/local/lib/python3.6/dist-packages/keras/backend/tensorflow_backend.py:216: The name tf.is_variable_initialized is deprecated. Please use tf.compat.v1.is_variable_initialized instead.\n",
      "\n",
      "WARNING:tensorflow:From /usr/local/lib/python3.6/dist-packages/keras/backend/tensorflow_backend.py:223: The name tf.variables_initializer is deprecated. Please use tf.compat.v1.variables_initializer instead.\n",
      "\n",
      "60000/60000 [==============================] - 2s 33us/step - loss: 0.1157 - val_loss: 0.0922\n",
      "Epoch 2/25\n",
      "60000/60000 [==============================] - 1s 18us/step - loss: 0.0898 - val_loss: 0.0876\n",
      "Epoch 3/25\n",
      "60000/60000 [==============================] - 1s 18us/step - loss: 0.0868 - val_loss: 0.0851\n",
      "Epoch 4/25\n",
      "60000/60000 [==============================] - 1s 19us/step - loss: 0.0842 - val_loss: 0.0823\n",
      "Epoch 5/25\n",
      "60000/60000 [==============================] - 1s 18us/step - loss: 0.0811 - val_loss: 0.0789\n",
      "Epoch 6/25\n",
      "60000/60000 [==============================] - 1s 18us/step - loss: 0.0775 - val_loss: 0.0753\n",
      "Epoch 7/25\n",
      "60000/60000 [==============================] - 1s 18us/step - loss: 0.0738 - val_loss: 0.0717\n",
      "Epoch 8/25\n",
      "60000/60000 [==============================] - 1s 19us/step - loss: 0.0704 - val_loss: 0.0684\n",
      "Epoch 9/25\n",
      "60000/60000 [==============================] - 1s 19us/step - loss: 0.0674 - val_loss: 0.0657\n",
      "Epoch 10/25\n",
      "60000/60000 [==============================] - 1s 19us/step - loss: 0.0648 - val_loss: 0.0633\n",
      "Epoch 11/25\n",
      "60000/60000 [==============================] - 1s 18us/step - loss: 0.0627 - val_loss: 0.0614\n",
      "Epoch 12/25\n",
      "60000/60000 [==============================] - 1s 18us/step - loss: 0.0609 - val_loss: 0.0597\n",
      "Epoch 13/25\n",
      "60000/60000 [==============================] - 1s 18us/step - loss: 0.0593 - val_loss: 0.0583\n",
      "Epoch 14/25\n",
      "60000/60000 [==============================] - 1s 18us/step - loss: 0.0579 - val_loss: 0.0570\n",
      "Epoch 15/25\n",
      "60000/60000 [==============================] - 1s 18us/step - loss: 0.0568 - val_loss: 0.0559\n",
      "Epoch 16/25\n",
      "60000/60000 [==============================] - 1s 18us/step - loss: 0.0557 - val_loss: 0.0550\n",
      "Epoch 17/25\n",
      "60000/60000 [==============================] - 1s 19us/step - loss: 0.0548 - val_loss: 0.0541\n",
      "Epoch 18/25\n",
      "60000/60000 [==============================] - 1s 19us/step - loss: 0.0539 - val_loss: 0.0533\n",
      "Epoch 19/25\n",
      "60000/60000 [==============================] - 1s 19us/step - loss: 0.0532 - val_loss: 0.0526\n",
      "Epoch 20/25\n",
      "60000/60000 [==============================] - 1s 19us/step - loss: 0.0525 - val_loss: 0.0519\n",
      "Epoch 21/25\n",
      "60000/60000 [==============================] - 1s 19us/step - loss: 0.0518 - val_loss: 0.0513\n",
      "Epoch 22/25\n",
      "60000/60000 [==============================] - 1s 19us/step - loss: 0.0512 - val_loss: 0.0506\n",
      "Epoch 23/25\n",
      "60000/60000 [==============================] - 1s 18us/step - loss: 0.0506 - val_loss: 0.0501\n",
      "Epoch 24/25\n",
      "60000/60000 [==============================] - 1s 18us/step - loss: 0.0500 - val_loss: 0.0495\n",
      "Epoch 25/25\n",
      "60000/60000 [==============================] - 1s 19us/step - loss: 0.0494 - val_loss: 0.0489\n"
     ]
    },
    {
     "data": {
      "text/plain": [
       "<keras.callbacks.History at 0x7f8cf919cb38>"
      ]
     },
     "execution_count": 17,
     "metadata": {
      "tags": []
     },
     "output_type": "execute_result"
    }
   ],
   "source": [
    " autoencoder.fit(x_train, x_train,\n",
    "                epochs=25,\n",
    "                batch_size=256,\n",
    "                shuffle=True,\n",
    "                validation_data=(x_test, x_test))"
   ]
  },
  {
   "cell_type": "code",
   "execution_count": 0,
   "metadata": {
    "colab": {},
    "colab_type": "code",
    "id": "bASymixI8u2k"
   },
   "outputs": [],
   "source": [
    "encoder = Model(input_img,hidden)\n",
    "encoded_imgs_train = encoder.predict(x_train)\n",
    "encoded_imgs_test = encoder.predict(x_test)"
   ]
  },
  {
   "cell_type": "code",
   "execution_count": 0,
   "metadata": {
    "colab": {},
    "colab_type": "code",
    "id": "rW0pU8pe9hXI"
   },
   "outputs": [],
   "source": [
    "kmeans_21 = KMeans(n_clusters=10,init=\"random\",random_state=73).fit(encoded_imgs_train)"
   ]
  },
  {
   "cell_type": "code",
   "execution_count": 0,
   "metadata": {
    "colab": {},
    "colab_type": "code",
    "id": "kMEtP_il9xO0"
   },
   "outputs": [],
   "source": [
    "y_pred_train_21 = kmeans_21.predict(encoded_imgs_train)\n",
    "y_pred_test_21 = kmeans_21.predict(encoded_imgs_test)"
   ]
  },
  {
   "cell_type": "code",
   "execution_count": 0,
   "metadata": {
    "colab": {
     "base_uri": "https://localhost:8080/",
     "height": 194
    },
    "colab_type": "code",
    "executionInfo": {
     "elapsed": 2337,
     "status": "ok",
     "timestamp": 1573659231149,
     "user": {
      "displayName": "Karthik Bodapati",
      "photoUrl": "https://lh3.googleusercontent.com/a-/AAuE7mAeBc-z1JJcE6uxpBU15sar0nG7rKS5UHd6ToJ9EA=s64",
      "userId": "16344061707883524589"
     },
     "user_tz": 300
    },
    "id": "Qsw1MyWk-Mqg",
    "outputId": "45c82414-ab1d-4770-c7bd-7e9a0d800ded"
   },
   "outputs": [
    {
     "data": {
      "text/plain": [
       "array([[1163,   44,    1, 4011,   12,  204,    1,  317,  244,    3],\n",
       "       [ 145,    6,    0,  179,    0,   37,    0,   80, 5553,    0],\n",
       "       [ 137,  134,    1,  189,   33, 1384,    3, 4108,   11,    0],\n",
       "       [ 780,    4,    0, 1268,    0,   73,    0,   79, 3796,    0],\n",
       "       [ 266,   57,    0,  885,   13,  560,    0, 3939,  279,    1],\n",
       "       [  34,   33,  495,    1, 1797,   43, 2742,    0,    1,  854],\n",
       "       [ 522,  173,    3, 1241,   33, 1430,    0, 2506,   86,    6],\n",
       "       [   0,    0,   65,    0,   52,    1, 4807,    0,    0, 1075],\n",
       "       [ 339, 2801, 1098,   30,  172,  608,   93,  231,    9,  619],\n",
       "       [  28,  161, 3491,    2,  212,   82,   98,    3,    1, 1922]])"
      ]
     },
     "execution_count": 21,
     "metadata": {
      "tags": []
     },
     "output_type": "execute_result"
    }
   ],
   "source": [
    "#confusion matrix before mapping\n",
    "confusion_matrix(y_train,y_pred_train_21)"
   ]
  },
  {
   "cell_type": "markdown",
   "metadata": {
    "colab_type": "text",
    "id": "JVOjRwCG-oB_"
   },
   "source": [
    "\n",
    "\n",
    "```\n",
    "Mapping Clusters to category labels\n",
    "first changing all cluster number from 0-9 to 10-19\n",
    "then mapping them to the clusters they belong\n",
    " \n",
    " \n",
    " \n",
    "cluster 0 ----> label 1\n",
    "cluster 1 ----> label 5\n",
    "cluster 2 ----> label 9\n",
    "cluster 3 ----> label 2\n",
    "cluster 4 ----> label 6\n",
    "cluster 5 ----> label \n",
    "cluster 6 ----> label 7\n",
    "cluster 7 ----> label 2\n",
    "cluster 8 ----> label 1\n",
    "cluster 9 ----> label 4\n",
    " \n",
    "\n",
    "```\n",
    "\n"
   ]
  },
  {
   "cell_type": "code",
   "execution_count": 0,
   "metadata": {
    "colab": {},
    "colab_type": "code",
    "id": "jPL5Z4Zd-P-h"
   },
   "outputs": [],
   "source": [
    "iter = 0\n",
    "for i in range(0,60000):\n",
    "    if y_pred_train_21[i] == 0:\n",
    "        y_pred_train_21[i] = 10\n",
    "    elif y_pred_train_21[i] == 1:\n",
    "        y_pred_train_21[i] = 11\n",
    "    elif y_pred_train_21[i] == 2:\n",
    "        y_pred_train_21[i] = 12\n",
    "    elif y_pred_train_21[i] == 3:\n",
    "        y_pred_train_21[i] = 13\n",
    "    elif y_pred_train_21[i] == 4:\n",
    "        y_pred_train_21[i] = 14\n",
    "    elif y_pred_train_21[i] == 5:\n",
    "        y_pred_train_21[i] = 15\n",
    "    elif y_pred_train_21[i] == 6:\n",
    "        y_pred_train_21[i] = 16\n",
    "    elif y_pred_train_21[i] == 7:\n",
    "        y_pred_train_21[i] = 17\n",
    "    elif y_pred_train_21[i] == 8:\n",
    "        y_pred_train_21[i] = 18\n",
    "    elif y_pred_train_21[i] == 9:\n",
    "        y_pred_train_21[i] = 19\n",
    "\n",
    "    if y_pred_train_21[i] == 10:\n",
    "        y_pred_train_21[i] = 3\n",
    "    elif y_pred_train_21[i] == 11:\n",
    "        y_pred_train_21[i] = 8\n",
    "    elif y_pred_train_21[i] == 12:\n",
    "        y_pred_train_21[i] = 9\n",
    "    elif y_pred_train_21[i] == 13:\n",
    "        y_pred_train_21[i] = 0\n",
    "    elif y_pred_train_21[i] == 14:\n",
    "        y_pred_train_21[i] = 5\n",
    "    elif y_pred_train_21[i] == 15:\n",
    "        y_pred_train_21[i] = 6\n",
    "    elif y_pred_train_21[i] == 16:\n",
    "        y_pred_train_21[i] = 7\n",
    "    elif y_pred_train_21[i] == 17:\n",
    "        y_pred_train_21[i] = 2\n",
    "    elif y_pred_train_21[i] == 18:\n",
    "        y_pred_train_21[i] = 1\n",
    "    elif y_pred_train_21[i] == 19:\n",
    "        y_pred_train_21[i] = 4\n",
    "\n",
    "iter = 0\n",
    "for i in range(0,10000):\n",
    "    if y_pred_test_21[i] == 0:\n",
    "        y_pred_test_21[i] = 10\n",
    "    elif y_pred_test_21[i] == 1:\n",
    "        y_pred_test_21[i] = 11\n",
    "    elif y_pred_test_21[i] == 2:\n",
    "        y_pred_test_21[i] = 12\n",
    "    elif y_pred_test_21[i] == 3:\n",
    "        y_pred_test_21[i] = 13\n",
    "    elif y_pred_test_21[i] == 4:\n",
    "        y_pred_test_21[i] = 14\n",
    "    elif y_pred_test_21[i] == 5:\n",
    "        y_pred_test_21[i] = 15\n",
    "    elif y_pred_test_21[i] == 6:\n",
    "        y_pred_test_21[i] = 16\n",
    "    elif y_pred_test_21[i] == 7:\n",
    "        y_pred_test_21[i] = 17\n",
    "    elif y_pred_test_21[i] == 8:\n",
    "        y_pred_test_21[i] = 18\n",
    "    elif y_pred_test_21[i] == 9:\n",
    "        y_pred_test_21[i] = 19\n",
    "\n",
    "    if y_pred_test_21[i] == 10:\n",
    "        y_pred_test_21[i] = 3\n",
    "    elif y_pred_test_21[i] == 11:\n",
    "        y_pred_test_21[i] = 8\n",
    "    elif y_pred_test_21[i] == 12:\n",
    "        y_pred_test_21[i] = 9\n",
    "    elif y_pred_test_21[i] == 13:\n",
    "        y_pred_test_21[i] = 0\n",
    "    elif y_pred_test_21[i] == 14:\n",
    "        y_pred_test_21[i] = 5\n",
    "    elif y_pred_test_21[i] == 15:\n",
    "        y_pred_test_21[i] = 6\n",
    "    elif y_pred_test_21[i] == 16:\n",
    "        y_pred_test_21[i] = 7\n",
    "    elif y_pred_test_21[i] == 17:\n",
    "        y_pred_test_21[i] = 2\n",
    "    elif y_pred_test_21[i] == 18:\n",
    "        y_pred_test_21[i] = 1\n",
    "    elif y_pred_test_21[i] == 19:\n",
    "        y_pred_test_21[i] = 4\n",
    "\n"
   ]
  },
  {
   "cell_type": "code",
   "execution_count": 0,
   "metadata": {
    "colab": {
     "base_uri": "https://localhost:8080/",
     "height": 194
    },
    "colab_type": "code",
    "executionInfo": {
     "elapsed": 341,
     "status": "ok",
     "timestamp": 1573659370541,
     "user": {
      "displayName": "Karthik Bodapati",
      "photoUrl": "https://lh3.googleusercontent.com/a-/AAuE7mAeBc-z1JJcE6uxpBU15sar0nG7rKS5UHd6ToJ9EA=s64",
      "userId": "16344061707883524589"
     },
     "user_tz": 300
    },
    "id": "pm5D4-ISCnmp",
    "outputId": "149d5359-7d66-4814-b86f-6ab297952510"
   },
   "outputs": [
    {
     "data": {
      "text/plain": [
       "array([[659,  41,  66, 186,   0,   2,  36,   1,   9,   0],\n",
       "       [ 37, 919,  13,  25,   0,   0,   5,   0,   1,   0],\n",
       "       [ 27,   4, 674,  19,   0,   2, 254,   0,  19,   1],\n",
       "       [221, 590,  16, 149,   0,   1,  21,   0,   2,   0],\n",
       "       [131,  42, 685,  29,   0,   2,  95,   0,  16,   0],\n",
       "       [  0,   0,   0,   6, 134, 316,   5, 449,   3,  87],\n",
       "       [232,  18, 405,  77,   0,  14, 222,   0,  32,   0],\n",
       "       [  0,   0,   0,   0, 205,   6,   0, 782,   0,   7],\n",
       "       [  3,   1,  49,  59, 112,  28,  99,  10, 474, 165],\n",
       "       [  1,   0,   0,   2, 340,  38,  14,  19,  38, 548]])"
      ]
     },
     "execution_count": 23,
     "metadata": {
      "tags": []
     },
     "output_type": "execute_result"
    }
   ],
   "source": [
    "#confusion matrix after mapping\n",
    "confusion_matrix(y_test, y_pred_test_21)"
   ]
  },
  {
   "cell_type": "code",
   "execution_count": 0,
   "metadata": {
    "colab": {
     "base_uri": "https://localhost:8080/",
     "height": 52
    },
    "colab_type": "code",
    "executionInfo": {
     "elapsed": 431,
     "status": "ok",
     "timestamp": 1573659401351,
     "user": {
      "displayName": "Karthik Bodapati",
      "photoUrl": "https://lh3.googleusercontent.com/a-/AAuE7mAeBc-z1JJcE6uxpBU15sar0nG7rKS5UHd6ToJ9EA=s64",
      "userId": "16344061707883524589"
     },
     "user_tz": 300
    },
    "id": "_JHRCug0C6f2",
    "outputId": "7f37b538-357b-4e14-a94c-6a0bb1fce439"
   },
   "outputs": [
    {
     "name": "stdout",
     "output_type": "stream",
     "text": [
      "Test Accuarcy -  0.4743\n",
      "Train Accuarcy -  0.47965\n"
     ]
    }
   ],
   "source": [
    "print (\"Test Accuarcy - \",accuracy_score(y_test, y_pred_test_21))\n",
    "print (\"Train Accuarcy - \",accuracy_score(y_train, y_pred_train_21))"
   ]
  },
  {
   "cell_type": "markdown",
   "metadata": {
    "colab_type": "text",
    "id": "kpA6N-g6E1ox"
   },
   "source": [
    "#### Task 2 using multi layer autoencoder"
   ]
  },
  {
   "cell_type": "code",
   "execution_count": 0,
   "metadata": {
    "colab": {},
    "colab_type": "code",
    "id": "R2fpBVt4C_qH"
   },
   "outputs": [],
   "source": [
    "input_img = Input(shape=(784,))\n",
    "hidden_1 = Dense(128,activation=\"sigmoid\")(input_img)\n",
    "hidden_2 = Dense(64,activation=\"sigmoid\")(hidden_1)\n",
    "hidden_3 = Dense(32,activation=\"sigmoid\")(hidden_2)\n",
    "hidden_4 = Dense(32,activation=\"sigmoid\")(hidden_3)\n",
    "hidden_5 = Dense(64,activation=\"sigmoid\")(hidden_4)\n",
    "hidden_6 = Dense(128,activation=\"sigmoid\")(hidden_5)\n",
    "output = Dense(784,activation=\"sigmoid\")(hidden_6)\n",
    "\n",
    "autoencoder = Model(input_img,output)\n",
    "autoencoder.compile(optimizer='adadelta', loss='mean_squared_error')"
   ]
  },
  {
   "cell_type": "code",
   "execution_count": 0,
   "metadata": {
    "colab": {
     "base_uri": "https://localhost:8080/",
     "height": 937
    },
    "colab_type": "code",
    "executionInfo": {
     "elapsed": 28925,
     "status": "ok",
     "timestamp": 1573659456747,
     "user": {
      "displayName": "Karthik Bodapati",
      "photoUrl": "https://lh3.googleusercontent.com/a-/AAuE7mAeBc-z1JJcE6uxpBU15sar0nG7rKS5UHd6ToJ9EA=s64",
      "userId": "16344061707883524589"
     },
     "user_tz": 300
    },
    "id": "5QQfR8JbFgEI",
    "outputId": "178cf264-a3f2-4105-870e-2a2b00a4967b"
   },
   "outputs": [
    {
     "name": "stdout",
     "output_type": "stream",
     "text": [
      "Train on 60000 samples, validate on 10000 samples\n",
      "Epoch 1/25\n",
      "60000/60000 [==============================] - 1s 22us/step - loss: 0.1164 - val_loss: 0.0923\n",
      "Epoch 2/25\n",
      "60000/60000 [==============================] - 1s 19us/step - loss: 0.0898 - val_loss: 0.0876\n",
      "Epoch 3/25\n",
      "60000/60000 [==============================] - 1s 19us/step - loss: 0.0867 - val_loss: 0.0849\n",
      "Epoch 4/25\n",
      "60000/60000 [==============================] - 1s 19us/step - loss: 0.0839 - val_loss: 0.0819\n",
      "Epoch 5/25\n",
      "60000/60000 [==============================] - 1s 18us/step - loss: 0.0806 - val_loss: 0.0784\n",
      "Epoch 6/25\n",
      "60000/60000 [==============================] - 1s 18us/step - loss: 0.0770 - val_loss: 0.0747\n",
      "Epoch 7/25\n",
      "60000/60000 [==============================] - 1s 19us/step - loss: 0.0734 - val_loss: 0.0713\n",
      "Epoch 8/25\n",
      "60000/60000 [==============================] - 1s 18us/step - loss: 0.0701 - val_loss: 0.0683\n",
      "Epoch 9/25\n",
      "60000/60000 [==============================] - 1s 18us/step - loss: 0.0673 - val_loss: 0.0657\n",
      "Epoch 10/25\n",
      "60000/60000 [==============================] - 1s 18us/step - loss: 0.0649 - val_loss: 0.0634\n",
      "Epoch 11/25\n",
      "60000/60000 [==============================] - 1s 18us/step - loss: 0.0628 - val_loss: 0.0615\n",
      "Epoch 12/25\n",
      "60000/60000 [==============================] - 1s 18us/step - loss: 0.0610 - val_loss: 0.0599\n",
      "Epoch 13/25\n",
      "60000/60000 [==============================] - 1s 18us/step - loss: 0.0595 - val_loss: 0.0584\n",
      "Epoch 14/25\n",
      "60000/60000 [==============================] - 1s 19us/step - loss: 0.0581 - val_loss: 0.0572\n",
      "Epoch 15/25\n",
      "60000/60000 [==============================] - 1s 19us/step - loss: 0.0569 - val_loss: 0.0561\n",
      "Epoch 16/25\n",
      "60000/60000 [==============================] - 1s 19us/step - loss: 0.0559 - val_loss: 0.0551\n",
      "Epoch 17/25\n",
      "60000/60000 [==============================] - 1s 18us/step - loss: 0.0550 - val_loss: 0.0543\n",
      "Epoch 18/25\n",
      "60000/60000 [==============================] - 1s 18us/step - loss: 0.0541 - val_loss: 0.0535\n",
      "Epoch 19/25\n",
      "60000/60000 [==============================] - 1s 18us/step - loss: 0.0534 - val_loss: 0.0527\n",
      "Epoch 20/25\n",
      "60000/60000 [==============================] - 1s 18us/step - loss: 0.0527 - val_loss: 0.0521\n",
      "Epoch 21/25\n",
      "60000/60000 [==============================] - 1s 18us/step - loss: 0.0520 - val_loss: 0.0515\n",
      "Epoch 22/25\n",
      "60000/60000 [==============================] - 1s 18us/step - loss: 0.0514 - val_loss: 0.0509\n",
      "Epoch 23/25\n",
      "60000/60000 [==============================] - 1s 19us/step - loss: 0.0508 - val_loss: 0.0503\n",
      "Epoch 24/25\n",
      "60000/60000 [==============================] - 1s 18us/step - loss: 0.0502 - val_loss: 0.0497\n",
      "Epoch 25/25\n",
      "60000/60000 [==============================] - 1s 18us/step - loss: 0.0497 - val_loss: 0.0492\n"
     ]
    },
    {
     "data": {
      "text/plain": [
       "<keras.callbacks.History at 0x7f8cf79fe7f0>"
      ]
     },
     "execution_count": 27,
     "metadata": {
      "tags": []
     },
     "output_type": "execute_result"
    }
   ],
   "source": [
    "autoencoder.fit(x_train, x_train,  \n",
    "                epochs=25,\n",
    "                batch_size=256,\n",
    "                shuffle=True,\n",
    "                validation_data=(x_test, x_test))"
   ]
  },
  {
   "cell_type": "code",
   "execution_count": 0,
   "metadata": {
    "colab": {
     "base_uri": "https://localhost:8080/",
     "height": 282
    },
    "colab_type": "code",
    "executionInfo": {
     "elapsed": 2683,
     "status": "ok",
     "timestamp": 1573659508862,
     "user": {
      "displayName": "Karthik Bodapati",
      "photoUrl": "https://lh3.googleusercontent.com/a-/AAuE7mAeBc-z1JJcE6uxpBU15sar0nG7rKS5UHd6ToJ9EA=s64",
      "userId": "16344061707883524589"
     },
     "user_tz": 300
    },
    "id": "FQH3kUIUpLKi",
    "outputId": "32305f86-95ca-4fd1-8a09-483405d12d05"
   },
   "outputs": [
    {
     "data": {
      "text/plain": [
       "<matplotlib.image.AxesImage at 0x7f8ce0542940>"
      ]
     },
     "execution_count": 28,
     "metadata": {
      "tags": []
     },
     "output_type": "execute_result"
    },
    {
     "data": {
      "image/png": "[encoded data removed]",
      "text/plain": [
       "<Figure size 432x288 with 1 Axes>"
      ]
     },
     "metadata": {
      "tags": []
     },
     "output_type": "display_data"
    }
   ],
   "source": [
    "#Original Image\n",
    "plt.imshow(x_train[1].reshape(28,28))"
   ]
  },
  {
   "cell_type": "code",
   "execution_count": 0,
   "metadata": {
    "colab": {
     "base_uri": "https://localhost:8080/",
     "height": 282
    },
    "colab_type": "code",
    "executionInfo": {
     "elapsed": 2225,
     "status": "ok",
     "timestamp": 1573659542007,
     "user": {
      "displayName": "Karthik Bodapati",
      "photoUrl": "https://lh3.googleusercontent.com/a-/AAuE7mAeBc-z1JJcE6uxpBU15sar0nG7rKS5UHd6ToJ9EA=s64",
      "userId": "16344061707883524589"
     },
     "user_tz": 300
    },
    "id": "MMU09agspT1Y",
    "outputId": "567a1eea-127a-4921-c049-5f03fb10d3ee"
   },
   "outputs": [
    {
     "data": {
      "text/plain": [
       "<matplotlib.image.AxesImage at 0x7f8ce04d6518>"
      ]
     },
     "execution_count": 29,
     "metadata": {
      "tags": []
     },
     "output_type": "execute_result"
    },
    {
     "data": {
      "image/png": "[encoded data removed]",
      "text/plain": [
       "<Figure size 432x288 with 1 Axes>"
      ]
     },
     "metadata": {
      "tags": []
     },
     "output_type": "display_data"
    }
   ],
   "source": [
    "# reconstructed image\n",
    "p = autoencoder.predict(x_train)\n",
    "plt.imshow(p[1].reshape(28,28))"
   ]
  },
  {
   "cell_type": "code",
   "execution_count": 0,
   "metadata": {
    "colab": {},
    "colab_type": "code",
    "id": "i3xuwA20FjxI"
   },
   "outputs": [],
   "source": [
    "encoder = Model(input_img,hidden_3)\n",
    "encoded_imgs_train = encoder.predict(x_train)\n",
    "encoded_imgs_test = encoder.predict(x_test)"
   ]
  },
  {
   "cell_type": "code",
   "execution_count": 0,
   "metadata": {
    "colab": {},
    "colab_type": "code",
    "id": "hxJDNrqHF4p9"
   },
   "outputs": [],
   "source": [
    "kmeans_22 = KMeans(n_clusters=10,init=\"random\",random_state=73).fit(encoded_imgs_train)"
   ]
  },
  {
   "cell_type": "code",
   "execution_count": 0,
   "metadata": {
    "colab": {},
    "colab_type": "code",
    "id": "rzEpt2I1GiFw"
   },
   "outputs": [],
   "source": [
    "y_pred_train_22 = kmeans_22.predict(encoded_imgs_train)\n",
    "y_pred_test_22 = kmeans_22.predict(encoded_imgs_test)"
   ]
  },
  {
   "cell_type": "code",
   "execution_count": 0,
   "metadata": {
    "colab": {
     "base_uri": "https://localhost:8080/",
     "height": 194
    },
    "colab_type": "code",
    "executionInfo": {
     "elapsed": 913,
     "status": "ok",
     "timestamp": 1573659577232,
     "user": {
      "displayName": "Karthik Bodapati",
      "photoUrl": "https://lh3.googleusercontent.com/a-/AAuE7mAeBc-z1JJcE6uxpBU15sar0nG7rKS5UHd6ToJ9EA=s64",
      "userId": "16344061707883524589"
     },
     "user_tz": 300
    },
    "id": "DPb1Cal1G5MN",
    "outputId": "99c13838-33cd-4b31-fc34-75f511b260e2"
   },
   "outputs": [
    {
     "data": {
      "text/plain": [
       "array([[ 979,   41,    2, 4273,    5,  204,    1,  282,  206,    7],\n",
       "       [ 152,    4,    0,  256,    0,   38,    0,   77, 5473,    0],\n",
       "       [ 193,  108,    0,  288,    5, 1380,    0, 3990,   11,   25],\n",
       "       [ 686,    5,    0, 1612,    0,   62,    0,   62, 3573,    0],\n",
       "       [ 232,   47,    1, 1087,    1,  608,    0, 3761,  252,   11],\n",
       "       [  45,   74,  520,    1,  745,   30, 1796,    0,    1, 2788],\n",
       "       [ 585,  127,    1, 1406,   13, 1370,    0, 2412,   74,   12],\n",
       "       [   1,    1,  693,    0,   33,    0, 4933,    0,    0,  339],\n",
       "       [ 515, 2865,  627,   30, 1272,  157,  100,  330,   10,   94],\n",
       "       [  33,  248, 2897,    1, 2456,   31,  269,    0,    1,   64]])"
      ]
     },
     "execution_count": 33,
     "metadata": {
      "tags": []
     },
     "output_type": "execute_result"
    }
   ],
   "source": [
    "# before mapping\n",
    "confusion_matrix(y_train,y_pred_train_22)"
   ]
  },
  {
   "cell_type": "markdown",
   "metadata": {
    "colab_type": "text",
    "id": "7uPUJakCdKkH"
   },
   "source": [
    "\n",
    "\n",
    "```\n",
    "Mapping Clusters to category labels\n",
    "first changing all cluster number from 0-9 to 10-19\n",
    "then mapping them to the clusters they belong\n",
    " \n",
    " \n",
    " \n",
    "cluster 0 ----> label 6\n",
    "cluster 1 ----> label 8\n",
    "cluster 2 ----> label 9\n",
    "cluster 3 ----> label 0\n",
    "cluster 4 ----> label 3\n",
    "cluster 5 ----> label 2\n",
    "cluster 6 ----> label 7\n",
    "cluster 7 ----> label 4\n",
    "cluster 8 ----> label 1\n",
    "cluster 9 ----> label 5\n",
    "```\n",
    "\n"
   ]
  },
  {
   "cell_type": "code",
   "execution_count": 0,
   "metadata": {
    "colab": {},
    "colab_type": "code",
    "id": "sFTjpZgYG_rt"
   },
   "outputs": [],
   "source": [
    "iter = 0\n",
    "for i in range(0,60000):\n",
    "    if y_pred_train_22[i] == 0:\n",
    "        y_pred_train_22[i] = 10\n",
    "    elif y_pred_train_22[i] == 1:\n",
    "        y_pred_train_22[i] = 11\n",
    "    elif y_pred_train_22[i] == 2:\n",
    "        y_pred_train_22[i] = 12\n",
    "    elif y_pred_train_22[i] == 3:\n",
    "        y_pred_train_22[i] = 13\n",
    "    elif y_pred_train_22[i] == 4:\n",
    "        y_pred_train_22[i] = 14\n",
    "    elif y_pred_train_22[i] == 5:\n",
    "        y_pred_train_22[i] = 15\n",
    "    elif y_pred_train_22[i] == 6:\n",
    "        y_pred_train_22[i] = 16\n",
    "    elif y_pred_train_22[i] == 7:\n",
    "        y_pred_train_22[i] = 17\n",
    "    elif y_pred_train_22[i] == 8:\n",
    "        y_pred_train_22[i] = 18\n",
    "    elif y_pred_train_22[i] == 9:\n",
    "        y_pred_train_22[i] = 19\n",
    "\n",
    "    if y_pred_train_22[i] == 10:\n",
    "        y_pred_train_22[i] = 6\n",
    "    elif y_pred_train_22[i] == 11:\n",
    "        y_pred_train_22[i] = 8\n",
    "    elif y_pred_train_22[i] == 12:\n",
    "        y_pred_train_22[i] = 9\n",
    "    elif y_pred_train_22[i] == 13:\n",
    "        y_pred_train_22[i] = 0\n",
    "    elif y_pred_train_22[i] == 14:\n",
    "        y_pred_train_22[i] = 3\n",
    "    elif y_pred_train_22[i] == 15:\n",
    "        y_pred_train_22[i] = 2\n",
    "    elif y_pred_train_22[i] == 16:\n",
    "        y_pred_train_22[i] = 7\n",
    "    elif y_pred_train_22[i] == 17:\n",
    "        y_pred_train_22[i] = 4\n",
    "    elif y_pred_train_22[i] == 18:\n",
    "        y_pred_train_22[i] = 1\n",
    "    elif y_pred_train_22[i] == 19:\n",
    "        y_pred_train_22[i] = 5\n",
    "\n",
    "iter = 0\n",
    "for i in range(0,10000):\n",
    "    if y_pred_test_22[i] == 0:\n",
    "        y_pred_test_22[i] = 10\n",
    "    elif y_pred_test_22[i] == 1:\n",
    "        y_pred_test_22[i] = 11\n",
    "    elif y_pred_test_22[i] == 2:\n",
    "        y_pred_test_22[i] = 12\n",
    "    elif y_pred_test_22[i] == 3:\n",
    "        y_pred_test_22[i] = 13\n",
    "    elif y_pred_test_22[i] == 4:\n",
    "        y_pred_test_22[i] = 14\n",
    "    elif y_pred_test_22[i] == 5:\n",
    "        y_pred_test_22[i] = 15\n",
    "    elif y_pred_test_22[i] == 6:\n",
    "        y_pred_test_22[i] = 16\n",
    "    elif y_pred_test_22[i] == 7:\n",
    "        y_pred_test_22[i] = 17\n",
    "    elif y_pred_test_22[i] == 8:\n",
    "        y_pred_test_22[i] = 18\n",
    "    elif y_pred_test_22[i] == 9:\n",
    "        y_pred_test_22[i] = 19\n",
    "\n",
    "    if y_pred_test_22[i] == 10:\n",
    "        y_pred_test_22[i] = 6\n",
    "    elif y_pred_test_22[i] == 11:\n",
    "        y_pred_test_22[i] = 8\n",
    "    elif y_pred_test_22[i] == 12:\n",
    "        y_pred_test_22[i] = 9\n",
    "    elif y_pred_test_22[i] == 13:\n",
    "        y_pred_test_22[i] = 0\n",
    "    elif y_pred_test_22[i] == 14:\n",
    "        y_pred_test_22[i] = 3\n",
    "    elif y_pred_test_22[i] == 15:\n",
    "        y_pred_test_22[i] = 2\n",
    "    elif y_pred_test_22[i] == 16:\n",
    "        y_pred_test_22[i] = 7\n",
    "    elif y_pred_test_22[i] == 17:\n",
    "        y_pred_test_22[i] = 4\n",
    "    elif y_pred_test_22[i] == 18:\n",
    "        y_pred_test_22[i] = 1\n",
    "    elif y_pred_test_22[i] == 19:\n",
    "        y_pred_test_22[i] = 5\n",
    "\n"
   ]
  },
  {
   "cell_type": "code",
   "execution_count": 0,
   "metadata": {
    "colab": {
     "base_uri": "https://localhost:8080/",
     "height": 194
    },
    "colab_type": "code",
    "executionInfo": {
     "elapsed": 643,
     "status": "ok",
     "timestamp": 1573659898568,
     "user": {
      "displayName": "Karthik Bodapati",
      "photoUrl": "https://lh3.googleusercontent.com/a-/AAuE7mAeBc-z1JJcE6uxpBU15sar0nG7rKS5UHd6ToJ9EA=s64",
      "userId": "16344061707883524589"
     },
     "user_tz": 300
    },
    "id": "QvVFfSrtIP28",
    "outputId": "4cd3ad0e-2cb6-481a-db97-7a3d0b98d23b"
   },
   "outputs": [
    {
     "data": {
      "text/plain": [
       "array([[706,  37,  31,   0,  58,   2, 155,   1,  10,   0],\n",
       "       [ 53, 906,   7,   0,  11,   0,  22,   0,   1,   0],\n",
       "       [ 42,   4, 255,   1, 661,   1,  21,   0,  15,   0],\n",
       "       [276, 569,  18,   1,  14,   0, 122,   0,   0,   0],\n",
       "       [166,  34, 106,   0, 653,   1,  31,   0,   9,   0],\n",
       "       [  0,   0,   4, 134,   0, 482,   7, 280,   9,  84],\n",
       "       [252,  16, 227,   3, 387,   5,  84,   0,  26,   0],\n",
       "       [  0,   0,   0,   3,   0,  44,   0, 819,   0, 134],\n",
       "       [  3,   3,  24, 186,  72,  11,  86,  13, 483, 119],\n",
       "       [  1,   0,   8, 385,   0,   6,   4,  39,  52, 505]])"
      ]
     },
     "execution_count": 35,
     "metadata": {
      "tags": []
     },
     "output_type": "execute_result"
    }
   ],
   "source": [
    "confusion_matrix(y_test,y_pred_test_22)"
   ]
  },
  {
   "cell_type": "code",
   "execution_count": 0,
   "metadata": {
    "colab": {
     "base_uri": "https://localhost:8080/",
     "height": 52
    },
    "colab_type": "code",
    "executionInfo": {
     "elapsed": 904,
     "status": "ok",
     "timestamp": 1573659906957,
     "user": {
      "displayName": "Karthik Bodapati",
      "photoUrl": "https://lh3.googleusercontent.com/a-/AAuE7mAeBc-z1JJcE6uxpBU15sar0nG7rKS5UHd6ToJ9EA=s64",
      "userId": "16344061707883524589"
     },
     "user_tz": 300
    },
    "id": "c1M82G_2IRvU",
    "outputId": "0b68e3e5-d383-4d77-9495-9d9d621bd04e"
   },
   "outputs": [
    {
     "name": "stdout",
     "output_type": "stream",
     "text": [
      "Test Accuarcy -  0.4894\n",
      "Train Accuarcy -  0.4825833333333333\n"
     ]
    }
   ],
   "source": [
    "print (\"Test Accuarcy - \",accuracy_score(y_test, y_pred_test_22))\n",
    "print (\"Train Accuarcy - \",accuracy_score(y_train, y_pred_train_22))"
   ]
  },
  {
   "cell_type": "markdown",
   "metadata": {
    "colab_type": "text",
    "id": "85sQ33p0JDtC"
   },
   "source": [
    "#### Task 2 using convolutional autoencoder"
   ]
  },
  {
   "cell_type": "code",
   "execution_count": 0,
   "metadata": {
    "colab": {},
    "colab_type": "code",
    "id": "P9uNTgzmIhhX"
   },
   "outputs": [],
   "source": [
    "from keras.layers import Input, Dense, Conv2D, MaxPooling2D, UpSampling2D\n",
    "x_train = np.reshape(x_train, (len(x_train), 28, 28, 1))\n",
    "x_test = np.reshape(x_test, (len(x_test), 28, 28, 1))\n",
    "input_img = Input(shape=(28, 28, 1))  \n",
    "\n",
    "x = Conv2D(128, (3, 3), activation='relu', padding='same')(input_img)\n",
    "x = MaxPooling2D((2, 2), padding='same')(x)\n",
    "x = Conv2D(64, (3, 3), activation='relu', padding='same')(x)\n",
    "x = MaxPooling2D((2, 2), padding='same')(x)\n",
    "x = Conv2D(32, (3, 3), activation='relu', padding='same')(x)\n",
    "encoded = MaxPooling2D((2, 2), padding='same')(x)\n",
    "\n",
    "x = Conv2D(32, (3, 3), activation='relu', padding='same')(encoded)\n",
    "x = UpSampling2D((2, 2))(x)\n",
    "x = Conv2D(64, (3, 3), activation='relu', padding='same')(x)\n",
    "x = UpSampling2D((2, 2))(x)\n",
    "x = Conv2D(128, (3, 3), activation='relu')(x)\n",
    "x = UpSampling2D((2, 2))(x)\n",
    "decoded = Conv2D(1, (3, 3), activation='sigmoid', padding='same')(x)\n",
    "\n",
    "autoencoder = Model(input_img, decoded)\n",
    "autoencoder.compile(optimizer='adadelta', loss='mean_squared_error')"
   ]
  },
  {
   "cell_type": "code",
   "execution_count": 0,
   "metadata": {
    "colab": {
     "base_uri": "https://localhost:8080/",
     "height": 937
    },
    "colab_type": "code",
    "executionInfo": {
     "elapsed": 167081,
     "status": "ok",
     "timestamp": 1573664017352,
     "user": {
      "displayName": "Karthik Bodapati",
      "photoUrl": "https://lh3.googleusercontent.com/a-/AAuE7mAeBc-z1JJcE6uxpBU15sar0nG7rKS5UHd6ToJ9EA=s64",
      "userId": "16344061707883524589"
     },
     "user_tz": 300
    },
    "id": "FbvjmVEGrGkw",
    "outputId": "66da39e3-94b0-47a0-a5a7-c1faa85b3672"
   },
   "outputs": [
    {
     "name": "stdout",
     "output_type": "stream",
     "text": [
      "Train on 60000 samples, validate on 10000 samples\n",
      "Epoch 1/25\n",
      "60000/60000 [==============================] - 8s 127us/step - loss: 0.0401 - val_loss: 0.0238\n",
      "Epoch 2/25\n",
      "60000/60000 [==============================] - 7s 110us/step - loss: 0.0227 - val_loss: 0.0221\n",
      "Epoch 3/25\n",
      "60000/60000 [==============================] - 7s 110us/step - loss: 0.0191 - val_loss: 0.0190\n",
      "Epoch 4/25\n",
      "60000/60000 [==============================] - 7s 110us/step - loss: 0.0172 - val_loss: 0.0175\n",
      "Epoch 5/25\n",
      "60000/60000 [==============================] - 7s 110us/step - loss: 0.0159 - val_loss: 0.0153\n",
      "Epoch 6/25\n",
      "60000/60000 [==============================] - 7s 110us/step - loss: 0.0150 - val_loss: 0.0145\n",
      "Epoch 7/25\n",
      "60000/60000 [==============================] - 7s 110us/step - loss: 0.0142 - val_loss: 0.0138\n",
      "Epoch 8/25\n",
      "60000/60000 [==============================] - 7s 110us/step - loss: 0.0135 - val_loss: 0.0129\n",
      "Epoch 9/25\n",
      "60000/60000 [==============================] - 7s 110us/step - loss: 0.0130 - val_loss: 0.0124\n",
      "Epoch 10/25\n",
      "60000/60000 [==============================] - 7s 110us/step - loss: 0.0126 - val_loss: 0.0121\n",
      "Epoch 11/25\n",
      "60000/60000 [==============================] - 7s 110us/step - loss: 0.0122 - val_loss: 0.0118\n",
      "Epoch 12/25\n",
      "60000/60000 [==============================] - 7s 110us/step - loss: 0.0118 - val_loss: 0.0119\n",
      "Epoch 13/25\n",
      "60000/60000 [==============================] - 7s 110us/step - loss: 0.0116 - val_loss: 0.0121\n",
      "Epoch 14/25\n",
      "60000/60000 [==============================] - 7s 110us/step - loss: 0.0113 - val_loss: 0.0108\n",
      "Epoch 15/25\n",
      "60000/60000 [==============================] - 7s 109us/step - loss: 0.0111 - val_loss: 0.0110\n",
      "Epoch 16/25\n",
      "60000/60000 [==============================] - 7s 110us/step - loss: 0.0109 - val_loss: 0.0106\n",
      "Epoch 17/25\n",
      "60000/60000 [==============================] - 7s 110us/step - loss: 0.0107 - val_loss: 0.0104\n",
      "Epoch 18/25\n",
      "60000/60000 [==============================] - 7s 110us/step - loss: 0.0105 - val_loss: 0.0105\n",
      "Epoch 19/25\n",
      "60000/60000 [==============================] - 7s 109us/step - loss: 0.0104 - val_loss: 0.0103\n",
      "Epoch 20/25\n",
      "60000/60000 [==============================] - 7s 110us/step - loss: 0.0102 - val_loss: 0.0104\n",
      "Epoch 21/25\n",
      "60000/60000 [==============================] - 7s 110us/step - loss: 0.0101 - val_loss: 0.0101\n",
      "Epoch 22/25\n",
      "60000/60000 [==============================] - 7s 110us/step - loss: 0.0100 - val_loss: 0.0098\n",
      "Epoch 23/25\n",
      "60000/60000 [==============================] - 7s 110us/step - loss: 0.0098 - val_loss: 0.0098\n",
      "Epoch 24/25\n",
      "60000/60000 [==============================] - 7s 110us/step - loss: 0.0097 - val_loss: 0.0097\n",
      "Epoch 25/25\n",
      "60000/60000 [==============================] - 7s 110us/step - loss: 0.0096 - val_loss: 0.0094\n"
     ]
    },
    {
     "data": {
      "text/plain": [
       "<keras.callbacks.History at 0x7f8bf5634a58>"
      ]
     },
     "execution_count": 113,
     "metadata": {
      "tags": []
     },
     "output_type": "execute_result"
    }
   ],
   "source": [
    "autoencoder.fit(x_train, x_train,\n",
    "                epochs=25,\n",
    "                batch_size=128,\n",
    "                shuffle=True,\n",
    "                validation_data=(x_test, x_test))"
   ]
  },
  {
   "cell_type": "code",
   "execution_count": 0,
   "metadata": {
    "colab": {},
    "colab_type": "code",
    "id": "KjwbXzvSrfxy"
   },
   "outputs": [],
   "source": [
    "encoder = Model(input_img,encoded)"
   ]
  },
  {
   "cell_type": "code",
   "execution_count": 0,
   "metadata": {
    "colab": {},
    "colab_type": "code",
    "id": "5DM7SK6j3LUO"
   },
   "outputs": [],
   "source": [
    "enc_train = encoder.predict(x_train)\n",
    "enc_test = encoder.predict(x_test)\n"
   ]
  },
  {
   "cell_type": "code",
   "execution_count": 0,
   "metadata": {
    "colab": {
     "base_uri": "https://localhost:8080/",
     "height": 70
    },
    "colab_type": "code",
    "executionInfo": {
     "elapsed": 34833,
     "status": "ok",
     "timestamp": 1573664147368,
     "user": {
      "displayName": "Karthik Bodapati",
      "photoUrl": "https://lh3.googleusercontent.com/a-/AAuE7mAeBc-z1JJcE6uxpBU15sar0nG7rKS5UHd6ToJ9EA=s64",
      "userId": "16344061707883524589"
     },
     "user_tz": 300
    },
    "id": "UscrFA1w3Pc2",
    "outputId": "0b438eb7-23a2-42d5-d923-b91cebee9c7a"
   },
   "outputs": [
    {
     "data": {
      "text/plain": [
       "KMeans(algorithm='auto', copy_x=True, init='random', max_iter=300,\n",
       "       n_clusters=10, n_init=10, n_jobs=None, precompute_distances='auto',\n",
       "       random_state=41, tol=0.0001, verbose=0)"
      ]
     },
     "execution_count": 116,
     "metadata": {
      "tags": []
     },
     "output_type": "execute_result"
    }
   ],
   "source": [
    "kmeans_23 = KMeans(n_clusters = 10,init=\"random\",random_state=41)\n",
    "kmeans_23.fit(enc_train.reshape(60000,512))"
   ]
  },
  {
   "cell_type": "code",
   "execution_count": 0,
   "metadata": {
    "colab": {},
    "colab_type": "code",
    "id": "1sVd4Oa44VRG"
   },
   "outputs": [],
   "source": [
    "y_pred_test_23 = kmeans_23.predict(enc_test.reshape(10000,512))\n",
    "y_pred_train_23 = kmeans_23.predict(enc_train.reshape(60000,512))"
   ]
  },
  {
   "cell_type": "code",
   "execution_count": 0,
   "metadata": {
    "colab": {
     "base_uri": "https://localhost:8080/",
     "height": 194
    },
    "colab_type": "code",
    "executionInfo": {
     "elapsed": 697,
     "status": "ok",
     "timestamp": 1573664335833,
     "user": {
      "displayName": "Karthik Bodapati",
      "photoUrl": "https://lh3.googleusercontent.com/a-/AAuE7mAeBc-z1JJcE6uxpBU15sar0nG7rKS5UHd6ToJ9EA=s64",
      "userId": "16344061707883524589"
     },
     "user_tz": 300
    },
    "id": "fU9X9_uT4VMQ",
    "outputId": "f6c24ac8-b5d8-414a-8ec1-178c6b6746e4"
   },
   "outputs": [
    {
     "data": {
      "text/plain": [
       "array([[1797,    1,   23,    0, 1000,  170,  153,    5, 2850,    1],\n",
       "       [ 646,    0,    1,    0,   74,   50, 5070,    0,  159,    0],\n",
       "       [1263,    2,   38,    0, 1806, 2780,   10,    1,  100,    0],\n",
       "       [1330,    0,    3,    0,  304,   37, 2717,    0, 1609,    0],\n",
       "       [ 670,    0,   24,    0, 1485, 2912,  161,    1,  747,    0],\n",
       "       [  41, 3098,    6,  292,    5,    0,    2, 2395,    0,  161],\n",
       "       [1859,    5,   63,    0, 1802, 1414,   61,    3,  793,    0],\n",
       "       [   3, 4436,    0, 1392,    0,    0,    0,  142,    0,   27],\n",
       "       [ 550,  235, 3546,   33, 1059,  198,   28,  304,   47,    0],\n",
       "       [  19,   60,    1, 2549,   15,    2,    6,  497,    1, 2850]])"
      ]
     },
     "execution_count": 123,
     "metadata": {
      "tags": []
     },
     "output_type": "execute_result"
    }
   ],
   "source": [
    "confusion_matrix(y_train,y_pred_train_23)"
   ]
  },
  {
   "cell_type": "markdown",
   "metadata": {
    "colab_type": "text",
    "id": "X41uGXSOda6k"
   },
   "source": [
    "\n",
    "\n",
    "```\n",
    "Mapping Clusters to category labels\n",
    "first changing all cluster number from 0-9 to 10-19\n",
    "then mapping them to the clusters they belong\n",
    " \n",
    " \n",
    " \n",
    "cluster 0 ----> label 6\n",
    "cluster 1 ----> label 7\n",
    "cluster 2 ----> label 8\n",
    "cluster 3 ----> label 9\n",
    "cluster 4 ----> label 2\n",
    "cluster 5 ----> label 4\n",
    "cluster 6 ----> label 1\n",
    "cluster 7 ----> label 5\n",
    "cluster 8 ----> label 0\n",
    "cluster 9 ----> label 9\n",
    "```\n",
    "\n"
   ]
  },
  {
   "cell_type": "code",
   "execution_count": 0,
   "metadata": {
    "colab": {},
    "colab_type": "code",
    "id": "GgmAdiXEiRiA"
   },
   "outputs": [],
   "source": [
    "iter = 0\n",
    "for i in range(0,60000):\n",
    "    if y_pred_train_23[i] == 0:\n",
    "        y_pred_train_23[i] = 10\n",
    "    elif y_pred_train_23[i] == 1:\n",
    "        y_pred_train_23[i] = 11\n",
    "    elif y_pred_train_23[i] == 2:\n",
    "        y_pred_train_23[i] = 12\n",
    "    elif y_pred_train_23[i] == 3:\n",
    "        y_pred_train_23[i] = 13\n",
    "    elif y_pred_train_23[i] == 4:\n",
    "        y_pred_train_23[i] = 14\n",
    "    elif y_pred_train_23[i] == 5:\n",
    "        y_pred_train_23[i] = 15\n",
    "    elif y_pred_train_23[i] == 6:\n",
    "        y_pred_train_23[i] = 16\n",
    "    elif y_pred_train_23[i] == 7:\n",
    "        y_pred_train_23[i] = 17\n",
    "    elif y_pred_train_23[i] == 8:\n",
    "        y_pred_train_23[i] = 18\n",
    "    elif y_pred_train_23[i] == 9:\n",
    "        y_pred_train_23[i] = 19\n",
    "\n",
    "    if y_pred_train_23[i] == 10:\n",
    "        y_pred_train_23[i] = 6\n",
    "    elif y_pred_train_23[i] == 11:\n",
    "        y_pred_train_23[i] = 7\n",
    "    elif y_pred_train_23[i] == 12:\n",
    "        y_pred_train_23[i] = 8\n",
    "    elif y_pred_train_23[i] == 13:\n",
    "        y_pred_train_23[i] = 9\n",
    "    elif y_pred_train_23[i] == 14:\n",
    "        y_pred_train_23[i] = 2\n",
    "    elif y_pred_train_23[i] == 15:\n",
    "        y_pred_train_23[i] = 4\n",
    "    elif y_pred_train_23[i] == 16:\n",
    "        y_pred_train_23[i] = 1\n",
    "    elif y_pred_train_23[i] == 17:\n",
    "        y_pred_train_23[i] = 5\n",
    "    elif y_pred_train_23[i] == 18:\n",
    "        y_pred_train_23[i] = 0\n",
    "    elif y_pred_train_23[i] == 19:\n",
    "        y_pred_train_23[i] = 9\n",
    "\n",
    "iter = 0\n",
    "for i in range(0,10000):\n",
    "    if y_pred_test_23[i] == 0:\n",
    "        y_pred_test_23[i] = 10\n",
    "    elif y_pred_test_23[i] == 1:\n",
    "        y_pred_test_23[i] = 11\n",
    "    elif y_pred_test_23[i] == 2:\n",
    "        y_pred_test_23[i] = 12\n",
    "    elif y_pred_test_23[i] == 3:\n",
    "        y_pred_test_23[i] = 13\n",
    "    elif y_pred_test_23[i] == 4:\n",
    "        y_pred_test_23[i] = 14\n",
    "    elif y_pred_test_23[i] == 5:\n",
    "        y_pred_test_23[i] = 15\n",
    "    elif y_pred_test_23[i] == 6:\n",
    "        y_pred_test_23[i] = 16\n",
    "    elif y_pred_test_23[i] == 7:\n",
    "        y_pred_test_23[i] = 17\n",
    "    elif y_pred_test_23[i] == 8:\n",
    "        y_pred_test_23[i] = 18\n",
    "    elif y_pred_test_23[i] == 9:\n",
    "        y_pred_test_23[i] = 19\n",
    "\n",
    "    if y_pred_test_23[i] == 10:\n",
    "        y_pred_test_23[i] = 6\n",
    "    elif y_pred_test_23[i] == 11:\n",
    "        y_pred_test_23[i] = 7\n",
    "    elif y_pred_test_23[i] == 12:\n",
    "        y_pred_test_23[i] = 8\n",
    "    elif y_pred_test_23[i] == 13:\n",
    "        y_pred_test_23[i] = 9\n",
    "    elif y_pred_test_23[i] == 14:\n",
    "        y_pred_test_23[i] = 2\n",
    "    elif y_pred_test_23[i] == 15:\n",
    "        y_pred_test_23[i] = 4\n",
    "    elif y_pred_test_23[i] == 16:\n",
    "        y_pred_test_23[i] = 1\n",
    "    elif y_pred_test_23[i] == 17:\n",
    "        y_pred_test_23[i] = 5\n",
    "    elif y_pred_test_23[i] == 18:\n",
    "        y_pred_test_23[i] = 0\n",
    "    elif y_pred_test_23[i] == 19:\n",
    "        y_pred_test_23[i] = 9\n",
    "\n"
   ]
  },
  {
   "cell_type": "code",
   "execution_count": 0,
   "metadata": {
    "colab": {
     "base_uri": "https://localhost:8080/",
     "height": 194
    },
    "colab_type": "code",
    "executionInfo": {
     "elapsed": 471,
     "status": "ok",
     "timestamp": 1573664339790,
     "user": {
      "displayName": "Karthik Bodapati",
      "photoUrl": "https://lh3.googleusercontent.com/a-/AAuE7mAeBc-z1JJcE6uxpBU15sar0nG7rKS5UHd6ToJ9EA=s64",
      "userId": "16344061707883524589"
     },
     "user_tz": 300
    },
    "id": "fmaoM-MK8ryA",
    "outputId": "b9b4dd82-33ad-4b6c-d8cd-0513bf3c0612"
   },
   "outputs": [
    {
     "data": {
      "text/plain": [
       "array([[481,  24, 183,   0,  33,   2, 270,   1,   6,   0],\n",
       "       [ 33, 819,  23,   0,   6,   0, 119,   0,   0,   0],\n",
       "       [ 11,   3, 325,   0, 433,   1, 223,   0,   4,   0],\n",
       "       [278, 428,  59,   0,   8,   0, 226,   0,   1,   0],\n",
       "       [103,  29, 265,   0, 492,   0, 103,   0,   8,   0],\n",
       "       [  0,   0,   1,   0,   0, 418,   6, 499,   1,  75],\n",
       "       [138,  14, 287,   0, 226,   1, 320,   0,  14,   0],\n",
       "       [  0,   0,   0,   0,   0,  19,   1, 740,   0, 240],\n",
       "       [  5,   6, 171,   0,  44,  45, 110,  38, 573,   8],\n",
       "       [  0,   1,   3,   0,   0,  89,   0,   8,   1, 898]])"
      ]
     },
     "execution_count": 125,
     "metadata": {
      "tags": []
     },
     "output_type": "execute_result"
    }
   ],
   "source": [
    "confusion_matrix(y_test,y_pred_test_23)"
   ]
  },
  {
   "cell_type": "code",
   "execution_count": 0,
   "metadata": {
    "colab": {
     "base_uri": "https://localhost:8080/",
     "height": 52
    },
    "colab_type": "code",
    "executionInfo": {
     "elapsed": 638,
     "status": "ok",
     "timestamp": 1573664340940,
     "user": {
      "displayName": "Karthik Bodapati",
      "photoUrl": "https://lh3.googleusercontent.com/a-/AAuE7mAeBc-z1JJcE6uxpBU15sar0nG7rKS5UHd6ToJ9EA=s64",
      "userId": "16344061707883524589"
     },
     "user_tz": 300
    },
    "id": "uI8lQHmyecx4",
    "outputId": "b12dd2d3-0e0c-4669-fbef-2595acc868c1"
   },
   "outputs": [
    {
     "name": "stdout",
     "output_type": "stream",
     "text": [
      "Test Accuarcy -  0.5066\n",
      "Train Accuarcy -  0.50455\n"
     ]
    }
   ],
   "source": [
    "print (\"Test Accuarcy - \",accuracy_score(y_test, y_pred_test_23))\n",
    "print (\"Train Accuarcy - \",accuracy_score(y_train, y_pred_train_23))"
   ]
  },
  {
   "cell_type": "markdown",
   "metadata": {
    "colab_type": "text",
    "id": "H2f_5-tuDqa5"
   },
   "source": [
    "# Task 3 - GMM with Autoencoder\n"
   ]
  },
  {
   "cell_type": "code",
   "execution_count": 0,
   "metadata": {
    "colab": {},
    "colab_type": "code",
    "id": "wfTn4BEaDweJ"
   },
   "outputs": [],
   "source": [
    "from keras.datasets import fashion_mnist\n",
    "from sklearn.mixture import GaussianMixture as GMM\n",
    "import keras\n",
    "import numpy as np\n",
    "from pandas import DataFrame as df\n",
    "from sklearn.cluster import KMeans\n",
    "from sklearn.metrics import *\n",
    "from keras.layers import Input, Dense\n",
    "from keras.models import Model\n",
    "from sklearn.mixture import GaussianMixture\n",
    "import matplotlib.pyplot as plt\n",
    "import random\n",
    "\n",
    "\n",
    "(x_train, y_train), (x_test, y_test) = fashion_mnist.load_data()\n",
    "\n",
    "(x_train, y_train), (x_test, y_test) = fashion_mnist.load_data()"
   ]
  },
  {
   "cell_type": "code",
   "execution_count": 0,
   "metadata": {
    "colab": {},
    "colab_type": "code",
    "id": "8Sm2BVNID7Kp"
   },
   "outputs": [],
   "source": [
    "x_train = x_train.reshape((60000,784))\n",
    "x_test = x_test.reshape((10000,784))\n",
    "\n",
    "x_train = x_train/255.0\n",
    "x_test = x_test/255.0"
   ]
  },
  {
   "cell_type": "markdown",
   "metadata": {
    "colab_type": "text",
    "id": "Omgf-jW_DxNY"
   },
   "source": [
    "#### Task 3 - Single layer autoencoder"
   ]
  },
  {
   "cell_type": "code",
   "execution_count": 0,
   "metadata": {
    "colab": {},
    "colab_type": "code",
    "id": "lMpehYhWD9M3"
   },
   "outputs": [],
   "source": [
    "# using single hidden layer normal autoencoder\n",
    "hidden_layer_nodes = 128\n",
    "input_img = Input(shape=(784,))\n",
    "hidden = Dense(hidden_layer_nodes,activation=\"sigmoid\")(input_img)\n",
    "output = Dense(784,activation=\"sigmoid\")(hidden)\n",
    "\n",
    "autoencoder = Model(input_img,output)\n",
    "autoencoder.compile(optimizer='adadelta', loss='mean_squared_error')"
   ]
  },
  {
   "cell_type": "code",
   "execution_count": 0,
   "metadata": {
    "colab": {
     "base_uri": "https://localhost:8080/",
     "height": 937
    },
    "colab_type": "code",
    "executionInfo": {
     "elapsed": 28990,
     "status": "ok",
     "timestamp": 1573664408123,
     "user": {
      "displayName": "Karthik Bodapati",
      "photoUrl": "https://lh3.googleusercontent.com/a-/AAuE7mAeBc-z1JJcE6uxpBU15sar0nG7rKS5UHd6ToJ9EA=s64",
      "userId": "16344061707883524589"
     },
     "user_tz": 300
    },
    "id": "o5GYVfw_EBju",
    "outputId": "91cf4430-e526-4b25-f8a4-ae494e15fe3c"
   },
   "outputs": [
    {
     "name": "stdout",
     "output_type": "stream",
     "text": [
      "Train on 60000 samples, validate on 10000 samples\n",
      "Epoch 1/25\n",
      "60000/60000 [==============================] - 2s 33us/step - loss: 0.1167 - val_loss: 0.0924\n",
      "Epoch 2/25\n",
      "60000/60000 [==============================] - 1s 18us/step - loss: 0.0901 - val_loss: 0.0881\n",
      "Epoch 3/25\n",
      "60000/60000 [==============================] - 1s 18us/step - loss: 0.0874 - val_loss: 0.0859\n",
      "Epoch 4/25\n",
      "60000/60000 [==============================] - 1s 18us/step - loss: 0.0850 - val_loss: 0.0832\n",
      "Epoch 5/25\n",
      "60000/60000 [==============================] - 1s 19us/step - loss: 0.0820 - val_loss: 0.0799\n",
      "Epoch 6/25\n",
      "60000/60000 [==============================] - 1s 18us/step - loss: 0.0784 - val_loss: 0.0762\n",
      "Epoch 7/25\n",
      "60000/60000 [==============================] - 1s 19us/step - loss: 0.0747 - val_loss: 0.0726\n",
      "Epoch 8/25\n",
      "60000/60000 [==============================] - 1s 19us/step - loss: 0.0713 - val_loss: 0.0693\n",
      "Epoch 9/25\n",
      "60000/60000 [==============================] - 1s 18us/step - loss: 0.0683 - val_loss: 0.0665\n",
      "Epoch 10/25\n",
      "60000/60000 [==============================] - 1s 18us/step - loss: 0.0657 - val_loss: 0.0641\n",
      "Epoch 11/25\n",
      "60000/60000 [==============================] - 1s 19us/step - loss: 0.0634 - val_loss: 0.0621\n",
      "Epoch 12/25\n",
      "60000/60000 [==============================] - 1s 18us/step - loss: 0.0616 - val_loss: 0.0604\n",
      "Epoch 13/25\n",
      "60000/60000 [==============================] - 1s 19us/step - loss: 0.0599 - val_loss: 0.0588\n",
      "Epoch 14/25\n",
      "60000/60000 [==============================] - 1s 18us/step - loss: 0.0585 - val_loss: 0.0575\n",
      "Epoch 15/25\n",
      "60000/60000 [==============================] - 1s 18us/step - loss: 0.0572 - val_loss: 0.0564\n",
      "Epoch 16/25\n",
      "60000/60000 [==============================] - 1s 18us/step - loss: 0.0561 - val_loss: 0.0553\n",
      "Epoch 17/25\n",
      "60000/60000 [==============================] - 1s 18us/step - loss: 0.0552 - val_loss: 0.0544\n",
      "Epoch 18/25\n",
      "60000/60000 [==============================] - 1s 19us/step - loss: 0.0543 - val_loss: 0.0536\n",
      "Epoch 19/25\n",
      "60000/60000 [==============================] - 1s 19us/step - loss: 0.0535 - val_loss: 0.0528\n",
      "Epoch 20/25\n",
      "60000/60000 [==============================] - 1s 18us/step - loss: 0.0527 - val_loss: 0.0521\n",
      "Epoch 21/25\n",
      "60000/60000 [==============================] - 1s 18us/step - loss: 0.0520 - val_loss: 0.0515\n",
      "Epoch 22/25\n",
      "60000/60000 [==============================] - 1s 19us/step - loss: 0.0514 - val_loss: 0.0508\n",
      "Epoch 23/25\n",
      "60000/60000 [==============================] - 1s 18us/step - loss: 0.0507 - val_loss: 0.0502\n",
      "Epoch 24/25\n",
      "60000/60000 [==============================] - 1s 19us/step - loss: 0.0501 - val_loss: 0.0496\n",
      "Epoch 25/25\n",
      "60000/60000 [==============================] - 1s 19us/step - loss: 0.0496 - val_loss: 0.0491\n"
     ]
    },
    {
     "data": {
      "text/plain": [
       "<keras.callbacks.History at 0x7f8bf53dae10>"
      ]
     },
     "execution_count": 130,
     "metadata": {
      "tags": []
     },
     "output_type": "execute_result"
    }
   ],
   "source": [
    " autoencoder.fit(x_train, x_train,\n",
    "                epochs=25,\n",
    "                batch_size=256,\n",
    "                shuffle=True,\n",
    "                validation_data=(x_test, x_test))"
   ]
  },
  {
   "cell_type": "code",
   "execution_count": 0,
   "metadata": {
    "colab": {},
    "colab_type": "code",
    "id": "qGxIEMTFEFD_"
   },
   "outputs": [],
   "source": [
    "encoder = Model(input_img,hidden)\n",
    "encoded_imgs_train = encoder.predict(x_train)\n",
    "encoded_imgs_test = encoder.predict(x_test)"
   ]
  },
  {
   "cell_type": "code",
   "execution_count": 0,
   "metadata": {
    "colab": {},
    "colab_type": "code",
    "id": "dMdMA1o3ETop"
   },
   "outputs": [],
   "source": [
    "gmm_31 = GMM(n_components=10,init_params=\"random\",random_state=41).fit(encoded_imgs_train)"
   ]
  },
  {
   "cell_type": "code",
   "execution_count": 0,
   "metadata": {
    "colab": {},
    "colab_type": "code",
    "id": "agb_aU__ETo3"
   },
   "outputs": [],
   "source": [
    "y_pred_train_31 = gmm_31.predict(encoded_imgs_train)\n",
    "y_pred_test_31 = gmm_31.predict(encoded_imgs_test)"
   ]
  },
  {
   "cell_type": "code",
   "execution_count": 0,
   "metadata": {
    "colab": {
     "base_uri": "https://localhost:8080/",
     "height": 194
    },
    "colab_type": "code",
    "executionInfo": {
     "elapsed": 1110,
     "status": "ok",
     "timestamp": 1573664952200,
     "user": {
      "displayName": "Karthik Bodapati",
      "photoUrl": "https://lh3.googleusercontent.com/a-/AAuE7mAeBc-z1JJcE6uxpBU15sar0nG7rKS5UHd6ToJ9EA=s64",
      "userId": "16344061707883524589"
     },
     "user_tz": 300
    },
    "id": "yyoe5vz9ETo6",
    "outputId": "d9d7581e-fa9e-4738-f720-ed15c54f71d2"
   },
   "outputs": [
    {
     "data": {
      "text/plain": [
       "array([[1863, 1001,   16,   63,    0,    1,   16,  265,    0, 2775],\n",
       "       [ 135,  215,    3,   23,    0, 3914,    0, 1677,    0,   33],\n",
       "       [1177, 1336,   38, 3221,    0,    0,    4,    3,    0,  221],\n",
       "       [ 609,  937,    1,   13,    0,  456,    0, 2932,    0, 1052],\n",
       "       [1164,  799,   20, 3007,    0,    0,    1,  149,    0,  860],\n",
       "       [   0,   15,   23,    0, 2532,    0, 3380,    0,   50,    0],\n",
       "       [1952, 1417,   56, 1710,    0,    1,   16,   87,    0,  761],\n",
       "       [   0,    0,   16,    0, 4336,    0,  384,    0, 1264,    0],\n",
       "       [  17, 1896, 3381,   43,   11,    0,  631,    3,    4,   14],\n",
       "       [   0,   11, 1786,    0,   54,    0, 1022,    0, 3127,    0]])"
      ]
     },
     "execution_count": 145,
     "metadata": {
      "tags": []
     },
     "output_type": "execute_result"
    }
   ],
   "source": [
    "confusion_matrix(y_train,y_pred_train_31)"
   ]
  },
  {
   "cell_type": "markdown",
   "metadata": {
    "colab_type": "text",
    "id": "WvB5PmfgETo-"
   },
   "source": [
    "\n",
    "\n",
    "```\n",
    "Mapping Clusters to category labels\n",
    "first changing all cluster number from 0-9 to 10-19\n",
    "then mapping them to the clusters they belong\n",
    " \n",
    " \n",
    " \n",
    "cluster 0 ----> label 3\n",
    "cluster 1 ----> label 8\n",
    "cluster 2 ----> label 9\n",
    "cluster 3 ----> label 0\n",
    "cluster 4 ----> label 5\n",
    "cluster 5 ----> label 6\n",
    "cluster 6 ----> label 7\n",
    "cluster 7 ----> label 2\n",
    "cluster 8 ----> label 1\n",
    "cluster 9 ----> label 4\n",
    " \n",
    "\n",
    "```\n",
    "\n"
   ]
  },
  {
   "cell_type": "code",
   "execution_count": 0,
   "metadata": {
    "colab": {},
    "colab_type": "code",
    "id": "OU1cnG1OETo_"
   },
   "outputs": [],
   "source": [
    "iter = 0\n",
    "for i in range(0,60000):\n",
    "    if y_pred_train_31[i] == 0:\n",
    "        y_pred_train_31[i] = 10\n",
    "    elif y_pred_train_31[i] == 1:\n",
    "        y_pred_train_31[i] = 11\n",
    "    elif y_pred_train_31[i] == 2:\n",
    "        y_pred_train_31[i] = 12\n",
    "    elif y_pred_train_31[i] == 3:\n",
    "        y_pred_train_31[i] = 13\n",
    "    elif y_pred_train_31[i] == 4:\n",
    "        y_pred_train_31[i] = 14\n",
    "    elif y_pred_train_31[i] == 5:\n",
    "        y_pred_train_31[i] = 15\n",
    "    elif y_pred_train_31[i] == 6:\n",
    "        y_pred_train_31[i] = 16\n",
    "    elif y_pred_train_31[i] == 7:\n",
    "        y_pred_train_31[i] = 17\n",
    "    elif y_pred_train_31[i] == 8:\n",
    "        y_pred_train_31[i] = 18\n",
    "    elif y_pred_train_31[i] == 9:\n",
    "        y_pred_train_31[i] = 19\n",
    "\n",
    "    if y_pred_train_31[i] == 10:\n",
    "        y_pred_train_31[i] = 6\n",
    "    elif y_pred_train_31[i] == 11:\n",
    "        y_pred_train_31[i] = 4\n",
    "    elif y_pred_train_31[i] == 12:\n",
    "        y_pred_train_31[i] = 8\n",
    "    elif y_pred_train_31[i] == 13:\n",
    "        y_pred_train_31[i] = 2\n",
    "    elif y_pred_train_31[i] == 14:\n",
    "        y_pred_train_31[i] = 7\n",
    "    elif y_pred_train_31[i] == 15:\n",
    "        y_pred_train_31[i] = 1\n",
    "    elif y_pred_train_31[i] == 16:\n",
    "        y_pred_train_31[i] = 5\n",
    "    elif y_pred_train_31[i] == 17:\n",
    "        y_pred_train_31[i] = 3\n",
    "    elif y_pred_train_31[i] == 18:\n",
    "        y_pred_train_31[i] = 9\n",
    "    elif y_pred_train_31[i] == 19:\n",
    "        y_pred_train_31[i] = 0\n",
    "\n",
    "iter = 0\n",
    "for i in range(0,10000):\n",
    "    if y_pred_test_31[i] == 0:\n",
    "        y_pred_test_31[i] = 10\n",
    "    elif y_pred_test_31[i] == 1:\n",
    "        y_pred_test_31[i] = 11\n",
    "    elif y_pred_test_31[i] == 2:\n",
    "        y_pred_test_31[i] = 12\n",
    "    elif y_pred_test_31[i] == 3:\n",
    "        y_pred_test_31[i] = 13\n",
    "    elif y_pred_test_31[i] == 4:\n",
    "        y_pred_test_31[i] = 14\n",
    "    elif y_pred_test_31[i] == 5:\n",
    "        y_pred_test_31[i] = 15\n",
    "    elif y_pred_test_31[i] == 6:\n",
    "        y_pred_test_31[i] = 16\n",
    "    elif y_pred_test_31[i] == 7:\n",
    "        y_pred_test_31[i] = 17\n",
    "    elif y_pred_test_31[i] == 8:\n",
    "        y_pred_test_31[i] = 18\n",
    "    elif y_pred_test_31[i] == 9:\n",
    "        y_pred_test_31[i] = 19\n",
    "\n",
    "    if y_pred_test_31[i] == 10:\n",
    "        y_pred_test_31[i] = 6\n",
    "    elif y_pred_test_31[i] == 11:\n",
    "        y_pred_test_31[i] = 4\n",
    "    elif y_pred_test_31[i] == 12:\n",
    "        y_pred_test_31[i] = 8\n",
    "    elif y_pred_test_31[i] == 13:\n",
    "        y_pred_test_31[i] = 2\n",
    "    elif y_pred_test_31[i] == 14:\n",
    "        y_pred_test_31[i] = 7\n",
    "    elif y_pred_test_31[i] == 15:\n",
    "        y_pred_test_31[i] = 1\n",
    "    elif y_pred_test_31[i] == 16:\n",
    "        y_pred_test_31[i] = 5\n",
    "    elif y_pred_test_31[i] == 17:\n",
    "        y_pred_test_31[i] = 3\n",
    "    elif y_pred_test_31[i] == 18:\n",
    "        y_pred_test_31[i] = 9\n",
    "    elif y_pred_test_31[i] == 19:\n",
    "        y_pred_test_31[i] = 0\n",
    "\n"
   ]
  },
  {
   "cell_type": "code",
   "execution_count": 0,
   "metadata": {
    "colab": {
     "base_uri": "https://localhost:8080/",
     "height": 194
    },
    "colab_type": "code",
    "executionInfo": {
     "elapsed": 684,
     "status": "ok",
     "timestamp": 1573664954741,
     "user": {
      "displayName": "Karthik Bodapati",
      "photoUrl": "https://lh3.googleusercontent.com/a-/AAuE7mAeBc-z1JJcE6uxpBU15sar0nG7rKS5UHd6ToJ9EA=s64",
      "userId": "16344061707883524589"
     },
     "user_tz": 300
    },
    "id": "TdUWx3TJETpB",
    "outputId": "7d3cf498-24b1-4989-9dff-7059514b3b3a"
   },
   "outputs": [
    {
     "data": {
      "text/plain": [
       "array([[465,   0,  11,  51, 169,   4, 296,   0,   4,   0],\n",
       "       [  7, 644,   2, 269,  49,   0,  29,   0,   0,   0],\n",
       "       [ 29,   0, 511,   1, 233,   0, 217,   0,   9,   0],\n",
       "       [169,  65,   2, 470, 181,   1, 112,   0,   0,   0],\n",
       "       [138,   0, 520,  20, 137,   1, 177,   0,   7,   0],\n",
       "       [  0,   0,   0,   0,   1, 582,   0, 402,   4,  11],\n",
       "       [136,   2, 272,  14, 234,   4, 326,   0,  12,   0],\n",
       "       [  0,   0,   0,   0,   0,  51,   0, 718,   2, 229],\n",
       "       [  2,   0,  13,   0, 344, 112,   3,   3, 522,   1],\n",
       "       [  0,   0,   0,   0,   3, 165,   0,   9, 274, 549]])"
      ]
     },
     "execution_count": 147,
     "metadata": {
      "tags": []
     },
     "output_type": "execute_result"
    }
   ],
   "source": [
    "#confusion matrix after mapping\n",
    "confusion_matrix(y_test, y_pred_test_31)"
   ]
  },
  {
   "cell_type": "code",
   "execution_count": 0,
   "metadata": {
    "colab": {
     "base_uri": "https://localhost:8080/",
     "height": 52
    },
    "colab_type": "code",
    "executionInfo": {
     "elapsed": 1074,
     "status": "ok",
     "timestamp": 1573664957523,
     "user": {
      "displayName": "Karthik Bodapati",
      "photoUrl": "https://lh3.googleusercontent.com/a-/AAuE7mAeBc-z1JJcE6uxpBU15sar0nG7rKS5UHd6ToJ9EA=s64",
      "userId": "16344061707883524589"
     },
     "user_tz": 300
    },
    "id": "DOgIkXJ6ETpD",
    "outputId": "167dd5d3-ca0f-4c91-bfef-a84a7917c698"
   },
   "outputs": [
    {
     "name": "stdout",
     "output_type": "stream",
     "text": [
      "Test Accuarcy -  0.4924\n",
      "Train Accuarcy -  0.49695\n"
     ]
    }
   ],
   "source": [
    "print (\"Test Accuarcy - \",accuracy_score(y_test, y_pred_test_31))\n",
    "print (\"Train Accuarcy - \",accuracy_score(y_train, y_pred_train_31))"
   ]
  },
  {
   "cell_type": "markdown",
   "metadata": {
    "colab_type": "text",
    "id": "d0Th47iJEugv"
   },
   "source": [
    "#### Task 3 - Multilayer autoencoder"
   ]
  },
  {
   "cell_type": "code",
   "execution_count": 0,
   "metadata": {
    "colab": {},
    "colab_type": "code",
    "id": "E0dd9H28EpUU"
   },
   "outputs": [],
   "source": [
    "input_img = Input(shape=(784,))\n",
    "hidden_1 = Dense(128,activation=\"sigmoid\")(input_img)\n",
    "hidden_2 = Dense(64,activation=\"sigmoid\")(hidden_1)\n",
    "hidden_3 = Dense(32,activation=\"sigmoid\")(hidden_2)\n",
    "hidden_4 = Dense(32,activation=\"sigmoid\")(hidden_3)\n",
    "hidden_5 = Dense(64,activation=\"sigmoid\")(hidden_4)\n",
    "hidden_6 = Dense(128,activation=\"sigmoid\")(hidden_5)\n",
    "output = Dense(784,activation=\"sigmoid\")(hidden_6)\n",
    "\n",
    "autoencoder = Model(input_img,output)\n",
    "autoencoder.compile(optimizer='adadelta', loss='mean_squared_error')"
   ]
  },
  {
   "cell_type": "code",
   "execution_count": 0,
   "metadata": {
    "colab": {
     "base_uri": "https://localhost:8080/",
     "height": 937
    },
    "colab_type": "code",
    "executionInfo": {
     "elapsed": 29105,
     "status": "ok",
     "timestamp": 1573664996752,
     "user": {
      "displayName": "Karthik Bodapati",
      "photoUrl": "https://lh3.googleusercontent.com/a-/AAuE7mAeBc-z1JJcE6uxpBU15sar0nG7rKS5UHd6ToJ9EA=s64",
      "userId": "16344061707883524589"
     },
     "user_tz": 300
    },
    "id": "Pfy7uuPgEpUw",
    "outputId": "50a9526c-28c0-4284-bff6-68a42faba301"
   },
   "outputs": [
    {
     "name": "stdout",
     "output_type": "stream",
     "text": [
      "Train on 60000 samples, validate on 10000 samples\n",
      "Epoch 1/25\n",
      "60000/60000 [==============================] - 2s 34us/step - loss: 0.1171 - val_loss: 0.0926\n",
      "Epoch 2/25\n",
      "60000/60000 [==============================] - 1s 19us/step - loss: 0.0901 - val_loss: 0.0880\n",
      "Epoch 3/25\n",
      "60000/60000 [==============================] - 1s 19us/step - loss: 0.0872 - val_loss: 0.0857\n",
      "Epoch 4/25\n",
      "60000/60000 [==============================] - 1s 18us/step - loss: 0.0848 - val_loss: 0.0830\n",
      "Epoch 5/25\n",
      "60000/60000 [==============================] - 1s 19us/step - loss: 0.0818 - val_loss: 0.0797\n",
      "Epoch 6/25\n",
      "60000/60000 [==============================] - 1s 18us/step - loss: 0.0784 - val_loss: 0.0761\n",
      "Epoch 7/25\n",
      "60000/60000 [==============================] - 1s 18us/step - loss: 0.0748 - val_loss: 0.0726\n",
      "Epoch 8/25\n",
      "60000/60000 [==============================] - 1s 18us/step - loss: 0.0714 - val_loss: 0.0694\n",
      "Epoch 9/25\n",
      "60000/60000 [==============================] - 1s 18us/step - loss: 0.0684 - val_loss: 0.0666\n",
      "Epoch 10/25\n",
      "60000/60000 [==============================] - 1s 19us/step - loss: 0.0658 - val_loss: 0.0643\n",
      "Epoch 11/25\n",
      "60000/60000 [==============================] - 1s 18us/step - loss: 0.0636 - val_loss: 0.0622\n",
      "Epoch 12/25\n",
      "60000/60000 [==============================] - 1s 18us/step - loss: 0.0617 - val_loss: 0.0605\n",
      "Epoch 13/25\n",
      "60000/60000 [==============================] - 1s 18us/step - loss: 0.0601 - val_loss: 0.0590\n",
      "Epoch 14/25\n",
      "60000/60000 [==============================] - 1s 18us/step - loss: 0.0587 - val_loss: 0.0577\n",
      "Epoch 15/25\n",
      "60000/60000 [==============================] - 1s 18us/step - loss: 0.0575 - val_loss: 0.0566\n",
      "Epoch 16/25\n",
      "60000/60000 [==============================] - 1s 19us/step - loss: 0.0564 - val_loss: 0.0556\n",
      "Epoch 17/25\n",
      "60000/60000 [==============================] - 1s 18us/step - loss: 0.0554 - val_loss: 0.0547\n",
      "Epoch 18/25\n",
      "60000/60000 [==============================] - 1s 18us/step - loss: 0.0546 - val_loss: 0.0539\n",
      "Epoch 19/25\n",
      "60000/60000 [==============================] - 1s 18us/step - loss: 0.0538 - val_loss: 0.0532\n",
      "Epoch 20/25\n",
      "60000/60000 [==============================] - 1s 18us/step - loss: 0.0531 - val_loss: 0.0525\n",
      "Epoch 21/25\n",
      "60000/60000 [==============================] - 1s 19us/step - loss: 0.0524 - val_loss: 0.0519\n",
      "Epoch 22/25\n",
      "60000/60000 [==============================] - 1s 18us/step - loss: 0.0518 - val_loss: 0.0513\n",
      "Epoch 23/25\n",
      "60000/60000 [==============================] - 1s 19us/step - loss: 0.0512 - val_loss: 0.0507\n",
      "Epoch 24/25\n",
      "60000/60000 [==============================] - 1s 18us/step - loss: 0.0507 - val_loss: 0.0502\n",
      "Epoch 25/25\n",
      "60000/60000 [==============================] - 1s 18us/step - loss: 0.0501 - val_loss: 0.0496\n"
     ]
    },
    {
     "data": {
      "text/plain": [
       "<keras.callbacks.History at 0x7f8bf52c9588>"
      ]
     },
     "execution_count": 150,
     "metadata": {
      "tags": []
     },
     "output_type": "execute_result"
    }
   ],
   "source": [
    "autoencoder.fit(x_train, x_train,  \n",
    "                epochs=25,\n",
    "                batch_size=256,\n",
    "                shuffle=True,\n",
    "                validation_data=(x_test, x_test))"
   ]
  },
  {
   "cell_type": "code",
   "execution_count": 0,
   "metadata": {
    "colab": {},
    "colab_type": "code",
    "id": "SiPVSK55EpU8"
   },
   "outputs": [],
   "source": [
    "encoder = Model(input_img,hidden_3)\n",
    "encoded_imgs_train = encoder.predict(x_train)\n",
    "encoded_imgs_test = encoder.predict(x_test)"
   ]
  },
  {
   "cell_type": "code",
   "execution_count": 0,
   "metadata": {
    "colab": {},
    "colab_type": "code",
    "id": "h0cF0cgSEpU_"
   },
   "outputs": [],
   "source": [
    "gmm_32 = GMM(n_components = 10,init_params=\"random\",random_state=41).fit(encoded_imgs_train)"
   ]
  },
  {
   "cell_type": "code",
   "execution_count": 0,
   "metadata": {
    "colab": {},
    "colab_type": "code",
    "id": "bvI2l-flEpVB"
   },
   "outputs": [],
   "source": [
    "y_pred_train_32 = gmm_32.predict(encoded_imgs_train)\n",
    "y_pred_test_32 = gmm_32.predict(encoded_imgs_test)"
   ]
  },
  {
   "cell_type": "code",
   "execution_count": 0,
   "metadata": {
    "colab": {
     "base_uri": "https://localhost:8080/",
     "height": 194
    },
    "colab_type": "code",
    "executionInfo": {
     "elapsed": 939,
     "status": "ok",
     "timestamp": 1573665559005,
     "user": {
      "displayName": "Karthik Bodapati",
      "photoUrl": "https://lh3.googleusercontent.com/a-/AAuE7mAeBc-z1JJcE6uxpBU15sar0nG7rKS5UHd6ToJ9EA=s64",
      "userId": "16344061707883524589"
     },
     "user_tz": 300
    },
    "id": "wExQhclgEpVD",
    "outputId": "90d1bc4b-943c-4b58-93a0-4915cfc20f5f"
   },
   "outputs": [
    {
     "data": {
      "text/plain": [
       "array([[  11,   40,    0,  264,    0,  349,    1, 1156,  108, 4071],\n",
       "       [   0,    5,    0,   29,    0, 5604,    0,  173,   61,  128],\n",
       "       [  11,   39,    0,  637,    0,   17,    0,  760, 4180,  356],\n",
       "       [   1,    4,    0,   47,    0, 3936,    0,  893,   37, 1082],\n",
       "       [   7,   10,    0,  265,    0,  255,    1,  629, 3727, 1106],\n",
       "       [  14,  452,   87,    0, 3186,    0, 2249,   12,    0,    0],\n",
       "       [  31,   49,    0,  675,    0,  133,    0, 1316, 2457, 1339],\n",
       "       [   2,   17,  239,    0, 5653,    0,   88,    1,    0,    0],\n",
       "       [3352,  286,    1, 1669,   70,    6,   16,  476,  108,   16],\n",
       "       [   1,  608, 4438,    0,  753,    0,  194,    6,    0,    0]])"
      ]
     },
     "execution_count": 163,
     "metadata": {
      "tags": []
     },
     "output_type": "execute_result"
    }
   ],
   "source": [
    "confusion_matrix(y_train,y_pred_train_32)"
   ]
  },
  {
   "cell_type": "markdown",
   "metadata": {
    "colab_type": "text",
    "id": "U_NZiAW1EpVF"
   },
   "source": [
    "\n",
    "\n",
    "```\n",
    "Mapping Clusters to category labels\n",
    "first changing all cluster number from 0-9 to 10-19\n",
    "then mapping them to the clusters they belong\n",
    " \n",
    " \n",
    " \n",
    "cluster 0 ----> label 8\n",
    "cluster 1 ----> label 3\n",
    "cluster 2 ----> label 9\n",
    "cluster 3 ----> label 4\n",
    "cluster 4 ----> label 7\n",
    "cluster 5 ----> label 1\n",
    "cluster 6 ----> label 5\n",
    "cluster 7 ----> label 6\n",
    "cluster 8 ----> label 2\n",
    "cluster 9 ----> label 0\n",
    "```\n",
    "\n"
   ]
  },
  {
   "cell_type": "code",
   "execution_count": 0,
   "metadata": {
    "colab": {},
    "colab_type": "code",
    "id": "N1EqkUGnEpVG"
   },
   "outputs": [],
   "source": [
    "iter = 0\n",
    "for i in range(0,60000):\n",
    "    if y_pred_train_32[i] == 0:\n",
    "        y_pred_train_32[i] = 10\n",
    "    elif y_pred_train_32[i] == 1:\n",
    "        y_pred_train_32[i] = 11\n",
    "    elif y_pred_train_32[i] == 2:\n",
    "        y_pred_train_32[i] = 12\n",
    "    elif y_pred_train_32[i] == 3:\n",
    "        y_pred_train_32[i] = 13\n",
    "    elif y_pred_train_32[i] == 4:\n",
    "        y_pred_train_32[i] = 14\n",
    "    elif y_pred_train_32[i] == 5:\n",
    "        y_pred_train_32[i] = 15\n",
    "    elif y_pred_train_32[i] == 6:\n",
    "        y_pred_train_32[i] = 16\n",
    "    elif y_pred_train_32[i] == 7:\n",
    "        y_pred_train_32[i] = 17\n",
    "    elif y_pred_train_32[i] == 8:\n",
    "        y_pred_train_32[i] = 18\n",
    "    elif y_pred_train_32[i] == 9:\n",
    "        y_pred_train_32[i] = 19\n",
    "\n",
    "    if y_pred_train_32[i] == 10:\n",
    "        y_pred_train_32[i] = 8\n",
    "    elif y_pred_train_32[i] == 11:\n",
    "        y_pred_train_32[i] = 3\n",
    "    elif y_pred_train_32[i] == 12:\n",
    "        y_pred_train_32[i] = 9\n",
    "    elif y_pred_train_32[i] == 13:\n",
    "        y_pred_train_32[i] = 4\n",
    "    elif y_pred_train_32[i] == 14:\n",
    "        y_pred_train_32[i] = 7\n",
    "    elif y_pred_train_32[i] == 15:\n",
    "        y_pred_train_32[i] = 1\n",
    "    elif y_pred_train_32[i] == 16:\n",
    "        y_pred_train_32[i] = 5\n",
    "    elif y_pred_train_32[i] == 17:\n",
    "        y_pred_train_32[i] = 6\n",
    "    elif y_pred_train_32[i] == 18:\n",
    "        y_pred_train_32[i] = 2\n",
    "    elif y_pred_train_32[i] == 19:\n",
    "        y_pred_train_32[i] = 0\n",
    "\n",
    "iter = 0\n",
    "for i in range(0,10000):\n",
    "    if y_pred_test_32[i] == 0:\n",
    "        y_pred_test_32[i] = 10\n",
    "    elif y_pred_test_32[i] == 1:\n",
    "        y_pred_test_32[i] = 11\n",
    "    elif y_pred_test_32[i] == 2:\n",
    "        y_pred_test_32[i] = 12\n",
    "    elif y_pred_test_32[i] == 3:\n",
    "        y_pred_test_32[i] = 13\n",
    "    elif y_pred_test_32[i] == 4:\n",
    "        y_pred_test_32[i] = 14\n",
    "    elif y_pred_test_32[i] == 5:\n",
    "        y_pred_test_32[i] = 15\n",
    "    elif y_pred_test_32[i] == 6:\n",
    "        y_pred_test_32[i] = 16\n",
    "    elif y_pred_test_32[i] == 7:\n",
    "        y_pred_test_32[i] = 17\n",
    "    elif y_pred_test_32[i] == 8:\n",
    "        y_pred_test_32[i] = 18\n",
    "    elif y_pred_test_32[i] == 9:\n",
    "        y_pred_test_32[i] = 19\n",
    "\n",
    "    if y_pred_test_32[i] == 10:\n",
    "        y_pred_test_32[i] = 8\n",
    "    elif y_pred_test_32[i] == 11:\n",
    "        y_pred_test_32[i] = 3\n",
    "    elif y_pred_test_32[i] == 12:\n",
    "        y_pred_test_32[i] = 9\n",
    "    elif y_pred_test_32[i] == 13:\n",
    "        y_pred_test_32[i] = 4\n",
    "    elif y_pred_test_32[i] == 14:\n",
    "        y_pred_test_32[i] = 7\n",
    "    elif y_pred_test_32[i] == 15:\n",
    "        y_pred_test_32[i] = 1\n",
    "    elif y_pred_test_32[i] == 16:\n",
    "        y_pred_test_32[i] = 5\n",
    "    elif y_pred_test_32[i] == 17:\n",
    "        y_pred_test_32[i] = 6\n",
    "    elif y_pred_test_32[i] == 18:\n",
    "        y_pred_test_32[i] = 2\n",
    "    elif y_pred_test_32[i] == 19:\n",
    "        y_pred_test_32[i] = 0\n",
    "\n"
   ]
  },
  {
   "cell_type": "code",
   "execution_count": 0,
   "metadata": {
    "colab": {
     "base_uri": "https://localhost:8080/",
     "height": 194
    },
    "colab_type": "code",
    "executionInfo": {
     "elapsed": 638,
     "status": "ok",
     "timestamp": 1573665594218,
     "user": {
      "displayName": "Karthik Bodapati",
      "photoUrl": "https://lh3.googleusercontent.com/a-/AAuE7mAeBc-z1JJcE6uxpBU15sar0nG7rKS5UHd6ToJ9EA=s64",
      "userId": "16344061707883524589"
     },
     "user_tz": 300
    },
    "id": "NE8YpdaKEpVI",
    "outputId": "d5b2142f-8dd0-4113-802e-923fc0d99d2c"
   },
   "outputs": [
    {
     "data": {
      "text/plain": [
       "array([[666,  64,  23,   7,  61,   0, 176,   0,   3,   0],\n",
       "       [ 32, 924,   8,   1,   6,   0,  28,   0,   1,   0],\n",
       "       [ 53,   4, 692,   3, 116,   0, 130,   0,   2,   0],\n",
       "       [202, 602,   8,   1,  15,   0, 172,   0,   0,   0],\n",
       "       [165,  35, 639,   1,  49,   0, 109,   0,   2,   0],\n",
       "       [  0,   0,   0,  65,   0, 391,   2, 512,   5,  25],\n",
       "       [241,  24, 409,  11, 102,   0, 206,   0,   7,   0],\n",
       "       [  0,   0,   0,   2,   0,  11,   0, 950,   0,  37],\n",
       "       [  3,   0,  24,  35, 301,   2,  80,  13, 541,   1],\n",
       "       [  0,   0,   0, 100,   1,  27,   0, 124,   0, 748]])"
      ]
     },
     "execution_count": 165,
     "metadata": {
      "tags": []
     },
     "output_type": "execute_result"
    }
   ],
   "source": [
    "confusion_matrix(y_test,y_pred_test_32)"
   ]
  },
  {
   "cell_type": "code",
   "execution_count": 0,
   "metadata": {
    "colab": {
     "base_uri": "https://localhost:8080/",
     "height": 52
    },
    "colab_type": "code",
    "executionInfo": {
     "elapsed": 622,
     "status": "ok",
     "timestamp": 1573665597704,
     "user": {
      "displayName": "Karthik Bodapati",
      "photoUrl": "https://lh3.googleusercontent.com/a-/AAuE7mAeBc-z1JJcE6uxpBU15sar0nG7rKS5UHd6ToJ9EA=s64",
      "userId": "16344061707883524589"
     },
     "user_tz": 300
    },
    "id": "gTaka-XDEpVJ",
    "outputId": "9de3180c-d258-4e43-ea40-2e7396a1a696"
   },
   "outputs": [
    {
     "name": "stdout",
     "output_type": "stream",
     "text": [
      "Test Accuarcy -  0.5168\n",
      "Train Accuarcy -  0.5188666666666667\n"
     ]
    }
   ],
   "source": [
    "print (\"Test Accuarcy - \",accuracy_score(y_test, y_pred_test_32))\n",
    "print (\"Train Accuarcy - \",accuracy_score(y_train, y_pred_train_32))"
   ]
  },
  {
   "cell_type": "markdown",
   "metadata": {
    "colab_type": "text",
    "id": "eKVj2CGNU-fk"
   },
   "source": [
    "#### Task 3 - Convoulutional autoencoder"
   ]
  },
  {
   "cell_type": "code",
   "execution_count": 0,
   "metadata": {
    "colab": {},
    "colab_type": "code",
    "id": "Ntl5TKlHEpVL"
   },
   "outputs": [],
   "source": [
    "from keras.layers import Input, Dense, Conv2D, MaxPooling2D, UpSampling2D\n",
    "x_train = np.reshape(x_train, (len(x_train), 28, 28, 1))  # adapt this if using `channels_first` image data format\n",
    "x_test = np.reshape(x_test, (len(x_test), 28, 28, 1))\n",
    "input_img = Input(shape=(28, 28, 1))  # adapt this if using `channels_first` image data format\n",
    "\n",
    "x = Conv2D(128, (3, 3), activation='relu', padding='same')(input_img)\n",
    "x = MaxPooling2D((2, 2), padding='same')(x)\n",
    "x = Conv2D(64, (3, 3), activation='relu', padding='same')(x)\n",
    "x = MaxPooling2D((2, 2), padding='same')(x)\n",
    "x = Conv2D(32, (3, 3), activation='relu', padding='same')(x)\n",
    "encoded = MaxPooling2D((2, 2), padding='same')(x)\n",
    "\n",
    "x = Conv2D(32, (3, 3), activation='relu', padding='same')(encoded)\n",
    "x = UpSampling2D((2, 2))(x)\n",
    "x = Conv2D(64, (3, 3), activation='relu', padding='same')(x)\n",
    "x = UpSampling2D((2, 2))(x)\n",
    "x = Conv2D(128, (3, 3), activation='relu')(x)\n",
    "x = UpSampling2D((2, 2))(x)\n",
    "decoded = Conv2D(1, (3, 3), activation='sigmoid', padding='same')(x)\n",
    "\n",
    "autoencoder = Model(input_img, decoded)\n",
    "autoencoder.compile(optimizer='adadelta', loss='mean_squared_error')"
   ]
  },
  {
   "cell_type": "code",
   "execution_count": 0,
   "metadata": {
    "colab": {
     "base_uri": "https://localhost:8080/",
     "height": 760
    },
    "colab_type": "code",
    "executionInfo": {
     "elapsed": 134757,
     "status": "ok",
     "timestamp": 1573665765449,
     "user": {
      "displayName": "Karthik Bodapati",
      "photoUrl": "https://lh3.googleusercontent.com/a-/AAuE7mAeBc-z1JJcE6uxpBU15sar0nG7rKS5UHd6ToJ9EA=s64",
      "userId": "16344061707883524589"
     },
     "user_tz": 300
    },
    "id": "qaZXnEWKEpVN",
    "outputId": "5e905e30-69f7-4c6e-eb8b-2713fc02462b"
   },
   "outputs": [
    {
     "name": "stdout",
     "output_type": "stream",
     "text": [
      "Train on 60000 samples, validate on 10000 samples\n",
      "Epoch 1/20\n",
      "60000/60000 [==============================] - 8s 130us/step - loss: 0.0395 - val_loss: 0.0275\n",
      "Epoch 2/20\n",
      "60000/60000 [==============================] - 7s 110us/step - loss: 0.0228 - val_loss: 0.0209\n",
      "Epoch 3/20\n",
      "60000/60000 [==============================] - 7s 110us/step - loss: 0.0192 - val_loss: 0.0189\n",
      "Epoch 4/20\n",
      "60000/60000 [==============================] - 7s 110us/step - loss: 0.0172 - val_loss: 0.0168\n",
      "Epoch 5/20\n",
      "60000/60000 [==============================] - 7s 110us/step - loss: 0.0159 - val_loss: 0.0154\n",
      "Epoch 6/20\n",
      "60000/60000 [==============================] - 7s 110us/step - loss: 0.0149 - val_loss: 0.0145\n",
      "Epoch 7/20\n",
      "60000/60000 [==============================] - 7s 110us/step - loss: 0.0142 - val_loss: 0.0136\n",
      "Epoch 8/20\n",
      "60000/60000 [==============================] - 7s 110us/step - loss: 0.0136 - val_loss: 0.0130\n",
      "Epoch 9/20\n",
      "60000/60000 [==============================] - 7s 111us/step - loss: 0.0131 - val_loss: 0.0131\n",
      "Epoch 10/20\n",
      "60000/60000 [==============================] - 7s 112us/step - loss: 0.0127 - val_loss: 0.0127\n",
      "Epoch 11/20\n",
      "60000/60000 [==============================] - 7s 109us/step - loss: 0.0123 - val_loss: 0.0123\n",
      "Epoch 12/20\n",
      "60000/60000 [==============================] - 7s 110us/step - loss: 0.0120 - val_loss: 0.0121\n",
      "Epoch 13/20\n",
      "60000/60000 [==============================] - 7s 110us/step - loss: 0.0117 - val_loss: 0.0118\n",
      "Epoch 14/20\n",
      "60000/60000 [==============================] - 7s 110us/step - loss: 0.0114 - val_loss: 0.0114\n",
      "Epoch 15/20\n",
      "60000/60000 [==============================] - 7s 110us/step - loss: 0.0112 - val_loss: 0.0113\n",
      "Epoch 16/20\n",
      "60000/60000 [==============================] - 7s 110us/step - loss: 0.0110 - val_loss: 0.0111\n",
      "Epoch 17/20\n",
      "60000/60000 [==============================] - 7s 110us/step - loss: 0.0108 - val_loss: 0.0108\n",
      "Epoch 18/20\n",
      "60000/60000 [==============================] - 7s 110us/step - loss: 0.0107 - val_loss: 0.0105\n",
      "Epoch 19/20\n",
      "60000/60000 [==============================] - 7s 111us/step - loss: 0.0105 - val_loss: 0.0107\n",
      "Epoch 20/20\n",
      "60000/60000 [==============================] - 7s 110us/step - loss: 0.0103 - val_loss: 0.0105\n"
     ]
    },
    {
     "data": {
      "text/plain": [
       "<keras.callbacks.History at 0x7f8bf2984080>"
      ]
     },
     "execution_count": 168,
     "metadata": {
      "tags": []
     },
     "output_type": "execute_result"
    }
   ],
   "source": [
    "autoencoder.fit(x_train, x_train,\n",
    "                epochs=20,\n",
    "                batch_size=128,\n",
    "                shuffle=True,\n",
    "                validation_data=(x_test, x_test))"
   ]
  },
  {
   "cell_type": "code",
   "execution_count": 0,
   "metadata": {
    "colab": {},
    "colab_type": "code",
    "id": "PKNXspQIEpVP"
   },
   "outputs": [],
   "source": [
    "encoder = Model(input_img,encoded)"
   ]
  },
  {
   "cell_type": "code",
   "execution_count": 0,
   "metadata": {
    "colab": {},
    "colab_type": "code",
    "id": "2ju5gPWbEpVQ"
   },
   "outputs": [],
   "source": [
    "enc_train = encoder.predict(x_train)\n",
    "enc_test = encoder.predict(x_test)"
   ]
  },
  {
   "cell_type": "code",
   "execution_count": 0,
   "metadata": {
    "colab": {
     "base_uri": "https://localhost:8080/",
     "height": 161
    },
    "colab_type": "code",
    "executionInfo": {
     "elapsed": 3217747,
     "status": "ok",
     "timestamp": 1573669044317,
     "user": {
      "displayName": "Karthik Bodapati",
      "photoUrl": "https://lh3.googleusercontent.com/a-/AAuE7mAeBc-z1JJcE6uxpBU15sar0nG7rKS5UHd6ToJ9EA=s64",
      "userId": "16344061707883524589"
     },
     "user_tz": 300
    },
    "id": "k2puhO02EpVS",
    "outputId": "b5ce04d5-b8cd-42d2-db34-1cb9e8596194"
   },
   "outputs": [
    {
     "name": "stderr",
     "output_type": "stream",
     "text": [
      "/usr/local/lib/python3.6/dist-packages/sklearn/mixture/base.py:265: ConvergenceWarning: Initialization 1 did not converge. Try different init parameters, or increase max_iter, tol or check for degenerate data.\n",
      "  % (init + 1), ConvergenceWarning)\n"
     ]
    },
    {
     "data": {
      "text/plain": [
       "GaussianMixture(covariance_type='full', init_params='random', max_iter=100,\n",
       "                means_init=None, n_components=10, n_init=1,\n",
       "                precisions_init=None, random_state=41, reg_covar=1e-06,\n",
       "                tol=0.001, verbose=0, verbose_interval=10, warm_start=False,\n",
       "                weights_init=None)"
      ]
     },
     "execution_count": 171,
     "metadata": {
      "tags": []
     },
     "output_type": "execute_result"
    }
   ],
   "source": [
    "gmm_33 = GMM(n_components = 10, init_params=\"random\",random_state=41)\n",
    "gmm_33.fit(enc_train.reshape(60000,512))"
   ]
  },
  {
   "cell_type": "code",
   "execution_count": 0,
   "metadata": {
    "colab": {},
    "colab_type": "code",
    "id": "IVEGSiM0EpVT"
   },
   "outputs": [],
   "source": [
    "y_pred_test_33 = gmm_33.predict(enc_test.reshape(10000,512))\n",
    "y_pred_train_33 = gmm_33.predict(enc_train.reshape(60000,512))"
   ]
  },
  {
   "cell_type": "code",
   "execution_count": 0,
   "metadata": {
    "colab": {
     "base_uri": "https://localhost:8080/",
     "height": 194
    },
    "colab_type": "code",
    "executionInfo": {
     "elapsed": 628,
     "status": "ok",
     "timestamp": 1573669616588,
     "user": {
      "displayName": "Karthik Bodapati",
      "photoUrl": "https://lh3.googleusercontent.com/a-/AAuE7mAeBc-z1JJcE6uxpBU15sar0nG7rKS5UHd6ToJ9EA=s64",
      "userId": "16344061707883524589"
     },
     "user_tz": 300
    },
    "id": "lKHyTfMsEpVV",
    "outputId": "aa3fca60-e803-436b-f49d-6cbe49fe9f87"
   },
   "outputs": [
    {
     "data": {
      "text/plain": [
       "array([[ 190,  587,    1,  819,  209,   20,    0,  144,  212, 3818],\n",
       "       [4810,   45,    0,   34,  128,    6,    0,  868,    9,  100],\n",
       "       [  24,  235,    0, 1639,  131, 3068,    0,   23,  841,   39],\n",
       "       [3873,  217,    0,  240,  119,   29,    0,  649,   99,  774],\n",
       "       [ 645,  116,    0, 1040,  168, 3328,    0,   33,  607,   63],\n",
       "       [   0, 2427,   29,    0,  250,    0, 3291,    3,    0,    0],\n",
       "       [  88,  326,    0, 1601,  316, 1884,    0,   52,  610, 1123],\n",
       "       [   0,   37,  230,    0,  296,    0, 5435,    0,    0,    2],\n",
       "       [   3,  381,    1,   14,  842,    9,    8, 1101, 3626,   15],\n",
       "       [   0,  224, 4759,    0,  438,    0,  576,    3,    0,    0]])"
      ]
     },
     "execution_count": 182,
     "metadata": {
      "tags": []
     },
     "output_type": "execute_result"
    }
   ],
   "source": [
    "confusion_matrix(y_train,y_pred_train_33)"
   ]
  },
  {
   "cell_type": "markdown",
   "metadata": {
    "colab_type": "text",
    "id": "-SvCwfRxEpVX"
   },
   "source": [
    "\n",
    "\n",
    "```\n",
    "Mapping Clusters to category labels\n",
    "first changing all cluster number from 0-9 to 10-19\n",
    "then mapping them to the clusters they belong\n",
    " \n",
    " \n",
    " \n",
    "cluster 0 ----> label 4\n",
    "cluster 1 ----> label 5\n",
    "cluster 2 ----> label 9\n",
    "cluster 3 ----> label 8\n",
    "cluster 4 ----> label 7\n",
    "cluster 5 ----> label 6\n",
    "cluster 6 ----> label 1\n",
    "cluster 7 ----> label 2\n",
    "cluster 8 ----> label 3\n",
    "cluster 9 ----> label 0\n",
    "```\n",
    "\n"
   ]
  },
  {
   "cell_type": "code",
   "execution_count": 0,
   "metadata": {
    "colab": {},
    "colab_type": "code",
    "id": "Crz2e39mEpVZ"
   },
   "outputs": [],
   "source": [
    "iter = 0\n",
    "for i in range(0,60000):\n",
    "    if y_pred_train_33[i] == 0:\n",
    "        y_pred_train_33[i] = 10\n",
    "    elif y_pred_train_33[i] == 1:\n",
    "        y_pred_train_33[i] = 11\n",
    "    elif y_pred_train_33[i] == 2:\n",
    "        y_pred_train_33[i] = 12\n",
    "    elif y_pred_train_33[i] == 3:\n",
    "        y_pred_train_33[i] = 13\n",
    "    elif y_pred_train_33[i] == 4:\n",
    "        y_pred_train_33[i] = 14\n",
    "    elif y_pred_train_33[i] == 5:\n",
    "        y_pred_train_33[i] = 15\n",
    "    elif y_pred_train_33[i] == 6:\n",
    "        y_pred_train_33[i] = 16\n",
    "    elif y_pred_train_33[i] == 7:\n",
    "        y_pred_train_33[i] = 17\n",
    "    elif y_pred_train_33[i] == 8:\n",
    "        y_pred_train_33[i] = 18\n",
    "    elif y_pred_train_33[i] == 9:\n",
    "        y_pred_train_33[i] = 19\n",
    "\n",
    "    if y_pred_train_33[i] == 10:\n",
    "        y_pred_train_33[i] = 1\n",
    "    elif y_pred_train_33[i] == 11:\n",
    "        y_pred_train_33[i] = 5\n",
    "    elif y_pred_train_33[i] == 12:\n",
    "        y_pred_train_33[i] = 9\n",
    "    elif y_pred_train_33[i] == 13:\n",
    "        y_pred_train_33[i] = 2\n",
    "    elif y_pred_train_33[i] == 14:\n",
    "        y_pred_train_33[i] = 6\n",
    "    elif y_pred_train_33[i] == 15:\n",
    "        y_pred_train_33[i] = 4\n",
    "    elif y_pred_train_33[i] == 16:\n",
    "        y_pred_train_33[i] = 7\n",
    "    elif y_pred_train_33[i] == 17:\n",
    "        y_pred_train_33[i] = 3\n",
    "    elif y_pred_train_33[i] == 18:\n",
    "        y_pred_train_33[i] = 8\n",
    "    elif y_pred_train_33[i] == 19:\n",
    "        y_pred_train_33[i] = 0\n",
    "\n",
    "iter = 0\n",
    "for i in range(0,10000):\n",
    "    if y_pred_test_33[i] == 0:\n",
    "        y_pred_test_33[i] = 10\n",
    "    elif y_pred_test_33[i] == 1:\n",
    "        y_pred_test_33[i] = 11\n",
    "    elif y_pred_test_33[i] == 2:\n",
    "        y_pred_test_33[i] = 12\n",
    "    elif y_pred_test_33[i] == 3:\n",
    "        y_pred_test_33[i] = 13\n",
    "    elif y_pred_test_33[i] == 4:\n",
    "        y_pred_test_33[i] = 14\n",
    "    elif y_pred_test_33[i] == 5:\n",
    "        y_pred_test_33[i] = 15\n",
    "    elif y_pred_test_33[i] == 6:\n",
    "        y_pred_test_33[i] = 16\n",
    "    elif y_pred_test_33[i] == 7:\n",
    "        y_pred_test_33[i] = 17\n",
    "    elif y_pred_test_33[i] == 8:\n",
    "        y_pred_test_33[i] = 18\n",
    "    elif y_pred_test_33[i] == 9:\n",
    "        y_pred_test_33[i] = 19\n",
    "\n",
    "    if y_pred_test_33[i] == 10:\n",
    "        y_pred_test_33[i] = 1\n",
    "    elif y_pred_test_33[i] == 11:\n",
    "        y_pred_test_33[i] = 5\n",
    "    elif y_pred_test_33[i] == 12:\n",
    "        y_pred_test_33[i] = 9\n",
    "    elif y_pred_test_33[i] == 13:\n",
    "        y_pred_test_33[i] = 2\n",
    "    elif y_pred_test_33[i] == 14:\n",
    "        y_pred_test_33[i] = 6\n",
    "    elif y_pred_test_33[i] == 15:\n",
    "        y_pred_test_33[i] = 4\n",
    "    elif y_pred_test_33[i] == 16:\n",
    "        y_pred_test_33[i] = 7\n",
    "    elif y_pred_test_33[i] == 17:\n",
    "        y_pred_test_33[i] = 3\n",
    "    elif y_pred_test_33[i] == 18:\n",
    "        y_pred_test_33[i] = 8\n",
    "    elif y_pred_test_33[i] == 19:\n",
    "        y_pred_test_33[i] = 0\n",
    "\n"
   ]
  },
  {
   "cell_type": "code",
   "execution_count": 0,
   "metadata": {
    "colab": {
     "base_uri": "https://localhost:8080/",
     "height": 194
    },
    "colab_type": "code",
    "executionInfo": {
     "elapsed": 721,
     "status": "ok",
     "timestamp": 1573669625638,
     "user": {
      "displayName": "Karthik Bodapati",
      "photoUrl": "https://lh3.googleusercontent.com/a-/AAuE7mAeBc-z1JJcE6uxpBU15sar0nG7rKS5UHd6ToJ9EA=s64",
      "userId": "16344061707883524589"
     },
     "user_tz": 300
    },
    "id": "hVx01YiYEpVb",
    "outputId": "02c8d6e2-83ac-449f-bf98-28937b7342a5"
   },
   "outputs": [
    {
     "data": {
      "text/plain": [
       "array([[627,  36, 124,  19,   4, 111,  33,   0,  46,   0],\n",
       "       [ 22, 792,   4, 141,   3,  11,  24,   0,   3,   0],\n",
       "       [  7,   7, 275,   0, 509,  51,  14,   0, 137,   0],\n",
       "       [128, 603,  48, 114,   8,  58,  21,   0,  20,   0],\n",
       "       [  9,  79, 143,   5, 578,  38,  31,   0, 117,   0],\n",
       "       [  0,   0,   0,   0,   0, 440,  40, 514,   0,   6],\n",
       "       [214,  14, 248,   9, 312,  59,  53,   0,  91,   0],\n",
       "       [  0,   0,   0,   0,   0,   5,  43, 906,   0,  46],\n",
       "       [  2,   0,   0, 165,   1,  85, 134,   3, 610,   0],\n",
       "       [  0,   0,   0,   0,   0,  44,  69,  87,   0, 800]])"
      ]
     },
     "execution_count": 184,
     "metadata": {
      "tags": []
     },
     "output_type": "execute_result"
    }
   ],
   "source": [
    "confusion_matrix(y_test,y_pred_test_33)"
   ]
  },
  {
   "cell_type": "code",
   "execution_count": 0,
   "metadata": {
    "colab": {
     "base_uri": "https://localhost:8080/",
     "height": 52
    },
    "colab_type": "code",
    "executionInfo": {
     "elapsed": 385,
     "status": "ok",
     "timestamp": 1573669626501,
     "user": {
      "displayName": "Karthik Bodapati",
      "photoUrl": "https://lh3.googleusercontent.com/a-/AAuE7mAeBc-z1JJcE6uxpBU15sar0nG7rKS5UHd6ToJ9EA=s64",
      "userId": "16344061707883524589"
     },
     "user_tz": 300
    },
    "id": "l2Sda9mSEpVd",
    "outputId": "3f2cdfdf-382c-4055-ab7d-ed6372e2ccc2"
   },
   "outputs": [
    {
     "name": "stdout",
     "output_type": "stream",
     "text": [
      "Test Accuarcy -  0.5195\n",
      "Train Accuarcy -  0.51345\n"
     ]
    }
   ],
   "source": [
    "print (\"Test Accuarcy - \",accuracy_score(y_test, y_pred_test_33))\n",
    "print (\"Train Accuarcy - \",accuracy_score(y_train, y_pred_train_33))"
   ]
  }
 ],
 "metadata": {
  "accelerator": "GPU",
  "colab": {
   "collapsed_sections": [
    "zJ6oryHwnjQE",
    "pXV56_iXSNP1",
    "kpA6N-g6E1ox",
    "H2f_5-tuDqa5"
   ],
   "name": "CSE574_project3.ipynb",
   "provenance": []
  },
  "kernelspec": {
   "display_name": "Python 3",
   "language": "python",
   "name": "python3"
  },
  "language_info": {
   "codemirror_mode": {
    "name": "ipython",
    "version": 3
   },
   "file_extension": ".py",
   "mimetype": "text/x-python",
   "name": "python",
   "nbconvert_exporter": "python",
   "pygments_lexer": "ipython3",
   "version": "3.7.4"
  }
 },
 "nbformat": 4,
 "nbformat_minor": 1
}
