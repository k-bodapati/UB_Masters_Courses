{
 "cells": [
  {
   "cell_type": "code",
   "execution_count": 1,
   "metadata": {},
   "outputs": [
    {
     "name": "stderr",
     "output_type": "stream",
     "text": [
      "Using TensorFlow backend.\n"
     ]
    }
   ],
   "source": [
    "from keras.datasets import fashion_mnist\n",
    "import keras\n",
    "import numpy as np\n",
    "from pandas import DataFrame as df\n",
    "from sklearn.cluster import KMeans\n",
    "from sklearn.metrics import *\n",
    "from keras.layers import Input, Dense\n",
    "from keras.models import Model\n",
    "\n",
    "(x_train, y_train), (x_test, y_test) = fashion_mnist.load_data()"
   ]
  },
  {
   "cell_type": "code",
   "execution_count": 2,
   "metadata": {},
   "outputs": [],
   "source": [
    "x_train = x_train.reshape((60000,784))\n",
    "x_test = x_test.reshape((10000,784))"
   ]
  },
  {
   "cell_type": "code",
   "execution_count": 3,
   "metadata": {},
   "outputs": [],
   "source": [
    "encoding_dim = 784  \n",
    "input_img = Input(shape=(784,))\n",
    "encoded = Dense(encoding_dim, activation='sigmoid')(input_img)\n",
    "decoded = Dense(784, activation='sigmoid')(encoded)\n",
    "autoencoder = Model(input_img, decoded)"
   ]
  },
  {
   "cell_type": "code",
   "execution_count": 4,
   "metadata": {},
   "outputs": [],
   "source": [
    "encoder = Model(input_img, encoded)\n",
    "# create a placeholder for an encoded (32-dimensional) input\n",
    "encoded_input = Input(shape=(encoding_dim,))\n",
    "# retrieve the last layer of the autoencoder model\n",
    "decoder_layer = autoencoder.layers[-1]\n",
    "# create the decoder model\n",
    "decoder = Model(encoded_input, decoder_layer(encoded_input))"
   ]
  },
  {
   "cell_type": "code",
   "execution_count": 5,
   "metadata": {},
   "outputs": [],
   "source": [
    "autoencoder.compile(optimizer='adadelta', loss='binary_crossentropy')"
   ]
  },
  {
   "cell_type": "code",
   "execution_count": null,
   "metadata": {},
   "outputs": [
    {
     "name": "stdout",
     "output_type": "stream",
     "text": [
      "Train on 60000 samples, validate on 10000 samples\n",
      "Epoch 1/50\n",
      "60000/60000 [==============================] - 5s 90us/step - loss: -14707.5004 - val_loss: -30818.4908\n",
      "Epoch 2/50\n",
      "60000/60000 [==============================] - 6s 93us/step - loss: -47672.0809 - val_loss: -65522.0732\n",
      "Epoch 3/50\n",
      "60000/60000 [==============================] - 6s 93us/step - loss: -83686.4503 - val_loss: -103011.4477\n",
      "Epoch 4/50\n",
      "60000/60000 [==============================] - 5s 85us/step - loss: -122358.4023 - val_loss: -143080.4716\n",
      "Epoch 5/50\n",
      "60000/60000 [==============================] - 6s 94us/step - loss: -163521.8380 - val_loss: -185530.9239\n",
      "Epoch 6/50\n",
      "60000/60000 [==============================] - 5s 89us/step - loss: -206960.3293 - val_loss: -230188.3178\n",
      "Epoch 7/50\n",
      "60000/60000 [==============================] - 5s 90us/step - loss: -252526.6715 - val_loss: -276914.2590\n",
      "Epoch 8/50\n",
      "60000/60000 [==============================] - 5s 88us/step - loss: -300109.2246 - val_loss: -325614.1585\n",
      "Epoch 9/50\n",
      "60000/60000 [==============================] - 5s 89us/step - loss: -349602.9845 - val_loss: -376161.4138\n",
      "Epoch 10/50\n",
      "60000/60000 [==============================] - 5s 91us/step - loss: -400905.7465 - val_loss: -428509.7866\n",
      "Epoch 11/50\n",
      "60000/60000 [==============================] - 5s 89us/step - loss: -453965.5813 - val_loss: -482573.2726\n",
      "Epoch 12/50\n",
      "60000/60000 [==============================] - 5s 89us/step - loss: -508705.5759 - val_loss: -538260.9548\n",
      "Epoch 13/50\n",
      "60000/60000 [==============================] - 5s 87us/step - loss: -565027.7929 - val_loss: -595533.8638\n",
      "Epoch 14/50\n",
      "60000/60000 [==============================] - 5s 87us/step - loss: -622906.1662 - val_loss: -654325.0853\n",
      "Epoch 15/50\n",
      "60000/60000 [==============================] - 5s 86us/step - loss: -682268.1543 - val_loss: -714592.7243\n",
      "Epoch 16/50\n",
      "60000/60000 [==============================] - 6s 93us/step - loss: -743087.6861 - val_loss: -776295.2326\n",
      "Epoch 17/50\n",
      "60000/60000 [==============================] - 6s 92us/step - loss: -805320.1299 - val_loss: -839403.4528\n",
      "Epoch 18/50\n",
      "60000/60000 [==============================] - 5s 91us/step - loss: -868924.3273 - val_loss: -903855.8856\n",
      "Epoch 19/50\n",
      "15104/60000 [======>.......................] - ETA: 3s - loss: -904488.4417"
     ]
    }
   ],
   "source": [
    "autoencoder.fit(x_train, x_train,\n",
    "                epochs=50,\n",
    "                batch_size=256,\n",
    "                shuffle=True,\n",
    "                validation_data=(x_test, x_test))"
   ]
  },
  {
   "cell_type": "code",
   "execution_count": null,
   "metadata": {},
   "outputs": [],
   "source": [
    "encoded_imgs = encoder.predict(x_train)\n",
    "decoded_imgs = decoder.predict(encoded_imgs)"
   ]
  },
  {
   "cell_type": "code",
   "execution_count": null,
   "metadata": {},
   "outputs": [],
   "source": [
    "import matplotlib.pyplot as plt\n",
    "\n",
    "n = 10  # how many digits we will display\n",
    "plt.figure(figsize=(20, 4))\n",
    "for i in range(n):\n",
    "    # display original\n",
    "    ax = plt.subplot(2, n, i + 1)\n",
    "    plt.imshow(x_train[i].reshape(28, 28))\n",
    "    plt.gray()\n",
    "    ax.get_xaxis().set_visible(False)\n",
    "    ax.get_yaxis().set_visible(False)\n",
    "\n",
    "    # display reconstruction\n",
    "    ax = plt.subplot(2, n, i + 1 + n)\n",
    "    plt.imshow(decoded_imgs[i].reshape(28, 28))\n",
    "    plt.gray()\n",
    "    ax.get_xaxis().set_visible(False)\n",
    "    ax.get_yaxis().set_visible(False)\n",
    "plt.show()"
   ]
  },
  {
   "cell_type": "code",
   "execution_count": null,
   "metadata": {},
   "outputs": [],
   "source": [
    "from sklearn.mixtures import GuassianMixture\n",
    "gmm = GuassianMixture(n_components = 10)"
   ]
  }
 ],
 "metadata": {
  "kernelspec": {
   "display_name": "Python 3",
   "language": "python",
   "name": "python3"
  },
  "language_info": {
   "codemirror_mode": {
    "name": "ipython",
    "version": 3
   },
   "file_extension": ".py",
   "mimetype": "text/x-python",
   "name": "python",
   "nbconvert_exporter": "python",
   "pygments_lexer": "ipython3",
   "version": "3.7.4"
  }
 },
 "nbformat": 4,
 "nbformat_minor": 2
}
