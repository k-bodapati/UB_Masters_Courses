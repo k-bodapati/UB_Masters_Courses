{
 "cells": [
  {
   "cell_type": "markdown",
   "metadata": {
    "colab_type": "text",
    "id": "vIl-V8Hup54v"
   },
   "source": [
    "# TASK 1"
   ]
  },
  {
   "cell_type": "markdown",
   "metadata": {
    "colab_type": "text",
    "id": "_JulrZOpp52Z"
   },
   "source": [
    "### Task 1a\n",
    "\\begin{align*}\n",
    "\\theta_{MLE} &= argmax_{\\theta} p(X/\\theta)\\\\\n",
    "&= arg\\max_{\\theta} \\prod_{n} P(t_n| x_n; \\theta) \\\\\n",
    "&= arg\\max_{\\theta}\\> log(\\prod_{n} P(t_n| x_n; \\theta)) \\\\\n",
    "&= arg\\max_{\\theta}\\> \\sum_{n} log(P(t_n| x_n; \\theta)) \\\\\n",
    "&= arg\\max_{\\theta}\\> \\sum_{n}\\sum_{m} t_{n,m} log(P(t_n| x_n; \\theta)) \\\\\n",
    "&= arg\\max_{\\theta}\\> \\sum_{n} log(\\prod_{m} (P(t_n| x_n; \\theta))^{t_{n,m}} \\\\\n",
    "&= arg\\max_{\\theta}\\> log( \\prod_{n} \\prod_{m} (P(t_n| x_n; \\theta))^{t_{n,m}} \\\\\n",
    "&= - arg\\min_{\\theta}\\> log( \\prod_{n} \\prod_{m} (P(t_n| x_n; \\theta))^{t_{n,m}} \\\\\n",
    "\\end{align*}"
   ]
  },
  {
   "cell_type": "markdown",
   "metadata": {
    "colab_type": "text",
    "id": "aWGTjwkpp50J"
   },
   "source": [
    "### Task 1b\n",
    "\\begin{align*}\n",
    "\\theta_{MAP} &= argmax_{\\theta} p(X/\\theta) p(\\theta)\\\\\n",
    "&= arg\\max_{\\theta} \\prod_{n} P(t_n| x_n; \\theta) p(\\theta) \\\\\n",
    "&= arg\\max_{\\theta}\\> log(\\prod_{n} P(t_n| x_n; \\theta) p(\\theta))\\\\\n",
    "&= arg\\max_{\\theta}\\> \\sum_{n} log(P(t_n| x_n; \\theta)) + log(p(\\theta))\\\\\n",
    "&= arg\\max_{\\theta}\\> \\sum_{n}\\sum_{m} t_{n,m} log(P(t_n| x_n; \\theta)) + log(p(\\theta))\\\\\n",
    "&= arg\\max_{\\theta}\\> \\sum_{n}\\sum_{m} t_{n,m} log(P(t_n| x_n; \\theta)) + \\sum_{n}\\sum_{m} t_{n,m} log(p(\\theta))\\\\\n",
    "&= arg\\max_{\\theta}\\> \\sum_{n} (log(\\prod_{m} P(t_n| x_n; \\theta)))^{t_{n,m}} + \\sum_{n} log(\\prod_{m}p(\\theta))^{t_{m,n} } \\\\\n",
    "&= arg\\max_{\\theta}\\> (log(\\prod_{n} \\prod_{m} P(t_n| x_n; \\theta)))^{t_{n,m}} + log(\\prod_{n} \\prod_{m}p(\\theta))^{t_{m,n} } \\\\\u0017\u0017\n",
    "&= arg\\max_{\\theta}\\> (log(\\prod_{n} \\prod_{m} P(t_n| x_n; \\theta)))^{t_{n,m}} + const * ||\\theta||^{2} \\\\\n",
    "\\end{align*}\n",
    "Because, \\\\\n",
    "\\begin{align*}\n",
    "P(\\theta) &= \\frac{1}{\\sqrt{2\\pi\\alpha^2}} e^-(\\frac{\\theta-0}{2\\alpha^2})\\\\\n",
    "log(P(\\theta)) &= const. + log\\>e^-({\\frac{1}{2\\alpha}\\theta^2}) \\\\\n",
    "&= const. - \\frac{1}{2\\alpha}\\theta^2\n",
    "\\end{align*}"
   ]
  },
  {
   "cell_type": "markdown",
   "metadata": {
    "colab_type": "text",
    "id": "xhBL47TUJmQ2"
   },
   "source": [
    "## TASK 2A"
   ]
  },
  {
   "cell_type": "code",
   "execution_count": 1,
   "metadata": {
    "colab": {
     "base_uri": "https://localhost:8080/",
     "height": 34
    },
    "colab_type": "code",
    "executionInfo": {
     "elapsed": 2930,
     "status": "ok",
     "timestamp": 1587208120254,
     "user": {
      "displayName": "Karthik Bodapati",
      "photoUrl": "https://lh3.googleusercontent.com/a-/AOh14GjRtDXeyLxAZZDIxDocBBbr7SK7vsuoztgb52mLwQ=s64",
      "userId": "16344061707883524589"
     },
     "user_tz": 240
    },
    "id": "7PwxCfzJgqAF",
    "outputId": "57805a16-5fe2-45f6-b06b-c43a8a8ecd4d"
   },
   "outputs": [
    {
     "name": "stderr",
     "output_type": "stream",
     "text": [
      "Using TensorFlow backend.\n"
     ]
    }
   ],
   "source": [
    "import keras\n",
    "from keras.datasets import mnist\n",
    "from keras.models import Sequential\n",
    "from keras.layers import Dense, Dropout, Flatten\n",
    "from keras.layers import Conv2D, MaxPooling2D\n",
    "from keras import backend as K\n",
    "import numpy as np\n",
    "import matplotlib.pyplot as plt"
   ]
  },
  {
   "cell_type": "code",
   "execution_count": 0,
   "metadata": {
    "colab": {},
    "colab_type": "code",
    "id": "NCFIctFYj8iw"
   },
   "outputs": [],
   "source": [
    "(x_train, y_train), (x_test, y_test) = mnist.load_data()"
   ]
  },
  {
   "cell_type": "code",
   "execution_count": 0,
   "metadata": {
    "colab": {},
    "colab_type": "code",
    "id": "y0f5W2AHmHGv"
   },
   "outputs": [],
   "source": [
    "def collect1000(x_data,y_data):\n",
    "    samples_x, samples_y = list(), list()\n",
    "    count_arr = np.ones(10)*100\n",
    "    for (image, label) in zip(x_data, y_data):\n",
    "        if count_arr[label] > 0:\n",
    "            samples_x.append(image)\n",
    "            samples_y.append(label)\n",
    "            count_arr[label] -= 1\n",
    "        else:\n",
    "            if np.sum(count_arr) == 0:\n",
    "                samples_x = np.stack(samples_x)\n",
    "                samples_y = np.stack(samples_y)\n",
    "                return samples_x, samples_y\n",
    "        \n"
   ]
  },
  {
   "cell_type": "code",
   "execution_count": 0,
   "metadata": {
    "colab": {},
    "colab_type": "code",
    "id": "Noo5Bf5J95nL"
   },
   "outputs": [],
   "source": [
    "def weights_difference(model):\n",
    "    total_sum = 0\n",
    "    for layer in model.layers:\n",
    "        total_sum += np.sum(layer.get_weights()[0])\n",
    "        total_sum += np.sum(layer.get_weights()[1])\n",
    "    return total_sum"
   ]
  },
  {
   "cell_type": "code",
   "execution_count": 0,
   "metadata": {
    "colab": {},
    "colab_type": "code",
    "id": "qJZCC51t7lfx"
   },
   "outputs": [],
   "source": [
    "train_x, train_y = collect1000(x_train, y_train)\n",
    "test_x, test_y = collect1000(x_test, y_test)\n",
    "\n",
    "train_x = (train_x.reshape(1000,784))/255\n",
    "test_x = (test_x.reshape(1000,784))/255\n",
    "\n",
    "train_y = keras.utils.to_categorical(train_y)\n",
    "test_y = keras.utils.to_categorical(test_y)"
   ]
  },
  {
   "cell_type": "code",
   "execution_count": 0,
   "metadata": {
    "colab": {},
    "colab_type": "code",
    "id": "9FZH8zTF1HZm"
   },
   "outputs": [],
   "source": [
    "model = Sequential()\n",
    "model.add(Dense(784))\n",
    "model.add(Dense(30,activation=\"sigmoid\"))\n",
    "model.add(Dense(10, activation=\"softmax\"))\n",
    "\n",
    "model.compile(loss=keras.losses.categorical_crossentropy, optimizer=keras.optimizers.Adam(), metrics = [\"accuracy\"])"
   ]
  },
  {
   "cell_type": "code",
   "execution_count": 7,
   "metadata": {
    "colab": {
     "base_uri": "https://localhost:8080/",
     "height": 1000
    },
    "colab_type": "code",
    "executionInfo": {
     "elapsed": 35742,
     "status": "ok",
     "timestamp": 1587208153092,
     "user": {
      "displayName": "Karthik Bodapati",
      "photoUrl": "https://lh3.googleusercontent.com/a-/AOh14GjRtDXeyLxAZZDIxDocBBbr7SK7vsuoztgb52mLwQ=s64",
      "userId": "16344061707883524589"
     },
     "user_tz": 240
    },
    "id": "N2PGcI3N5w4N",
    "outputId": "6068a7a1-995f-4a5c-fe66-4b59c49f4499"
   },
   "outputs": [
    {
     "name": "stdout",
     "output_type": "stream",
     "text": [
      "Train on 1000 samples, validate on 1000 samples\n",
      "Epoch 1/1\n",
      "1000/1000 [==============================] - 1s 1ms/step - loss: 1.3416 - accuracy: 0.6840 - val_loss: 1.0772 - val_accuracy: 0.7710\n",
      "Train on 1000 samples, validate on 1000 samples\n",
      "Epoch 1/1\n",
      "1000/1000 [==============================] - 1s 1ms/step - loss: 0.7753 - accuracy: 0.8770 - val_loss: 0.8568 - val_accuracy: 0.8070\n",
      "Train on 1000 samples, validate on 1000 samples\n",
      "Epoch 1/1\n",
      "1000/1000 [==============================] - 1s 1ms/step - loss: 0.5752 - accuracy: 0.9210 - val_loss: 0.7521 - val_accuracy: 0.8190\n",
      "Train on 1000 samples, validate on 1000 samples\n",
      "Epoch 1/1\n",
      "1000/1000 [==============================] - 1s 1ms/step - loss: 0.4396 - accuracy: 0.9430 - val_loss: 0.6833 - val_accuracy: 0.8170\n",
      "Train on 1000 samples, validate on 1000 samples\n",
      "Epoch 1/1\n",
      "1000/1000 [==============================] - 1s 1ms/step - loss: 0.3478 - accuracy: 0.9600 - val_loss: 0.6402 - val_accuracy: 0.8310\n",
      "Train on 1000 samples, validate on 1000 samples\n",
      "Epoch 1/1\n",
      "1000/1000 [==============================] - 1s 1ms/step - loss: 0.2800 - accuracy: 0.9730 - val_loss: 0.5990 - val_accuracy: 0.8410\n",
      "Train on 1000 samples, validate on 1000 samples\n",
      "Epoch 1/1\n",
      "1000/1000 [==============================] - 1s 1ms/step - loss: 0.2415 - accuracy: 0.9740 - val_loss: 0.6004 - val_accuracy: 0.8340\n",
      "Train on 1000 samples, validate on 1000 samples\n",
      "Epoch 1/1\n",
      "1000/1000 [==============================] - 1s 1ms/step - loss: 0.1983 - accuracy: 0.9800 - val_loss: 0.5651 - val_accuracy: 0.8350\n",
      "Train on 1000 samples, validate on 1000 samples\n",
      "Epoch 1/1\n",
      "1000/1000 [==============================] - 1s 1ms/step - loss: 0.1672 - accuracy: 0.9830 - val_loss: 0.5379 - val_accuracy: 0.8360\n",
      "Train on 1000 samples, validate on 1000 samples\n",
      "Epoch 1/1\n",
      "1000/1000 [==============================] - 1s 1ms/step - loss: 0.1414 - accuracy: 0.9860 - val_loss: 0.5432 - val_accuracy: 0.8380\n",
      "Train on 1000 samples, validate on 1000 samples\n",
      "Epoch 1/1\n",
      "1000/1000 [==============================] - 1s 1ms/step - loss: 0.1212 - accuracy: 0.9880 - val_loss: 0.5486 - val_accuracy: 0.8450\n",
      "Train on 1000 samples, validate on 1000 samples\n",
      "Epoch 1/1\n",
      "1000/1000 [==============================] - 1s 1ms/step - loss: 0.1067 - accuracy: 0.9910 - val_loss: 0.5336 - val_accuracy: 0.8370\n",
      "Train on 1000 samples, validate on 1000 samples\n",
      "Epoch 1/1\n",
      "1000/1000 [==============================] - 1s 1ms/step - loss: 0.0926 - accuracy: 0.9910 - val_loss: 0.5300 - val_accuracy: 0.8440\n",
      "Train on 1000 samples, validate on 1000 samples\n",
      "Epoch 1/1\n",
      "1000/1000 [==============================] - 1s 1ms/step - loss: 0.0815 - accuracy: 0.9910 - val_loss: 0.5344 - val_accuracy: 0.8450\n",
      "Train on 1000 samples, validate on 1000 samples\n",
      "Epoch 1/1\n",
      "1000/1000 [==============================] - 1s 995us/step - loss: 0.0741 - accuracy: 0.9910 - val_loss: 0.5244 - val_accuracy: 0.8510\n",
      "Train on 1000 samples, validate on 1000 samples\n",
      "Epoch 1/1\n",
      "1000/1000 [==============================] - 1s 1ms/step - loss: 0.0662 - accuracy: 0.9910 - val_loss: 0.5446 - val_accuracy: 0.8390\n",
      "Train on 1000 samples, validate on 1000 samples\n",
      "Epoch 1/1\n",
      "1000/1000 [==============================] - 1s 1ms/step - loss: 0.0608 - accuracy: 0.9910 - val_loss: 0.5355 - val_accuracy: 0.8400\n",
      "Train on 1000 samples, validate on 1000 samples\n",
      "Epoch 1/1\n",
      "1000/1000 [==============================] - 1s 1ms/step - loss: 0.0579 - accuracy: 0.9920 - val_loss: 0.5546 - val_accuracy: 0.8330\n",
      "Train on 1000 samples, validate on 1000 samples\n",
      "Epoch 1/1\n",
      "1000/1000 [==============================] - 1s 1ms/step - loss: 0.0501 - accuracy: 0.9930 - val_loss: 0.5417 - val_accuracy: 0.8440\n",
      "Train on 1000 samples, validate on 1000 samples\n",
      "Epoch 1/1\n",
      "1000/1000 [==============================] - 1s 1ms/step - loss: 0.0444 - accuracy: 0.9940 - val_loss: 0.5359 - val_accuracy: 0.8420\n",
      "Train on 1000 samples, validate on 1000 samples\n",
      "Epoch 1/1\n",
      "1000/1000 [==============================] - 1s 1ms/step - loss: 0.0419 - accuracy: 0.9950 - val_loss: 0.5572 - val_accuracy: 0.8400\n",
      "Train on 1000 samples, validate on 1000 samples\n",
      "Epoch 1/1\n",
      "1000/1000 [==============================] - 1s 1ms/step - loss: 0.0363 - accuracy: 0.9960 - val_loss: 0.5411 - val_accuracy: 0.8460\n",
      "Train on 1000 samples, validate on 1000 samples\n",
      "Epoch 1/1\n",
      "1000/1000 [==============================] - 1s 1ms/step - loss: 0.0332 - accuracy: 0.9960 - val_loss: 0.5461 - val_accuracy: 0.8400\n",
      "Train on 1000 samples, validate on 1000 samples\n",
      "Epoch 1/1\n",
      "1000/1000 [==============================] - 1s 1ms/step - loss: 0.0305 - accuracy: 0.9970 - val_loss: 0.5467 - val_accuracy: 0.8500\n",
      "Train on 1000 samples, validate on 1000 samples\n",
      "Epoch 1/1\n",
      "1000/1000 [==============================] - 1s 1ms/step - loss: 0.0281 - accuracy: 0.9960 - val_loss: 0.5433 - val_accuracy: 0.8440\n",
      "Train on 1000 samples, validate on 1000 samples\n",
      "Epoch 1/1\n",
      "1000/1000 [==============================] - 1s 1ms/step - loss: 0.0260 - accuracy: 0.9970 - val_loss: 0.5529 - val_accuracy: 0.8450\n",
      "Train on 1000 samples, validate on 1000 samples\n",
      "Epoch 1/1\n",
      "1000/1000 [==============================] - 1s 1ms/step - loss: 0.0269 - accuracy: 0.9980 - val_loss: 0.5478 - val_accuracy: 0.8470\n",
      "Train on 1000 samples, validate on 1000 samples\n",
      "Epoch 1/1\n",
      "1000/1000 [==============================] - 1s 1ms/step - loss: 0.0230 - accuracy: 0.9980 - val_loss: 0.5484 - val_accuracy: 0.8440\n",
      "Train on 1000 samples, validate on 1000 samples\n",
      "Epoch 1/1\n",
      "1000/1000 [==============================] - 1s 1ms/step - loss: 0.0210 - accuracy: 0.9980 - val_loss: 0.5552 - val_accuracy: 0.8450\n",
      "Train on 1000 samples, validate on 1000 samples\n",
      "Epoch 1/1\n",
      "1000/1000 [==============================] - 1s 1ms/step - loss: 0.0195 - accuracy: 0.9980 - val_loss: 0.5503 - val_accuracy: 0.8440\n"
     ]
    }
   ],
   "source": [
    "history = list()\n",
    "weight_diff = list()\n",
    "\n",
    "for epoch in range(0,30):    \n",
    "    history.append(model.fit(train_x, train_y, batch_size=10, epochs=1 ,validation_data=(test_x, test_y)))\n",
    "    weight_diff.append(weights_difference(model))"
   ]
  },
  {
   "cell_type": "code",
   "execution_count": 8,
   "metadata": {
    "colab": {
     "base_uri": "https://localhost:8080/",
     "height": 309
    },
    "colab_type": "code",
    "executionInfo": {
     "elapsed": 37190,
     "status": "ok",
     "timestamp": 1587208154550,
     "user": {
      "displayName": "Karthik Bodapati",
      "photoUrl": "https://lh3.googleusercontent.com/a-/AOh14GjRtDXeyLxAZZDIxDocBBbr7SK7vsuoztgb52mLwQ=s64",
      "userId": "16344061707883524589"
     },
     "user_tz": 240
    },
    "id": "2uWHEMHMDLCj",
    "outputId": "f857182c-69f5-4ee4-96c7-3347378696b9"
   },
   "outputs": [
    {
     "data": {
      "image/png": "[encoded data removed]",
      "text/plain": [
       "<Figure size 432x288 with 3 Axes>"
      ]
     },
     "metadata": {
      "needs_background": "light",
      "tags": []
     },
     "output_type": "display_data"
    }
   ],
   "source": [
    "fig, axs = plt.subplots(2,2)\n",
    "fig.tight_layout()\n",
    "axs[0,0].plot([(i.history[\"accuracy\"]) for i in history])\n",
    "axs[0,0].plot([(i.history[\"val_accuracy\"]) for i in history])\n",
    "axs[0,0].title.set_text(\"Accuracy - Train and Test\")\n",
    "\n",
    "axs[0, 1].plot([(i.history[\"loss\"]) for i in history], label=\"Train\")\n",
    "axs[0, 1].plot([(i.history[\"val_loss\"]) for i in history], label=\"Test\")\n",
    "axs[0, 1].title.set_text(\"Loss - Train and Test\")\n",
    "\n",
    "\n",
    "axs[1, 0].plot(weight_diff)\n",
    "axs[1, 0].title.set_text(\"Weight Change\")\n",
    "\n",
    "axs[1,1].remove()"
   ]
  },
  {
   "cell_type": "markdown",
   "metadata": {
    "colab_type": "text",
    "id": "zaY3cj4XJxXz"
   },
   "source": [
    "## TASK 2B"
   ]
  },
  {
   "cell_type": "markdown",
   "metadata": {
    "colab_type": "text",
    "id": "iTy2oanCJzYR"
   },
   "source": [
    "### 1 hidden layer with reg\n",
    "\n"
   ]
  },
  {
   "cell_type": "code",
   "execution_count": 9,
   "metadata": {
    "colab": {
     "base_uri": "https://localhost:8080/",
     "height": 1000
    },
    "colab_type": "code",
    "executionInfo": {
     "elapsed": 70293,
     "status": "ok",
     "timestamp": 1587208187666,
     "user": {
      "displayName": "Karthik Bodapati",
      "photoUrl": "https://lh3.googleusercontent.com/a-/AOh14GjRtDXeyLxAZZDIxDocBBbr7SK7vsuoztgb52mLwQ=s64",
      "userId": "16344061707883524589"
     },
     "user_tz": 240
    },
    "id": "nptzQ6xoKTwr",
    "outputId": "160ee17b-97c1-42aa-84c3-05a1795610ea"
   },
   "outputs": [
    {
     "name": "stdout",
     "output_type": "stream",
     "text": [
      "Train on 1000 samples, validate on 1000 samples\n",
      "Epoch 1/1\n",
      "1000/1000 [==============================] - 1s 1ms/step - loss: 121.6804 - accuracy: 0.4500 - val_loss: 34.6351 - val_accuracy: 0.1860\n",
      "Train on 1000 samples, validate on 1000 samples\n",
      "Epoch 1/1\n",
      "1000/1000 [==============================] - 1s 1ms/step - loss: 22.9907 - accuracy: 0.1440 - val_loss: 14.8673 - val_accuracy: 0.1430\n",
      "Train on 1000 samples, validate on 1000 samples\n",
      "Epoch 1/1\n",
      "1000/1000 [==============================] - 1s 1ms/step - loss: 10.4717 - accuracy: 0.1390 - val_loss: 7.1180 - val_accuracy: 0.1810\n",
      "Train on 1000 samples, validate on 1000 samples\n",
      "Epoch 1/1\n",
      "1000/1000 [==============================] - 1s 1ms/step - loss: 5.3270 - accuracy: 0.2070 - val_loss: 3.9942 - val_accuracy: 0.2500\n",
      "Train on 1000 samples, validate on 1000 samples\n",
      "Epoch 1/1\n",
      "1000/1000 [==============================] - 1s 1ms/step - loss: 3.3237 - accuracy: 0.1840 - val_loss: 2.8402 - val_accuracy: 0.1000\n",
      "Train on 1000 samples, validate on 1000 samples\n",
      "Epoch 1/1\n",
      "1000/1000 [==============================] - 1s 1ms/step - loss: 2.6141 - accuracy: 0.1300 - val_loss: 2.4562 - val_accuracy: 0.1000\n",
      "Train on 1000 samples, validate on 1000 samples\n",
      "Epoch 1/1\n",
      "1000/1000 [==============================] - 1s 1ms/step - loss: 2.3883 - accuracy: 0.1100 - val_loss: 2.3424 - val_accuracy: 0.1000\n",
      "Train on 1000 samples, validate on 1000 samples\n",
      "Epoch 1/1\n",
      "1000/1000 [==============================] - 1s 1ms/step - loss: 2.3249 - accuracy: 0.1000 - val_loss: 2.3124 - val_accuracy: 0.1000\n",
      "Train on 1000 samples, validate on 1000 samples\n",
      "Epoch 1/1\n",
      "1000/1000 [==============================] - 1s 1ms/step - loss: 2.3092 - accuracy: 0.0990 - val_loss: 2.3057 - val_accuracy: 0.1000\n",
      "Train on 1000 samples, validate on 1000 samples\n",
      "Epoch 1/1\n",
      "1000/1000 [==============================] - 1s 1ms/step - loss: 2.3060 - accuracy: 0.0930 - val_loss: 2.3043 - val_accuracy: 0.1000\n",
      "Train on 1000 samples, validate on 1000 samples\n",
      "Epoch 1/1\n",
      "1000/1000 [==============================] - 1s 1ms/step - loss: 2.3054 - accuracy: 0.0940 - val_loss: 2.3039 - val_accuracy: 0.1000\n",
      "Train on 1000 samples, validate on 1000 samples\n",
      "Epoch 1/1\n",
      "1000/1000 [==============================] - 1s 1ms/step - loss: 2.3046 - accuracy: 0.1000 - val_loss: 2.3036 - val_accuracy: 0.1000\n",
      "Train on 1000 samples, validate on 1000 samples\n",
      "Epoch 1/1\n",
      "1000/1000 [==============================] - 1s 1ms/step - loss: 2.3048 - accuracy: 0.0930 - val_loss: 2.3036 - val_accuracy: 0.1000\n",
      "Train on 1000 samples, validate on 1000 samples\n",
      "Epoch 1/1\n",
      "1000/1000 [==============================] - 1s 1ms/step - loss: 2.3048 - accuracy: 0.0950 - val_loss: 2.3036 - val_accuracy: 0.1000\n",
      "Train on 1000 samples, validate on 1000 samples\n",
      "Epoch 1/1\n",
      "1000/1000 [==============================] - 1s 1ms/step - loss: 2.3044 - accuracy: 0.0890 - val_loss: 2.3035 - val_accuracy: 0.1000\n",
      "Train on 1000 samples, validate on 1000 samples\n",
      "Epoch 1/1\n",
      "1000/1000 [==============================] - 1s 1ms/step - loss: 2.3042 - accuracy: 0.0970 - val_loss: 2.3039 - val_accuracy: 0.1000\n",
      "Train on 1000 samples, validate on 1000 samples\n",
      "Epoch 1/1\n",
      "1000/1000 [==============================] - 1s 1ms/step - loss: 2.3046 - accuracy: 0.0900 - val_loss: 2.3039 - val_accuracy: 0.1000\n",
      "Train on 1000 samples, validate on 1000 samples\n",
      "Epoch 1/1\n",
      "1000/1000 [==============================] - 1s 1ms/step - loss: 2.3048 - accuracy: 0.0770 - val_loss: 2.3033 - val_accuracy: 0.1000\n",
      "Train on 1000 samples, validate on 1000 samples\n",
      "Epoch 1/1\n",
      "1000/1000 [==============================] - 1s 1ms/step - loss: 2.3047 - accuracy: 0.0960 - val_loss: 2.3033 - val_accuracy: 0.1000\n",
      "Train on 1000 samples, validate on 1000 samples\n",
      "Epoch 1/1\n",
      "1000/1000 [==============================] - 1s 1ms/step - loss: 2.3041 - accuracy: 0.0910 - val_loss: 2.3035 - val_accuracy: 0.1000\n",
      "Train on 1000 samples, validate on 1000 samples\n",
      "Epoch 1/1\n",
      "1000/1000 [==============================] - 1s 1ms/step - loss: 2.3044 - accuracy: 0.0880 - val_loss: 2.3037 - val_accuracy: 0.1000\n",
      "Train on 1000 samples, validate on 1000 samples\n",
      "Epoch 1/1\n",
      "1000/1000 [==============================] - 1s 1ms/step - loss: 2.3050 - accuracy: 0.1030 - val_loss: 2.3040 - val_accuracy: 0.1000\n",
      "Train on 1000 samples, validate on 1000 samples\n",
      "Epoch 1/1\n",
      "1000/1000 [==============================] - 1s 1ms/step - loss: 2.3041 - accuracy: 0.0890 - val_loss: 2.3035 - val_accuracy: 0.1000\n",
      "Train on 1000 samples, validate on 1000 samples\n",
      "Epoch 1/1\n",
      "1000/1000 [==============================] - 1s 1ms/step - loss: 2.3048 - accuracy: 0.0840 - val_loss: 2.3034 - val_accuracy: 0.1000\n",
      "Train on 1000 samples, validate on 1000 samples\n",
      "Epoch 1/1\n",
      "1000/1000 [==============================] - 1s 1ms/step - loss: 2.3046 - accuracy: 0.0890 - val_loss: 2.3039 - val_accuracy: 0.1000\n",
      "Train on 1000 samples, validate on 1000 samples\n",
      "Epoch 1/1\n",
      "1000/1000 [==============================] - 1s 1ms/step - loss: 2.3046 - accuracy: 0.0980 - val_loss: 2.3036 - val_accuracy: 0.1000\n",
      "Train on 1000 samples, validate on 1000 samples\n",
      "Epoch 1/1\n",
      "1000/1000 [==============================] - 1s 1ms/step - loss: 2.3043 - accuracy: 0.0800 - val_loss: 2.3046 - val_accuracy: 0.1000\n",
      "Train on 1000 samples, validate on 1000 samples\n",
      "Epoch 1/1\n",
      "1000/1000 [==============================] - 1s 1ms/step - loss: 2.3053 - accuracy: 0.0910 - val_loss: 2.3036 - val_accuracy: 0.1000\n",
      "Train on 1000 samples, validate on 1000 samples\n",
      "Epoch 1/1\n",
      "1000/1000 [==============================] - 1s 1ms/step - loss: 2.3045 - accuracy: 0.0770 - val_loss: 2.3036 - val_accuracy: 0.1000\n",
      "Train on 1000 samples, validate on 1000 samples\n",
      "Epoch 1/1\n",
      "1000/1000 [==============================] - 1s 1ms/step - loss: 2.3047 - accuracy: 0.0930 - val_loss: 2.3058 - val_accuracy: 0.1000\n"
     ]
    }
   ],
   "source": [
    "model = Sequential()\n",
    "model.add(Dense(784))\n",
    "model.add(Dense(30,activation=\"sigmoid\", kernel_regularizer=keras.regularizers.l2(5)) )\n",
    "model.add(Dense(10, activation=\"softmax\", kernel_regularizer=keras.regularizers.l2(5)))\n",
    "model.compile(loss=keras.losses.categorical_crossentropy, optimizer=keras.optimizers.Adam(), metrics = [\"accuracy\"])\n",
    "\n",
    "history = list()\n",
    "weight_diff = list()\n",
    "\n",
    "for epoch in range(0,30):    \n",
    "    history.append(model.fit(train_x, train_y, batch_size=10, epochs=1 ,validation_data=(test_x, test_y)))\n",
    "    weight_diff.append(weights_difference(model))\n"
   ]
  },
  {
   "cell_type": "code",
   "execution_count": 10,
   "metadata": {
    "colab": {
     "base_uri": "https://localhost:8080/",
     "height": 326
    },
    "colab_type": "code",
    "executionInfo": {
     "elapsed": 71022,
     "status": "ok",
     "timestamp": 1587208188405,
     "user": {
      "displayName": "Karthik Bodapati",
      "photoUrl": "https://lh3.googleusercontent.com/a-/AOh14GjRtDXeyLxAZZDIxDocBBbr7SK7vsuoztgb52mLwQ=s64",
      "userId": "16344061707883524589"
     },
     "user_tz": 240
    },
    "id": "2hW9L4kPNPtV",
    "outputId": "13000830-cc61-49bb-ae07-ef40e0143645"
   },
   "outputs": [
    {
     "name": "stdout",
     "output_type": "stream",
     "text": [
      "**************1 hidden layer with Regularization**************\n"
     ]
    },
    {
     "data": {
      "image/png": "[encoded data removed]",
      "text/plain": [
       "<Figure size 432x288 with 3 Axes>"
      ]
     },
     "metadata": {
      "needs_background": "light",
      "tags": []
     },
     "output_type": "display_data"
    }
   ],
   "source": [
    "fig, axs = plt.subplots(2,2)\n",
    "print(\"**************1 hidden layer with Regularization**************\")\n",
    "fig.tight_layout()\n",
    "axs[0,0].plot([(i.history[\"accuracy\"]) for i in history])\n",
    "axs[0,0].plot([(i.history[\"val_accuracy\"]) for i in history])\n",
    "axs[0,0].title.set_text(\"Accuracy - Train and Test\")\n",
    "\n",
    "axs[0, 1].plot([(i.history[\"loss\"]) for i in history], label=\"Train\")\n",
    "axs[0, 1].plot([(i.history[\"val_loss\"]) for i in history], label=\"Test\")\n",
    "axs[0, 1].title.set_text(\"Loss - Train and Test\")\n",
    "\n",
    "\n",
    "axs[1, 0].plot(weight_diff)\n",
    "axs[1, 0].title.set_text(\"Weight Change\")\n",
    "\n",
    "axs[1,1].remove()"
   ]
  },
  {
   "cell_type": "markdown",
   "metadata": {
    "colab_type": "text",
    "id": "iFEMDNllK1ix"
   },
   "source": [
    "### 2 Hidden Layers without reg"
   ]
  },
  {
   "cell_type": "code",
   "execution_count": 11,
   "metadata": {
    "colab": {
     "base_uri": "https://localhost:8080/",
     "height": 1000
    },
    "colab_type": "code",
    "executionInfo": {
     "elapsed": 104639,
     "status": "ok",
     "timestamp": 1587208222034,
     "user": {
      "displayName": "Karthik Bodapati",
      "photoUrl": "https://lh3.googleusercontent.com/a-/AOh14GjRtDXeyLxAZZDIxDocBBbr7SK7vsuoztgb52mLwQ=s64",
      "userId": "16344061707883524589"
     },
     "user_tz": 240
    },
    "id": "U_lLX8UTK5Wx",
    "outputId": "19df3a46-6374-4fe2-9fe2-51f72f54d82c"
   },
   "outputs": [
    {
     "name": "stdout",
     "output_type": "stream",
     "text": [
      "Train on 1000 samples, validate on 1000 samples\n",
      "Epoch 1/1\n",
      "1000/1000 [==============================] - 1s 1ms/step - loss: 2.0569 - accuracy: 0.4150 - val_loss: 1.8512 - val_accuracy: 0.6490\n",
      "Train on 1000 samples, validate on 1000 samples\n",
      "Epoch 1/1\n",
      "1000/1000 [==============================] - 1s 1ms/step - loss: 1.6790 - accuracy: 0.7760 - val_loss: 1.6326 - val_accuracy: 0.6900\n",
      "Train on 1000 samples, validate on 1000 samples\n",
      "Epoch 1/1\n",
      "1000/1000 [==============================] - 1s 1ms/step - loss: 1.4039 - accuracy: 0.8280 - val_loss: 1.3899 - val_accuracy: 0.7530\n",
      "Train on 1000 samples, validate on 1000 samples\n",
      "Epoch 1/1\n",
      "1000/1000 [==============================] - 1s 1ms/step - loss: 1.1589 - accuracy: 0.8700 - val_loss: 1.2197 - val_accuracy: 0.7850\n",
      "Train on 1000 samples, validate on 1000 samples\n",
      "Epoch 1/1\n",
      "1000/1000 [==============================] - 1s 1ms/step - loss: 0.9478 - accuracy: 0.8870 - val_loss: 1.0625 - val_accuracy: 0.7890\n",
      "Train on 1000 samples, validate on 1000 samples\n",
      "Epoch 1/1\n",
      "1000/1000 [==============================] - 1s 1ms/step - loss: 0.7708 - accuracy: 0.9130 - val_loss: 0.9664 - val_accuracy: 0.7770\n",
      "Train on 1000 samples, validate on 1000 samples\n",
      "Epoch 1/1\n",
      "1000/1000 [==============================] - 1s 1ms/step - loss: 0.6315 - accuracy: 0.9250 - val_loss: 0.9080 - val_accuracy: 0.7760\n",
      "Train on 1000 samples, validate on 1000 samples\n",
      "Epoch 1/1\n",
      "1000/1000 [==============================] - 1s 1ms/step - loss: 0.5336 - accuracy: 0.9420 - val_loss: 0.8269 - val_accuracy: 0.7910\n",
      "Train on 1000 samples, validate on 1000 samples\n",
      "Epoch 1/1\n",
      "1000/1000 [==============================] - 1s 1ms/step - loss: 0.4349 - accuracy: 0.9490 - val_loss: 0.7784 - val_accuracy: 0.8040\n",
      "Train on 1000 samples, validate on 1000 samples\n",
      "Epoch 1/1\n",
      "1000/1000 [==============================] - 1s 1ms/step - loss: 0.3597 - accuracy: 0.9570 - val_loss: 0.7433 - val_accuracy: 0.7880\n",
      "Train on 1000 samples, validate on 1000 samples\n",
      "Epoch 1/1\n",
      "1000/1000 [==============================] - 1s 1ms/step - loss: 0.3040 - accuracy: 0.9650 - val_loss: 0.7223 - val_accuracy: 0.7960\n",
      "Train on 1000 samples, validate on 1000 samples\n",
      "Epoch 1/1\n",
      "1000/1000 [==============================] - 1s 1ms/step - loss: 0.2581 - accuracy: 0.9700 - val_loss: 0.7149 - val_accuracy: 0.7930\n",
      "Train on 1000 samples, validate on 1000 samples\n",
      "Epoch 1/1\n",
      "1000/1000 [==============================] - 1s 1ms/step - loss: 0.2249 - accuracy: 0.9720 - val_loss: 0.7179 - val_accuracy: 0.7820\n",
      "Train on 1000 samples, validate on 1000 samples\n",
      "Epoch 1/1\n",
      "1000/1000 [==============================] - 1s 1ms/step - loss: 0.2026 - accuracy: 0.9700 - val_loss: 0.7045 - val_accuracy: 0.7830\n",
      "Train on 1000 samples, validate on 1000 samples\n",
      "Epoch 1/1\n",
      "1000/1000 [==============================] - 1s 1ms/step - loss: 0.1755 - accuracy: 0.9790 - val_loss: 0.6792 - val_accuracy: 0.7990\n",
      "Train on 1000 samples, validate on 1000 samples\n",
      "Epoch 1/1\n",
      "1000/1000 [==============================] - 1s 1ms/step - loss: 0.1578 - accuracy: 0.9780 - val_loss: 0.6908 - val_accuracy: 0.8000\n",
      "Train on 1000 samples, validate on 1000 samples\n",
      "Epoch 1/1\n",
      "1000/1000 [==============================] - 1s 1ms/step - loss: 0.1477 - accuracy: 0.9790 - val_loss: 0.6862 - val_accuracy: 0.7910\n",
      "Train on 1000 samples, validate on 1000 samples\n",
      "Epoch 1/1\n",
      "1000/1000 [==============================] - 1s 1ms/step - loss: 0.1251 - accuracy: 0.9800 - val_loss: 0.6780 - val_accuracy: 0.7970\n",
      "Train on 1000 samples, validate on 1000 samples\n",
      "Epoch 1/1\n",
      "1000/1000 [==============================] - 1s 1ms/step - loss: 0.1144 - accuracy: 0.9830 - val_loss: 0.6874 - val_accuracy: 0.7890\n",
      "Train on 1000 samples, validate on 1000 samples\n",
      "Epoch 1/1\n",
      "1000/1000 [==============================] - 1s 1ms/step - loss: 0.1257 - accuracy: 0.9810 - val_loss: 0.7095 - val_accuracy: 0.7820\n",
      "Train on 1000 samples, validate on 1000 samples\n",
      "Epoch 1/1\n",
      "1000/1000 [==============================] - 1s 1ms/step - loss: 0.1082 - accuracy: 0.9810 - val_loss: 0.6926 - val_accuracy: 0.7830\n",
      "Train on 1000 samples, validate on 1000 samples\n",
      "Epoch 1/1\n",
      "1000/1000 [==============================] - 1s 1ms/step - loss: 0.0972 - accuracy: 0.9810 - val_loss: 0.7012 - val_accuracy: 0.7880\n",
      "Train on 1000 samples, validate on 1000 samples\n",
      "Epoch 1/1\n",
      "1000/1000 [==============================] - 1s 1ms/step - loss: 0.0751 - accuracy: 0.9880 - val_loss: 0.7007 - val_accuracy: 0.7930\n",
      "Train on 1000 samples, validate on 1000 samples\n",
      "Epoch 1/1\n",
      "1000/1000 [==============================] - 1s 1ms/step - loss: 0.0688 - accuracy: 0.9880 - val_loss: 0.6854 - val_accuracy: 0.7990\n",
      "Train on 1000 samples, validate on 1000 samples\n",
      "Epoch 1/1\n",
      "1000/1000 [==============================] - 1s 1ms/step - loss: 0.0615 - accuracy: 0.9920 - val_loss: 0.6878 - val_accuracy: 0.7970\n",
      "Train on 1000 samples, validate on 1000 samples\n",
      "Epoch 1/1\n",
      "1000/1000 [==============================] - 1s 1ms/step - loss: 0.0567 - accuracy: 0.9920 - val_loss: 0.6947 - val_accuracy: 0.7940\n",
      "Train on 1000 samples, validate on 1000 samples\n",
      "Epoch 1/1\n",
      "1000/1000 [==============================] - 1s 1ms/step - loss: 0.0530 - accuracy: 0.9930 - val_loss: 0.7057 - val_accuracy: 0.7880\n",
      "Train on 1000 samples, validate on 1000 samples\n",
      "Epoch 1/1\n",
      "1000/1000 [==============================] - 1s 1ms/step - loss: 0.0498 - accuracy: 0.9930 - val_loss: 0.7033 - val_accuracy: 0.7910\n",
      "Train on 1000 samples, validate on 1000 samples\n",
      "Epoch 1/1\n",
      "1000/1000 [==============================] - 1s 1ms/step - loss: 0.0475 - accuracy: 0.9920 - val_loss: 0.7102 - val_accuracy: 0.7890\n",
      "Train on 1000 samples, validate on 1000 samples\n",
      "Epoch 1/1\n",
      "1000/1000 [==============================] - 1s 1ms/step - loss: 0.0442 - accuracy: 0.9940 - val_loss: 0.7144 - val_accuracy: 0.7900\n"
     ]
    }
   ],
   "source": [
    "model = Sequential()\n",
    "model.add(Dense(784))\n",
    "model.add(Dense(30,activation=\"sigmoid\"))\n",
    "model.add(Dense(30,activation=\"sigmoid\"))\n",
    "model.add(Dense(10, activation=\"softmax\"))\n",
    "model.compile(loss=keras.losses.categorical_crossentropy, optimizer=keras.optimizers.Adam(), metrics = [\"accuracy\"])\n",
    "\n",
    "history = list()\n",
    "weight_diff = list()\n",
    "\n",
    "for epoch in range(0,30):    \n",
    "    history.append(model.fit(train_x, train_y, batch_size=10, epochs=1 ,validation_data=(test_x, test_y)))\n",
    "    weight_diff.append(weights_difference(model))\n"
   ]
  },
  {
   "cell_type": "code",
   "execution_count": 12,
   "metadata": {
    "colab": {
     "base_uri": "https://localhost:8080/",
     "height": 326
    },
    "colab_type": "code",
    "executionInfo": {
     "elapsed": 106050,
     "status": "ok",
     "timestamp": 1587208223457,
     "user": {
      "displayName": "Karthik Bodapati",
      "photoUrl": "https://lh3.googleusercontent.com/a-/AOh14GjRtDXeyLxAZZDIxDocBBbr7SK7vsuoztgb52mLwQ=s64",
      "userId": "16344061707883524589"
     },
     "user_tz": 240
    },
    "id": "judXKEzQMCrH",
    "outputId": "70a4aefc-59eb-4b47-f3a0-8839c1d7e51c"
   },
   "outputs": [
    {
     "name": "stdout",
     "output_type": "stream",
     "text": [
      "*****************2 hidden layer without Regularization*****************\n"
     ]
    },
    {
     "data": {
      "image/png": "[encoded data removed]",
      "text/plain": [
       "<Figure size 432x288 with 3 Axes>"
      ]
     },
     "metadata": {
      "needs_background": "light",
      "tags": []
     },
     "output_type": "display_data"
    }
   ],
   "source": [
    "fig, axs = plt.subplots(2,2)\n",
    "print(\"*****************2 hidden layer without Regularization*****************\")\n",
    "fig.tight_layout()\n",
    "axs[0,0].plot([(i.history[\"accuracy\"]) for i in history])\n",
    "axs[0,0].plot([(i.history[\"val_accuracy\"]) for i in history])\n",
    "axs[0,0].title.set_text(\"Accuracy - Train and Test\")\n",
    "\n",
    "axs[0, 1].plot([(i.history[\"loss\"]) for i in history], label=\"Train\")\n",
    "axs[0, 1].plot([(i.history[\"val_loss\"]) for i in history], label=\"Test\")\n",
    "axs[0, 1].title.set_text(\"Loss - Train and Test\")\n",
    "\n",
    "\n",
    "axs[1, 0].plot(weight_diff)\n",
    "axs[1, 0].title.set_text(\"Weight Change\")\n",
    "\n",
    "axs[1,1].remove()"
   ]
  },
  {
   "cell_type": "code",
   "execution_count": 13,
   "metadata": {
    "colab": {
     "base_uri": "https://localhost:8080/",
     "height": 1000
    },
    "colab_type": "code",
    "executionInfo": {
     "elapsed": 139330,
     "status": "ok",
     "timestamp": 1587208256742,
     "user": {
      "displayName": "Karthik Bodapati",
      "photoUrl": "https://lh3.googleusercontent.com/a-/AOh14GjRtDXeyLxAZZDIxDocBBbr7SK7vsuoztgb52mLwQ=s64",
      "userId": "16344061707883524589"
     },
     "user_tz": 240
    },
    "id": "a0AODG7-LC3W",
    "outputId": "7b76b49f-5d36-4140-924d-9724ea69f6d5"
   },
   "outputs": [
    {
     "name": "stdout",
     "output_type": "stream",
     "text": [
      "Train on 1000 samples, validate on 1000 samples\n",
      "Epoch 1/1\n",
      "1000/1000 [==============================] - 1s 1ms/step - loss: 218.6302 - accuracy: 0.1000 - val_loss: 90.8654 - val_accuracy: 0.1000\n",
      "Train on 1000 samples, validate on 1000 samples\n",
      "Epoch 1/1\n",
      "1000/1000 [==============================] - 1s 1ms/step - loss: 57.4736 - accuracy: 0.1000 - val_loss: 33.3939 - val_accuracy: 0.1000\n",
      "Train on 1000 samples, validate on 1000 samples\n",
      "Epoch 1/1\n",
      "1000/1000 [==============================] - 1s 1ms/step - loss: 21.2804 - accuracy: 0.1000 - val_loss: 12.4812 - val_accuracy: 0.1000\n",
      "Train on 1000 samples, validate on 1000 samples\n",
      "Epoch 1/1\n",
      "1000/1000 [==============================] - 1s 1ms/step - loss: 8.2835 - accuracy: 0.1100 - val_loss: 5.3314 - val_accuracy: 0.1000\n",
      "Train on 1000 samples, validate on 1000 samples\n",
      "Epoch 1/1\n",
      "1000/1000 [==============================] - 1s 1ms/step - loss: 4.0184 - accuracy: 0.0950 - val_loss: 3.1236 - val_accuracy: 0.1000\n",
      "Train on 1000 samples, validate on 1000 samples\n",
      "Epoch 1/1\n",
      "1000/1000 [==============================] - 1s 1ms/step - loss: 2.7530 - accuracy: 0.0860 - val_loss: 2.5075 - val_accuracy: 0.1000\n",
      "Train on 1000 samples, validate on 1000 samples\n",
      "Epoch 1/1\n",
      "1000/1000 [==============================] - 1s 1ms/step - loss: 2.4121 - accuracy: 0.0970 - val_loss: 2.3506 - val_accuracy: 0.1000\n",
      "Train on 1000 samples, validate on 1000 samples\n",
      "Epoch 1/1\n",
      "1000/1000 [==============================] - 1s 1ms/step - loss: 2.3284 - accuracy: 0.1020 - val_loss: 2.3140 - val_accuracy: 0.1000\n",
      "Train on 1000 samples, validate on 1000 samples\n",
      "Epoch 1/1\n",
      "1000/1000 [==============================] - 1s 1ms/step - loss: 2.3099 - accuracy: 0.0900 - val_loss: 2.3067 - val_accuracy: 0.1000\n",
      "Train on 1000 samples, validate on 1000 samples\n",
      "Epoch 1/1\n",
      "1000/1000 [==============================] - 1s 1ms/step - loss: 2.3062 - accuracy: 0.1000 - val_loss: 2.3048 - val_accuracy: 0.1000\n",
      "Train on 1000 samples, validate on 1000 samples\n",
      "Epoch 1/1\n",
      "1000/1000 [==============================] - 1s 1ms/step - loss: 2.3052 - accuracy: 0.0980 - val_loss: 2.3040 - val_accuracy: 0.1000\n",
      "Train on 1000 samples, validate on 1000 samples\n",
      "Epoch 1/1\n",
      "1000/1000 [==============================] - 1s 1ms/step - loss: 2.3047 - accuracy: 0.0950 - val_loss: 2.3041 - val_accuracy: 0.1000\n",
      "Train on 1000 samples, validate on 1000 samples\n",
      "Epoch 1/1\n",
      "1000/1000 [==============================] - 1s 1ms/step - loss: 2.3048 - accuracy: 0.0940 - val_loss: 2.3040 - val_accuracy: 0.1000\n",
      "Train on 1000 samples, validate on 1000 samples\n",
      "Epoch 1/1\n",
      "1000/1000 [==============================] - 1s 1ms/step - loss: 2.3046 - accuracy: 0.0960 - val_loss: 2.3037 - val_accuracy: 0.1000\n",
      "Train on 1000 samples, validate on 1000 samples\n",
      "Epoch 1/1\n",
      "1000/1000 [==============================] - 1s 1ms/step - loss: 2.3049 - accuracy: 0.0980 - val_loss: 2.3039 - val_accuracy: 0.1000\n",
      "Train on 1000 samples, validate on 1000 samples\n",
      "Epoch 1/1\n",
      "1000/1000 [==============================] - 1s 1ms/step - loss: 2.3045 - accuracy: 0.0940 - val_loss: 2.3036 - val_accuracy: 0.1000\n",
      "Train on 1000 samples, validate on 1000 samples\n",
      "Epoch 1/1\n",
      "1000/1000 [==============================] - 1s 1ms/step - loss: 2.3047 - accuracy: 0.1000 - val_loss: 2.3037 - val_accuracy: 0.1000\n",
      "Train on 1000 samples, validate on 1000 samples\n",
      "Epoch 1/1\n",
      "1000/1000 [==============================] - 1s 1ms/step - loss: 2.3054 - accuracy: 0.0990 - val_loss: 2.3044 - val_accuracy: 0.1000\n",
      "Train on 1000 samples, validate on 1000 samples\n",
      "Epoch 1/1\n",
      "1000/1000 [==============================] - 1s 1ms/step - loss: 2.3047 - accuracy: 0.0960 - val_loss: 2.3038 - val_accuracy: 0.1000\n",
      "Train on 1000 samples, validate on 1000 samples\n",
      "Epoch 1/1\n",
      "1000/1000 [==============================] - 1s 1ms/step - loss: 2.3047 - accuracy: 0.0990 - val_loss: 2.3035 - val_accuracy: 0.1000\n",
      "Train on 1000 samples, validate on 1000 samples\n",
      "Epoch 1/1\n",
      "1000/1000 [==============================] - 1s 1ms/step - loss: 2.3044 - accuracy: 0.1030 - val_loss: 2.3034 - val_accuracy: 0.1000\n",
      "Train on 1000 samples, validate on 1000 samples\n",
      "Epoch 1/1\n",
      "1000/1000 [==============================] - 1s 1ms/step - loss: 2.3042 - accuracy: 0.0920 - val_loss: 2.3032 - val_accuracy: 0.1000\n",
      "Train on 1000 samples, validate on 1000 samples\n",
      "Epoch 1/1\n",
      "1000/1000 [==============================] - 1s 1ms/step - loss: 2.3048 - accuracy: 0.0930 - val_loss: 2.3042 - val_accuracy: 0.1000\n",
      "Train on 1000 samples, validate on 1000 samples\n",
      "Epoch 1/1\n",
      "1000/1000 [==============================] - 1s 1ms/step - loss: 2.3045 - accuracy: 0.0930 - val_loss: 2.3033 - val_accuracy: 0.1000\n",
      "Train on 1000 samples, validate on 1000 samples\n",
      "Epoch 1/1\n",
      "1000/1000 [==============================] - 1s 1ms/step - loss: 2.3045 - accuracy: 0.0780 - val_loss: 2.3037 - val_accuracy: 0.1000\n",
      "Train on 1000 samples, validate on 1000 samples\n",
      "Epoch 1/1\n",
      "1000/1000 [==============================] - 1s 1ms/step - loss: 2.3047 - accuracy: 0.0890 - val_loss: 2.3035 - val_accuracy: 0.1000\n",
      "Train on 1000 samples, validate on 1000 samples\n",
      "Epoch 1/1\n",
      "1000/1000 [==============================] - 1s 1ms/step - loss: 2.3047 - accuracy: 0.0920 - val_loss: 2.3033 - val_accuracy: 0.1000\n",
      "Train on 1000 samples, validate on 1000 samples\n",
      "Epoch 1/1\n",
      "1000/1000 [==============================] - 1s 1ms/step - loss: 2.3044 - accuracy: 0.0980 - val_loss: 2.3041 - val_accuracy: 0.1000\n",
      "Train on 1000 samples, validate on 1000 samples\n",
      "Epoch 1/1\n",
      "1000/1000 [==============================] - 1s 1ms/step - loss: 2.3044 - accuracy: 0.0800 - val_loss: 2.3039 - val_accuracy: 0.1000\n",
      "Train on 1000 samples, validate on 1000 samples\n",
      "Epoch 1/1\n",
      "1000/1000 [==============================] - 1s 1ms/step - loss: 2.3048 - accuracy: 0.0900 - val_loss: 2.3041 - val_accuracy: 0.1000\n"
     ]
    }
   ],
   "source": [
    "model = Sequential()\n",
    "model.add(Dense(784))\n",
    "model.add(Dense(30,activation=\"sigmoid\", kernel_regularizer=keras.regularizers.l2(5)) )\n",
    "model.add(Dense(30,activation=\"sigmoid\", kernel_regularizer=keras.regularizers.l2(5)) )\n",
    "model.add(Dense(10, activation=\"softmax\", kernel_regularizer=keras.regularizers.l2(5)))\n",
    "model.compile(loss=keras.losses.categorical_crossentropy, optimizer=keras.optimizers.Adam(), metrics = [\"accuracy\"])\n",
    "\n",
    "history = list()\n",
    "weight_diff = list()\n",
    "\n",
    "for epoch in range(0,30):    \n",
    "    history.append(model.fit(train_x, train_y, batch_size=10, epochs=1 ,validation_data=(test_x, test_y)))\n",
    "    weight_diff.append(weights_difference(model))"
   ]
  },
  {
   "cell_type": "code",
   "execution_count": 14,
   "metadata": {
    "colab": {
     "base_uri": "https://localhost:8080/",
     "height": 326
    },
    "colab_type": "code",
    "executionInfo": {
     "elapsed": 139931,
     "status": "ok",
     "timestamp": 1587208257348,
     "user": {
      "displayName": "Karthik Bodapati",
      "photoUrl": "https://lh3.googleusercontent.com/a-/AOh14GjRtDXeyLxAZZDIxDocBBbr7SK7vsuoztgb52mLwQ=s64",
      "userId": "16344061707883524589"
     },
     "user_tz": 240
    },
    "id": "GL7F00X9L68e",
    "outputId": "7f3bb34c-9a3b-4724-bc84-a535fb751a15"
   },
   "outputs": [
    {
     "name": "stdout",
     "output_type": "stream",
     "text": [
      "*****************2 hidden layer with Regularization*****************\n"
     ]
    },
    {
     "data": {
      "image/png": "[encoded data removed]",
      "text/plain": [
       "<Figure size 432x288 with 3 Axes>"
      ]
     },
     "metadata": {
      "needs_background": "light",
      "tags": []
     },
     "output_type": "display_data"
    }
   ],
   "source": [
    "fig, axs = plt.subplots(2,2)\n",
    "print(\"*****************2 hidden layer with Regularization*****************\")\n",
    "fig.tight_layout()\n",
    "axs[0,0].plot([(i.history[\"accuracy\"]) for i in history])\n",
    "axs[0,0].plot([(i.history[\"val_accuracy\"]) for i in history])\n",
    "axs[0,0].title.set_text(\"Accuracy - Train and Test\")\n",
    "\n",
    "axs[0, 1].plot([(i.history[\"loss\"]) for i in history], label=\"Train\")\n",
    "axs[0, 1].plot([(i.history[\"val_loss\"]) for i in history], label=\"Test\")\n",
    "axs[0, 1].title.set_text(\"Loss - Train and Test\")\n",
    "\n",
    "\n",
    "axs[1, 0].plot(weight_diff)\n",
    "axs[1, 0].title.set_text(\"Weight Change\")\n",
    "\n",
    "axs[1,1].remove()\n"
   ]
  },
  {
   "cell_type": "markdown",
   "metadata": {
    "colab_type": "text",
    "id": "IZz1dmKHL7nv"
   },
   "source": [
    "### 3 Hidden Layers without reg"
   ]
  },
  {
   "cell_type": "code",
   "execution_count": 15,
   "metadata": {
    "colab": {
     "base_uri": "https://localhost:8080/",
     "height": 1000
    },
    "colab_type": "code",
    "executionInfo": {
     "elapsed": 174622,
     "status": "ok",
     "timestamp": 1587208292044,
     "user": {
      "displayName": "Karthik Bodapati",
      "photoUrl": "https://lh3.googleusercontent.com/a-/AOh14GjRtDXeyLxAZZDIxDocBBbr7SK7vsuoztgb52mLwQ=s64",
      "userId": "16344061707883524589"
     },
     "user_tz": 240
    },
    "id": "A5_UrXNyMcz0",
    "outputId": "0a3a6e3f-b772-446f-a630-219d83446f8c"
   },
   "outputs": [
    {
     "name": "stdout",
     "output_type": "stream",
     "text": [
      "Train on 1000 samples, validate on 1000 samples\n",
      "Epoch 1/1\n",
      "1000/1000 [==============================] - 1s 1ms/step - loss: 2.3013 - accuracy: 0.1630 - val_loss: 2.1727 - val_accuracy: 0.5020\n",
      "Train on 1000 samples, validate on 1000 samples\n",
      "Epoch 1/1\n",
      "1000/1000 [==============================] - 1s 1ms/step - loss: 2.0817 - accuracy: 0.5840 - val_loss: 2.0068 - val_accuracy: 0.5790\n",
      "Train on 1000 samples, validate on 1000 samples\n",
      "Epoch 1/1\n",
      "1000/1000 [==============================] - 1s 1ms/step - loss: 1.8743 - accuracy: 0.6500 - val_loss: 1.8187 - val_accuracy: 0.6800\n",
      "Train on 1000 samples, validate on 1000 samples\n",
      "Epoch 1/1\n",
      "1000/1000 [==============================] - 1s 1ms/step - loss: 1.6559 - accuracy: 0.7290 - val_loss: 1.6468 - val_accuracy: 0.6700\n",
      "Train on 1000 samples, validate on 1000 samples\n",
      "Epoch 1/1\n",
      "1000/1000 [==============================] - 1s 1ms/step - loss: 1.4495 - accuracy: 0.8100 - val_loss: 1.4898 - val_accuracy: 0.6920\n",
      "Train on 1000 samples, validate on 1000 samples\n",
      "Epoch 1/1\n",
      "1000/1000 [==============================] - 1s 1ms/step - loss: 1.2676 - accuracy: 0.8320 - val_loss: 1.3694 - val_accuracy: 0.7100\n",
      "Train on 1000 samples, validate on 1000 samples\n",
      "Epoch 1/1\n",
      "1000/1000 [==============================] - 1s 1ms/step - loss: 1.1041 - accuracy: 0.8540 - val_loss: 1.2802 - val_accuracy: 0.6920\n",
      "Train on 1000 samples, validate on 1000 samples\n",
      "Epoch 1/1\n",
      "1000/1000 [==============================] - 1s 1ms/step - loss: 0.9502 - accuracy: 0.8830 - val_loss: 1.1813 - val_accuracy: 0.7300\n",
      "Train on 1000 samples, validate on 1000 samples\n",
      "Epoch 1/1\n",
      "1000/1000 [==============================] - 1s 1ms/step - loss: 0.8368 - accuracy: 0.8930 - val_loss: 1.1057 - val_accuracy: 0.7120\n",
      "Train on 1000 samples, validate on 1000 samples\n",
      "Epoch 1/1\n",
      "1000/1000 [==============================] - 1s 1ms/step - loss: 0.7191 - accuracy: 0.9110 - val_loss: 1.0568 - val_accuracy: 0.7290\n",
      "Train on 1000 samples, validate on 1000 samples\n",
      "Epoch 1/1\n",
      "1000/1000 [==============================] - 1s 1ms/step - loss: 0.6392 - accuracy: 0.9260 - val_loss: 1.0007 - val_accuracy: 0.7540\n",
      "Train on 1000 samples, validate on 1000 samples\n",
      "Epoch 1/1\n",
      "1000/1000 [==============================] - 1s 1ms/step - loss: 0.5392 - accuracy: 0.9360 - val_loss: 0.9577 - val_accuracy: 0.7550\n",
      "Train on 1000 samples, validate on 1000 samples\n",
      "Epoch 1/1\n",
      "1000/1000 [==============================] - 1s 1ms/step - loss: 0.4615 - accuracy: 0.9550 - val_loss: 0.9904 - val_accuracy: 0.7310\n",
      "Train on 1000 samples, validate on 1000 samples\n",
      "Epoch 1/1\n",
      "1000/1000 [==============================] - 1s 1ms/step - loss: 0.3997 - accuracy: 0.9640 - val_loss: 0.9130 - val_accuracy: 0.7700\n",
      "Train on 1000 samples, validate on 1000 samples\n",
      "Epoch 1/1\n",
      "1000/1000 [==============================] - 1s 1ms/step - loss: 0.3530 - accuracy: 0.9660 - val_loss: 0.9323 - val_accuracy: 0.7410\n",
      "Train on 1000 samples, validate on 1000 samples\n",
      "Epoch 1/1\n",
      "1000/1000 [==============================] - 1s 1ms/step - loss: 0.3194 - accuracy: 0.9630 - val_loss: 0.9093 - val_accuracy: 0.7540\n",
      "Train on 1000 samples, validate on 1000 samples\n",
      "Epoch 1/1\n",
      "1000/1000 [==============================] - 1s 1ms/step - loss: 0.2875 - accuracy: 0.9640 - val_loss: 0.9516 - val_accuracy: 0.7550\n",
      "Train on 1000 samples, validate on 1000 samples\n",
      "Epoch 1/1\n",
      "1000/1000 [==============================] - 1s 1ms/step - loss: 0.2725 - accuracy: 0.9670 - val_loss: 0.9202 - val_accuracy: 0.7550\n",
      "Train on 1000 samples, validate on 1000 samples\n",
      "Epoch 1/1\n",
      "1000/1000 [==============================] - 1s 1ms/step - loss: 0.2439 - accuracy: 0.9710 - val_loss: 0.9272 - val_accuracy: 0.7470\n",
      "Train on 1000 samples, validate on 1000 samples\n",
      "Epoch 1/1\n",
      "1000/1000 [==============================] - 1s 1ms/step - loss: 0.2289 - accuracy: 0.9670 - val_loss: 0.9596 - val_accuracy: 0.7400\n",
      "Train on 1000 samples, validate on 1000 samples\n",
      "Epoch 1/1\n",
      "1000/1000 [==============================] - 1s 1ms/step - loss: 0.2472 - accuracy: 0.9560 - val_loss: 0.9209 - val_accuracy: 0.7600\n",
      "Train on 1000 samples, validate on 1000 samples\n",
      "Epoch 1/1\n",
      "1000/1000 [==============================] - 1s 1ms/step - loss: 0.1892 - accuracy: 0.9750 - val_loss: 0.8979 - val_accuracy: 0.7600\n",
      "Train on 1000 samples, validate on 1000 samples\n",
      "Epoch 1/1\n",
      "1000/1000 [==============================] - 1s 1ms/step - loss: 0.1602 - accuracy: 0.9780 - val_loss: 0.9021 - val_accuracy: 0.7670\n",
      "Train on 1000 samples, validate on 1000 samples\n",
      "Epoch 1/1\n",
      "1000/1000 [==============================] - 1s 1ms/step - loss: 0.1653 - accuracy: 0.9730 - val_loss: 0.9123 - val_accuracy: 0.7580\n",
      "Train on 1000 samples, validate on 1000 samples\n",
      "Epoch 1/1\n",
      "1000/1000 [==============================] - 1s 1ms/step - loss: 0.1437 - accuracy: 0.9790 - val_loss: 0.9242 - val_accuracy: 0.7670\n",
      "Train on 1000 samples, validate on 1000 samples\n",
      "Epoch 1/1\n",
      "1000/1000 [==============================] - 1s 1ms/step - loss: 0.1201 - accuracy: 0.9830 - val_loss: 0.9327 - val_accuracy: 0.7700\n",
      "Train on 1000 samples, validate on 1000 samples\n",
      "Epoch 1/1\n",
      "1000/1000 [==============================] - 1s 1ms/step - loss: 0.1095 - accuracy: 0.9840 - val_loss: 0.9515 - val_accuracy: 0.7630\n",
      "Train on 1000 samples, validate on 1000 samples\n",
      "Epoch 1/1\n",
      "1000/1000 [==============================] - 1s 1ms/step - loss: 0.1009 - accuracy: 0.9850 - val_loss: 0.9362 - val_accuracy: 0.7690\n",
      "Train on 1000 samples, validate on 1000 samples\n",
      "Epoch 1/1\n",
      "1000/1000 [==============================] - 1s 1ms/step - loss: 0.0947 - accuracy: 0.9860 - val_loss: 0.9480 - val_accuracy: 0.7720\n",
      "Train on 1000 samples, validate on 1000 samples\n",
      "Epoch 1/1\n",
      "1000/1000 [==============================] - 1s 1ms/step - loss: 0.0897 - accuracy: 0.9860 - val_loss: 0.9512 - val_accuracy: 0.7800\n"
     ]
    }
   ],
   "source": [
    "model = Sequential()\n",
    "model.add(Dense(784))\n",
    "model.add(Dense(30,activation=\"sigmoid\"))\n",
    "model.add(Dense(30,activation=\"sigmoid\"))\n",
    "model.add(Dense(30,activation=\"sigmoid\"))\n",
    "model.add(Dense(10, activation=\"softmax\"))\n",
    "model.compile(loss=keras.losses.categorical_crossentropy, optimizer=keras.optimizers.Adam(), metrics = [\"accuracy\"])\n",
    "\n",
    "history = list()\n",
    "weight_diff = list()\n",
    "\n",
    "for epoch in range(0,30):    \n",
    "    history.append(model.fit(train_x, train_y, batch_size=10, epochs=1 ,validation_data=(test_x, test_y)))\n",
    "    weight_diff.append(weights_difference(model))\n"
   ]
  },
  {
   "cell_type": "code",
   "execution_count": 16,
   "metadata": {
    "colab": {
     "base_uri": "https://localhost:8080/",
     "height": 326
    },
    "colab_type": "code",
    "executionInfo": {
     "elapsed": 176038,
     "status": "ok",
     "timestamp": 1587208293465,
     "user": {
      "displayName": "Karthik Bodapati",
      "photoUrl": "https://lh3.googleusercontent.com/a-/AOh14GjRtDXeyLxAZZDIxDocBBbr7SK7vsuoztgb52mLwQ=s64",
      "userId": "16344061707883524589"
     },
     "user_tz": 240
    },
    "id": "zgzMYoS6Mf_4",
    "outputId": "d726edec-3c54-4d4a-d48e-58889a281614"
   },
   "outputs": [
    {
     "name": "stdout",
     "output_type": "stream",
     "text": [
      "*****************3 hidden layer without Regularization*****************\n"
     ]
    },
    {
     "data": {
      "image/png": "[encoded data removed]",
      "text/plain": [
       "<Figure size 432x288 with 3 Axes>"
      ]
     },
     "metadata": {
      "needs_background": "light",
      "tags": []
     },
     "output_type": "display_data"
    }
   ],
   "source": [
    "fig, axs = plt.subplots(2,2)\n",
    "print(\"*****************3 hidden layer without Regularization*****************\")\n",
    "fig.tight_layout()\n",
    "axs[0,0].plot([(i.history[\"accuracy\"]) for i in history])\n",
    "axs[0,0].plot([(i.history[\"val_accuracy\"]) for i in history])\n",
    "axs[0,0].title.set_text(\"Accuracy - Train and Test\")\n",
    "\n",
    "axs[0, 1].plot([(i.history[\"loss\"]) for i in history], label=\"Train\")\n",
    "axs[0, 1].plot([(i.history[\"val_loss\"]) for i in history], label=\"Test\")\n",
    "axs[0, 1].title.set_text(\"Loss - Train and Test\")\n",
    "\n",
    "\n",
    "axs[1, 0].plot(weight_diff)\n",
    "axs[1, 0].title.set_text(\"Weight Change\")\n",
    "\n",
    "axs[1,1].remove()\n"
   ]
  },
  {
   "cell_type": "markdown",
   "metadata": {
    "colab_type": "text",
    "id": "sRS0RFDRMt1s"
   },
   "source": [
    "### 3 Hidden layers with reg"
   ]
  },
  {
   "cell_type": "code",
   "execution_count": 17,
   "metadata": {
    "colab": {
     "base_uri": "https://localhost:8080/",
     "height": 1000
    },
    "colab_type": "code",
    "executionInfo": {
     "elapsed": 210600,
     "status": "ok",
     "timestamp": 1587208328031,
     "user": {
      "displayName": "Karthik Bodapati",
      "photoUrl": "https://lh3.googleusercontent.com/a-/AOh14GjRtDXeyLxAZZDIxDocBBbr7SK7vsuoztgb52mLwQ=s64",
      "userId": "16344061707883524589"
     },
     "user_tz": 240
    },
    "id": "yAMXAS1WMlH6",
    "outputId": "414c0c25-70e6-4684-eb98-8ab3003fa2ba"
   },
   "outputs": [
    {
     "name": "stdout",
     "output_type": "stream",
     "text": [
      "Train on 1000 samples, validate on 1000 samples\n",
      "Epoch 1/1\n",
      "1000/1000 [==============================] - 1s 1ms/step - loss: 312.8098 - accuracy: 0.1000 - val_loss: 142.6339 - val_accuracy: 0.1000\n",
      "Train on 1000 samples, validate on 1000 samples\n",
      "Epoch 1/1\n",
      "1000/1000 [==============================] - 1s 1ms/step - loss: 88.8315 - accuracy: 0.1000 - val_loss: 49.9396 - val_accuracy: 0.1000\n",
      "Train on 1000 samples, validate on 1000 samples\n",
      "Epoch 1/1\n",
      "1000/1000 [==============================] - 1s 1ms/step - loss: 30.8113 - accuracy: 0.1000 - val_loss: 17.1197 - val_accuracy: 0.1000\n",
      "Train on 1000 samples, validate on 1000 samples\n",
      "Epoch 1/1\n",
      "1000/1000 [==============================] - 1s 1ms/step - loss: 10.8131 - accuracy: 0.0990 - val_loss: 6.4591 - val_accuracy: 0.1000\n",
      "Train on 1000 samples, validate on 1000 samples\n",
      "Epoch 1/1\n",
      "1000/1000 [==============================] - 1s 1ms/step - loss: 4.6013 - accuracy: 0.1000 - val_loss: 3.3621 - val_accuracy: 0.1000\n",
      "Train on 1000 samples, validate on 1000 samples\n",
      "Epoch 1/1\n",
      "1000/1000 [==============================] - 1s 1ms/step - loss: 2.8701 - accuracy: 0.0920 - val_loss: 2.5509 - val_accuracy: 0.1000\n",
      "Train on 1000 samples, validate on 1000 samples\n",
      "Epoch 1/1\n",
      "1000/1000 [==============================] - 1s 1ms/step - loss: 2.4329 - accuracy: 0.0970 - val_loss: 2.3572 - val_accuracy: 0.1000\n",
      "Train on 1000 samples, validate on 1000 samples\n",
      "Epoch 1/1\n",
      "1000/1000 [==============================] - 1s 1ms/step - loss: 2.3317 - accuracy: 0.0830 - val_loss: 2.3147 - val_accuracy: 0.1000\n",
      "Train on 1000 samples, validate on 1000 samples\n",
      "Epoch 1/1\n",
      "1000/1000 [==============================] - 1s 1ms/step - loss: 2.3105 - accuracy: 0.0960 - val_loss: 2.3062 - val_accuracy: 0.1000\n",
      "Train on 1000 samples, validate on 1000 samples\n",
      "Epoch 1/1\n",
      "1000/1000 [==============================] - 1s 1ms/step - loss: 2.3060 - accuracy: 0.0860 - val_loss: 2.3046 - val_accuracy: 0.1000\n",
      "Train on 1000 samples, validate on 1000 samples\n",
      "Epoch 1/1\n",
      "1000/1000 [==============================] - 1s 1ms/step - loss: 2.3049 - accuracy: 0.0920 - val_loss: 2.3037 - val_accuracy: 0.1000\n",
      "Train on 1000 samples, validate on 1000 samples\n",
      "Epoch 1/1\n",
      "1000/1000 [==============================] - 1s 1ms/step - loss: 2.3049 - accuracy: 0.0870 - val_loss: 2.3037 - val_accuracy: 0.1000\n",
      "Train on 1000 samples, validate on 1000 samples\n",
      "Epoch 1/1\n",
      "1000/1000 [==============================] - 1s 1ms/step - loss: 2.3047 - accuracy: 0.0890 - val_loss: 2.3040 - val_accuracy: 0.1000\n",
      "Train on 1000 samples, validate on 1000 samples\n",
      "Epoch 1/1\n",
      "1000/1000 [==============================] - 1s 1ms/step - loss: 2.3047 - accuracy: 0.0970 - val_loss: 2.3039 - val_accuracy: 0.1000\n",
      "Train on 1000 samples, validate on 1000 samples\n",
      "Epoch 1/1\n",
      "1000/1000 [==============================] - 1s 1ms/step - loss: 2.3045 - accuracy: 0.0950 - val_loss: 2.3038 - val_accuracy: 0.1000\n",
      "Train on 1000 samples, validate on 1000 samples\n",
      "Epoch 1/1\n",
      "1000/1000 [==============================] - 1s 1ms/step - loss: 2.3046 - accuracy: 0.0850 - val_loss: 2.3039 - val_accuracy: 0.1000\n",
      "Train on 1000 samples, validate on 1000 samples\n",
      "Epoch 1/1\n",
      "1000/1000 [==============================] - 1s 1ms/step - loss: 2.3044 - accuracy: 0.0880 - val_loss: 2.3034 - val_accuracy: 0.1000\n",
      "Train on 1000 samples, validate on 1000 samples\n",
      "Epoch 1/1\n",
      "1000/1000 [==============================] - 1s 1ms/step - loss: 2.3042 - accuracy: 0.0990 - val_loss: 2.3040 - val_accuracy: 0.1000\n",
      "Train on 1000 samples, validate on 1000 samples\n",
      "Epoch 1/1\n",
      "1000/1000 [==============================] - 1s 1ms/step - loss: 2.3044 - accuracy: 0.0850 - val_loss: 2.3038 - val_accuracy: 0.1000\n",
      "Train on 1000 samples, validate on 1000 samples\n",
      "Epoch 1/1\n",
      "1000/1000 [==============================] - 1s 1ms/step - loss: 2.3045 - accuracy: 0.0870 - val_loss: 2.3038 - val_accuracy: 0.1000\n",
      "Train on 1000 samples, validate on 1000 samples\n",
      "Epoch 1/1\n",
      "1000/1000 [==============================] - 1s 1ms/step - loss: 2.3043 - accuracy: 0.1030 - val_loss: 2.3041 - val_accuracy: 0.1000\n",
      "Train on 1000 samples, validate on 1000 samples\n",
      "Epoch 1/1\n",
      "1000/1000 [==============================] - 1s 1ms/step - loss: 2.3044 - accuracy: 0.0950 - val_loss: 2.3034 - val_accuracy: 0.1000\n",
      "Train on 1000 samples, validate on 1000 samples\n",
      "Epoch 1/1\n",
      "1000/1000 [==============================] - 1s 1ms/step - loss: 2.3047 - accuracy: 0.0900 - val_loss: 2.3037 - val_accuracy: 0.1000\n",
      "Train on 1000 samples, validate on 1000 samples\n",
      "Epoch 1/1\n",
      "1000/1000 [==============================] - 1s 1ms/step - loss: 2.3044 - accuracy: 0.0940 - val_loss: 2.3040 - val_accuracy: 0.1000\n",
      "Train on 1000 samples, validate on 1000 samples\n",
      "Epoch 1/1\n",
      "1000/1000 [==============================] - 1s 1ms/step - loss: 2.3045 - accuracy: 0.0910 - val_loss: 2.3035 - val_accuracy: 0.1000\n",
      "Train on 1000 samples, validate on 1000 samples\n",
      "Epoch 1/1\n",
      "1000/1000 [==============================] - 1s 1ms/step - loss: 2.3045 - accuracy: 0.1030 - val_loss: 2.3033 - val_accuracy: 0.1000\n",
      "Train on 1000 samples, validate on 1000 samples\n",
      "Epoch 1/1\n",
      "1000/1000 [==============================] - 1s 1ms/step - loss: 2.3044 - accuracy: 0.0920 - val_loss: 2.3042 - val_accuracy: 0.1000\n",
      "Train on 1000 samples, validate on 1000 samples\n",
      "Epoch 1/1\n",
      "1000/1000 [==============================] - 1s 1ms/step - loss: 2.3050 - accuracy: 0.0880 - val_loss: 2.3034 - val_accuracy: 0.1000\n",
      "Train on 1000 samples, validate on 1000 samples\n",
      "Epoch 1/1\n",
      "1000/1000 [==============================] - 1s 1ms/step - loss: 2.3044 - accuracy: 0.1060 - val_loss: 2.3037 - val_accuracy: 0.1000\n",
      "Train on 1000 samples, validate on 1000 samples\n",
      "Epoch 1/1\n",
      "1000/1000 [==============================] - 1s 1ms/step - loss: 2.3045 - accuracy: 0.0840 - val_loss: 2.3033 - val_accuracy: 0.1000\n"
     ]
    }
   ],
   "source": [
    "model = Sequential()\n",
    "model.add(Dense(784))\n",
    "model.add(Dense(30,activation=\"sigmoid\", kernel_regularizer=keras.regularizers.l2(5)) )\n",
    "model.add(Dense(30,activation=\"sigmoid\", kernel_regularizer=keras.regularizers.l2(5)) )\n",
    "model.add(Dense(30,activation=\"sigmoid\", kernel_regularizer=keras.regularizers.l2(5)) )\n",
    "model.add(Dense(10, activation=\"softmax\", kernel_regularizer=keras.regularizers.l2(5)))\n",
    "model.compile(loss=keras.losses.categorical_crossentropy, optimizer=keras.optimizers.Adam(), metrics = [\"accuracy\"])\n",
    "\n",
    "history = list()\n",
    "weight_diff = list()\n",
    "\n",
    "for epoch in range(0,30):    \n",
    "    history.append(model.fit(train_x, train_y, batch_size=10, epochs=1 ,validation_data=(test_x, test_y)))\n",
    "    weight_diff.append(weights_difference(model))"
   ]
  },
  {
   "cell_type": "code",
   "execution_count": 18,
   "metadata": {
    "colab": {
     "base_uri": "https://localhost:8080/",
     "height": 326
    },
    "colab_type": "code",
    "executionInfo": {
     "elapsed": 211656,
     "status": "ok",
     "timestamp": 1587208329092,
     "user": {
      "displayName": "Karthik Bodapati",
      "photoUrl": "https://lh3.googleusercontent.com/a-/AOh14GjRtDXeyLxAZZDIxDocBBbr7SK7vsuoztgb52mLwQ=s64",
      "userId": "16344061707883524589"
     },
     "user_tz": 240
    },
    "id": "JyWXVMnYM5HH",
    "outputId": "f292c4fe-bde1-43df-f433-61cf471c1bd6"
   },
   "outputs": [
    {
     "name": "stdout",
     "output_type": "stream",
     "text": [
      "*****************3 hidden layer with Regularization*****************\n"
     ]
    },
    {
     "data": {
      "image/png": "[encoded data removed]",
      "text/plain": [
       "<Figure size 432x288 with 3 Axes>"
      ]
     },
     "metadata": {
      "needs_background": "light",
      "tags": []
     },
     "output_type": "display_data"
    }
   ],
   "source": [
    "fig, axs = plt.subplots(2,2)\n",
    "print(\"*****************3 hidden layer with Regularization*****************\")\n",
    "fig.tight_layout()\n",
    "axs[0,0].plot([(i.history[\"accuracy\"]) for i in history])\n",
    "axs[0,0].plot([(i.history[\"val_accuracy\"]) for i in history])\n",
    "axs[0,0].title.set_text(\"Accuracy - Train and Test\")\n",
    "\n",
    "axs[0, 1].plot([(i.history[\"loss\"]) for i in history], label=\"Train\")\n",
    "axs[0, 1].plot([(i.history[\"val_loss\"]) for i in history], label=\"Test\")\n",
    "axs[0, 1].title.set_text(\"Loss - Train and Test\")\n",
    "\n",
    "\n",
    "axs[1, 0].plot(weight_diff)\n",
    "axs[1, 0].title.set_text(\"Weight Change\")\n",
    "\n",
    "axs[1,1].remove()\n"
   ]
  },
  {
   "cell_type": "markdown",
   "metadata": {
    "colab_type": "text",
    "id": "pwPPmgiSM-fF"
   },
   "source": [
    "# TASK 2C"
   ]
  },
  {
   "cell_type": "code",
   "execution_count": 0,
   "metadata": {
    "colab": {},
    "colab_type": "code",
    "id": "sUVzqV4hNC8k"
   },
   "outputs": [],
   "source": [
    "model = Sequential()\n",
    "\n",
    "model.add(Conv2D(30, kernel_size=(3,3), activation=\"relu\", input_shape=(28,28,1)))\n",
    "model.add(Dropout(0.2))\n",
    "# model.add(Conv2D(20, kernel_size=(3,3), activation=\"relu\"))\n",
    "model.add(Conv2D(10, kernel_size=(3,3), activation=\"relu\"))\n",
    "model.add(Flatten())\n",
    "model.add(Dense(128))\n",
    "model.add(Dropout(0.2))\n",
    "model.add(Dense(30,activation=\"relu\"))\n",
    "model.add(Dense(10, activation=\"softmax\"))\n",
    "\n",
    "model.compile(loss=keras.losses.categorical_crossentropy, optimizer=keras.optimizers.Adam(), metrics = [\"accuracy\"])"
   ]
  },
  {
   "cell_type": "code",
   "execution_count": 0,
   "metadata": {
    "colab": {},
    "colab_type": "code",
    "id": "G9c7Lk5WV5zD"
   },
   "outputs": [],
   "source": [
    "import random\n",
    "import cv2\n",
    "def img_op(data):\n",
    "    points = [np.float32([[1,0,0],[0,1,3]]),\n",
    "            np.float32([[1,0,0],[0,1,-3]]),\n",
    "            np.float32([[1,0,3],[0,1,0]]),\n",
    "            np.float32([[1,0,-3],[0,1,3]]),\n",
    "            np.float32([[1,0,3],[0,1,3]]),\n",
    "            np.float32([[1,0,3],[0,1,-3]]),\n",
    "            np.float32([[1,0,-3],[0,1,3]]),\n",
    "            np.float32([[1,0,-3],[0,1,-3]])  \n",
    "    ]\n",
    "    angles = [1, 2, 3, 360-1, 360-2, 360-3]\n",
    "\n",
    "    for i in range(1000):\n",
    "        img = data[i]\n",
    "        img = img.reshape(28,28)\n",
    "        point = random.sample(points,1)[0]\n",
    "        angle = random.sample(angles,1)[0]\n",
    "\n",
    "        img = cv2.warpAffine(img, point, (28,28))\n",
    "        rotation = cv2.getRotationMatrix2D((14,14), angle, 1.0)\n",
    "        img = cv2.warpAffine(img, rotation, (28,28))\n",
    "        img = img.reshape(28,28,1)\n",
    "        data[i] = img\n",
    "    return data"
   ]
  },
  {
   "cell_type": "code",
   "execution_count": 0,
   "metadata": {
    "colab": {},
    "colab_type": "code",
    "id": "joomWTJwOYYW"
   },
   "outputs": [],
   "source": [
    "train_x, train_y = collect1000(x_train, y_train)\n",
    "test_x, test_y = collect1000(x_test, y_test)\n",
    "\n",
    "train_y = keras.utils.to_categorical(train_y)\n",
    "test_y = keras.utils.to_categorical(test_y)\n",
    "\n",
    "train_x = train_x.reshape(1000,28,28,1)/255\n",
    "test_x = test_x.reshape(1000,28,28,1)/255\n",
    "\n",
    "train_x = img_op(train_x)\n",
    "test_x = img_op(test_x)"
   ]
  },
  {
   "cell_type": "code",
   "execution_count": 26,
   "metadata": {
    "colab": {
     "base_uri": "https://localhost:8080/",
     "height": 1000
    },
    "colab_type": "code",
    "executionInfo": {
     "elapsed": 106687,
     "status": "ok",
     "timestamp": 1587208463807,
     "user": {
      "displayName": "Karthik Bodapati",
      "photoUrl": "https://lh3.googleusercontent.com/a-/AOh14GjRtDXeyLxAZZDIxDocBBbr7SK7vsuoztgb52mLwQ=s64",
      "userId": "16344061707883524589"
     },
     "user_tz": 240
    },
    "id": "psICavU2PIcf",
    "outputId": "a3997507-4509-4d44-88c7-ea25027d0d8e"
   },
   "outputs": [
    {
     "name": "stdout",
     "output_type": "stream",
     "text": [
      "Train on 1000 samples, validate on 1000 samples\n",
      "Epoch 1/1\n",
      "1000/1000 [==============================] - 4s 4ms/step - loss: 2.0382 - accuracy: 0.2950 - val_loss: 1.7221 - val_accuracy: 0.4380\n",
      "Train on 1000 samples, validate on 1000 samples\n",
      "Epoch 1/1\n",
      "1000/1000 [==============================] - 3s 3ms/step - loss: 1.1782 - accuracy: 0.6240 - val_loss: 1.1572 - val_accuracy: 0.6310\n",
      "Train on 1000 samples, validate on 1000 samples\n",
      "Epoch 1/1\n",
      "1000/1000 [==============================] - 3s 3ms/step - loss: 0.5403 - accuracy: 0.8300 - val_loss: 0.9882 - val_accuracy: 0.7000\n",
      "Train on 1000 samples, validate on 1000 samples\n",
      "Epoch 1/1\n",
      "1000/1000 [==============================] - 3s 3ms/step - loss: 0.2948 - accuracy: 0.9060 - val_loss: 0.9233 - val_accuracy: 0.7330\n",
      "Train on 1000 samples, validate on 1000 samples\n",
      "Epoch 1/1\n",
      "1000/1000 [==============================] - 3s 3ms/step - loss: 0.1688 - accuracy: 0.9430 - val_loss: 1.0391 - val_accuracy: 0.7150\n",
      "Train on 1000 samples, validate on 1000 samples\n",
      "Epoch 1/1\n",
      "1000/1000 [==============================] - 4s 4ms/step - loss: 0.1133 - accuracy: 0.9670 - val_loss: 1.1040 - val_accuracy: 0.7400\n",
      "Train on 1000 samples, validate on 1000 samples\n",
      "Epoch 1/1\n",
      "1000/1000 [==============================] - 4s 4ms/step - loss: 0.0881 - accuracy: 0.9730 - val_loss: 0.9965 - val_accuracy: 0.7690\n",
      "Train on 1000 samples, validate on 1000 samples\n",
      "Epoch 1/1\n",
      "1000/1000 [==============================] - 3s 3ms/step - loss: 0.0586 - accuracy: 0.9830 - val_loss: 1.2730 - val_accuracy: 0.7310\n",
      "Train on 1000 samples, validate on 1000 samples\n",
      "Epoch 1/1\n",
      "1000/1000 [==============================] - 3s 3ms/step - loss: 0.0584 - accuracy: 0.9830 - val_loss: 1.1314 - val_accuracy: 0.7310\n",
      "Train on 1000 samples, validate on 1000 samples\n",
      "Epoch 1/1\n",
      "1000/1000 [==============================] - 3s 3ms/step - loss: 0.0418 - accuracy: 0.9890 - val_loss: 1.2795 - val_accuracy: 0.7380\n",
      "Train on 1000 samples, validate on 1000 samples\n",
      "Epoch 1/1\n",
      "1000/1000 [==============================] - 3s 3ms/step - loss: 0.0395 - accuracy: 0.9860 - val_loss: 1.3097 - val_accuracy: 0.7410\n",
      "Train on 1000 samples, validate on 1000 samples\n",
      "Epoch 1/1\n",
      "1000/1000 [==============================] - 3s 3ms/step - loss: 0.0541 - accuracy: 0.9830 - val_loss: 1.2025 - val_accuracy: 0.7430\n",
      "Train on 1000 samples, validate on 1000 samples\n",
      "Epoch 1/1\n",
      "1000/1000 [==============================] - 3s 3ms/step - loss: 0.0185 - accuracy: 0.9950 - val_loss: 1.2958 - val_accuracy: 0.7450\n",
      "Train on 1000 samples, validate on 1000 samples\n",
      "Epoch 1/1\n",
      "1000/1000 [==============================] - 3s 3ms/step - loss: 0.0219 - accuracy: 0.9940 - val_loss: 1.3840 - val_accuracy: 0.7340\n",
      "Train on 1000 samples, validate on 1000 samples\n",
      "Epoch 1/1\n",
      "1000/1000 [==============================] - 4s 4ms/step - loss: 0.0144 - accuracy: 0.9950 - val_loss: 1.3182 - val_accuracy: 0.7540\n",
      "Train on 1000 samples, validate on 1000 samples\n",
      "Epoch 1/1\n",
      "1000/1000 [==============================] - 4s 4ms/step - loss: 0.0197 - accuracy: 0.9960 - val_loss: 1.4519 - val_accuracy: 0.7450\n",
      "Train on 1000 samples, validate on 1000 samples\n",
      "Epoch 1/1\n",
      "1000/1000 [==============================] - 4s 4ms/step - loss: 0.0131 - accuracy: 0.9970 - val_loss: 1.3391 - val_accuracy: 0.7610\n",
      "Train on 1000 samples, validate on 1000 samples\n",
      "Epoch 1/1\n",
      "1000/1000 [==============================] - 4s 4ms/step - loss: 0.0210 - accuracy: 0.9930 - val_loss: 1.4670 - val_accuracy: 0.7360\n",
      "Train on 1000 samples, validate on 1000 samples\n",
      "Epoch 1/1\n",
      "1000/1000 [==============================] - 4s 4ms/step - loss: 0.0194 - accuracy: 0.9910 - val_loss: 1.5210 - val_accuracy: 0.7180\n",
      "Train on 1000 samples, validate on 1000 samples\n",
      "Epoch 1/1\n",
      "1000/1000 [==============================] - 4s 4ms/step - loss: 0.0761 - accuracy: 0.9740 - val_loss: 1.3825 - val_accuracy: 0.7500\n",
      "Train on 1000 samples, validate on 1000 samples\n",
      "Epoch 1/1\n",
      "1000/1000 [==============================] - 3s 3ms/step - loss: 0.0842 - accuracy: 0.9730 - val_loss: 1.3557 - val_accuracy: 0.7430\n",
      "Train on 1000 samples, validate on 1000 samples\n",
      "Epoch 1/1\n",
      "1000/1000 [==============================] - 3s 3ms/step - loss: 0.0195 - accuracy: 0.9960 - val_loss: 1.3764 - val_accuracy: 0.7510\n",
      "Train on 1000 samples, validate on 1000 samples\n",
      "Epoch 1/1\n",
      "1000/1000 [==============================] - 3s 3ms/step - loss: 0.0057 - accuracy: 0.9980 - val_loss: 1.3815 - val_accuracy: 0.7640\n",
      "Train on 1000 samples, validate on 1000 samples\n",
      "Epoch 1/1\n",
      "1000/1000 [==============================] - 4s 4ms/step - loss: 0.0045 - accuracy: 0.9990 - val_loss: 1.4740 - val_accuracy: 0.7520\n",
      "Train on 1000 samples, validate on 1000 samples\n",
      "Epoch 1/1\n",
      "1000/1000 [==============================] - 3s 3ms/step - loss: 0.0033 - accuracy: 0.9990 - val_loss: 1.5387 - val_accuracy: 0.7460\n",
      "Train on 1000 samples, validate on 1000 samples\n",
      "Epoch 1/1\n",
      "1000/1000 [==============================] - 3s 3ms/step - loss: 0.0128 - accuracy: 0.9970 - val_loss: 1.4468 - val_accuracy: 0.7580\n",
      "Train on 1000 samples, validate on 1000 samples\n",
      "Epoch 1/1\n",
      "1000/1000 [==============================] - 3s 3ms/step - loss: 0.0253 - accuracy: 0.9930 - val_loss: 1.4485 - val_accuracy: 0.7530\n",
      "Train on 1000 samples, validate on 1000 samples\n",
      "Epoch 1/1\n",
      "1000/1000 [==============================] - 4s 4ms/step - loss: 0.0102 - accuracy: 0.9980 - val_loss: 1.4684 - val_accuracy: 0.7330\n",
      "Train on 1000 samples, validate on 1000 samples\n",
      "Epoch 1/1\n",
      "1000/1000 [==============================] - 3s 3ms/step - loss: 0.0187 - accuracy: 0.9960 - val_loss: 1.5025 - val_accuracy: 0.7590\n",
      "Train on 1000 samples, validate on 1000 samples\n",
      "Epoch 1/1\n",
      "1000/1000 [==============================] - 4s 4ms/step - loss: 0.0270 - accuracy: 0.9900 - val_loss: 1.6079 - val_accuracy: 0.7290\n"
     ]
    }
   ],
   "source": [
    "history = list()\n",
    "weight_diff = list()\n",
    "\n",
    "for epoch in range(0,30):    \n",
    "    history.append(model.fit(train_x, train_y, batch_size=10, epochs=1 ,validation_data=(test_x, test_y)))"
   ]
  },
  {
   "cell_type": "code",
   "execution_count": 27,
   "metadata": {
    "colab": {
     "base_uri": "https://localhost:8080/",
     "height": 171
    },
    "colab_type": "code",
    "executionInfo": {
     "elapsed": 914,
     "status": "ok",
     "timestamp": 1587208464730,
     "user": {
      "displayName": "Karthik Bodapati",
      "photoUrl": "https://lh3.googleusercontent.com/a-/AOh14GjRtDXeyLxAZZDIxDocBBbr7SK7vsuoztgb52mLwQ=s64",
      "userId": "16344061707883524589"
     },
     "user_tz": 240
    },
    "id": "52rvU7AcapBm",
    "outputId": "20ac4cbe-66d2-4424-fee6-9149dd6b18b7"
   },
   "outputs": [
    {
     "data": {
      "image/png": "[encoded data removed]",
      "text/plain": [
       "<Figure size 432x288 with 2 Axes>"
      ]
     },
     "metadata": {
      "needs_background": "light",
      "tags": []
     },
     "output_type": "display_data"
    }
   ],
   "source": [
    "fig, axs = plt.subplots(2,2)\n",
    "fig.tight_layout()\n",
    "axs[0,0].plot([(i.history[\"accuracy\"]) for i in history])\n",
    "axs[0,0].plot([(i.history[\"val_accuracy\"]) for i in history])\n",
    "axs[0,0].title.set_text(\"Accuracy - Train and Test\")\n",
    "\n",
    "axs[0, 1].plot([(i.history[\"loss\"]) for i in history], label=\"Train\")\n",
    "axs[0, 1].plot([(i.history[\"val_loss\"]) for i in history], label=\"Test\")\n",
    "axs[0, 1].title.set_text(\"Loss - Train and Test\")\n",
    "\n",
    "axs[1,0].remove()\n",
    "axs[1,1].remove()\n"
   ]
  },
  {
   "cell_type": "code",
   "execution_count": 0,
   "metadata": {
    "colab": {},
    "colab_type": "code",
    "id": "TfcTqGZH83-1"
   },
   "outputs": [],
   "source": []
  }
 ],
 "metadata": {
  "colab": {
   "authorship_tag": "ABX9TyNAVm1/q2gTpulvUVKo0YHE",
   "collapsed_sections": [],
   "name": "PR_NN.ipynb",
   "provenance": []
  },
  "kernelspec": {
   "display_name": "Python 3",
   "language": "python",
   "name": "python3"
  },
  "language_info": {
   "codemirror_mode": {
    "name": "ipython",
    "version": 3
   },
   "file_extension": ".py",
   "mimetype": "text/x-python",
   "name": "python",
   "nbconvert_exporter": "python",
   "pygments_lexer": "ipython3",
   "version": "3.9.1"
  }
 },
 "nbformat": 4,
 "nbformat_minor": 1
}
